{
 "cells": [
  {
   "cell_type": "code",
   "execution_count": 2,
   "id": "b736b061",
   "metadata": {},
   "outputs": [],
   "source": [
    "import pandas as pd\n",
    "import matplotlib.pyplot as plt\n",
    "import seaborn as sns\n",
    "import numpy as np\n",
    "import itertools\n",
    "import scipy.stats as st\n",
    "import statistics as stat\n",
    "\n",
    "%matplotlib inline"
   ]
  },
  {
   "cell_type": "code",
   "execution_count": 3,
   "id": "c904c30a",
   "metadata": {},
   "outputs": [
    {
     "name": "stderr",
     "output_type": "stream",
     "text": [
      "C:\\Users\\dylan\\AppData\\Local\\Temp\\ipykernel_46272\\688577527.py:9: DtypeWarning: Columns (0) have mixed types. Specify dtype option on import or set low_memory=False.\n",
      "  df_fw_dm = pd.read_csv(df_3)\n"
     ]
    }
   ],
   "source": [
    "df_1 = 'df_final_demo.csv'\n",
    "df_2= 'df_final_experiment_clients.csv'\n",
    "df_3 = 'df_final_web_data_merged.csv'\n",
    "\n",
    "#df_t1 = 'df_final_web_data_pt_1.csv'\n",
    "\n",
    "df_fd = pd.read_csv(df_1)\n",
    "df_fe_c = pd.read_csv(df_2)\n",
    "df_fw_dm = pd.read_csv(df_3)\n",
    "#df_p1 = pd.read_csv(df_t1)\n"
   ]
  },
  {
   "cell_type": "code",
   "execution_count": 6,
   "id": "93b6c9ea",
   "metadata": {},
   "outputs": [
    {
     "data": {
      "text/html": [
       "<div>\n",
       "<style scoped>\n",
       "    .dataframe tbody tr th:only-of-type {\n",
       "        vertical-align: middle;\n",
       "    }\n",
       "\n",
       "    .dataframe tbody tr th {\n",
       "        vertical-align: top;\n",
       "    }\n",
       "\n",
       "    .dataframe thead th {\n",
       "        text-align: right;\n",
       "    }\n",
       "</style>\n",
       "<table border=\"1\" class=\"dataframe\">\n",
       "  <thead>\n",
       "    <tr style=\"text-align: right;\">\n",
       "      <th></th>\n",
       "      <th>client_id</th>\n",
       "      <th>visitor_id</th>\n",
       "      <th>visit_id</th>\n",
       "      <th>process_step</th>\n",
       "      <th>date_time</th>\n",
       "    </tr>\n",
       "  </thead>\n",
       "  <tbody>\n",
       "    <tr>\n",
       "      <th>0</th>\n",
       "      <td>9988021</td>\n",
       "      <td>580560515_7732621733</td>\n",
       "      <td>781255054_21935453173_531117</td>\n",
       "      <td>step_3</td>\n",
       "      <td>2017-04-17 15:27:07</td>\n",
       "    </tr>\n",
       "    <tr>\n",
       "      <th>1</th>\n",
       "      <td>9988021</td>\n",
       "      <td>580560515_7732621733</td>\n",
       "      <td>781255054_21935453173_531117</td>\n",
       "      <td>step_2</td>\n",
       "      <td>2017-04-17 15:26:51</td>\n",
       "    </tr>\n",
       "    <tr>\n",
       "      <th>2</th>\n",
       "      <td>9988021</td>\n",
       "      <td>580560515_7732621733</td>\n",
       "      <td>781255054_21935453173_531117</td>\n",
       "      <td>step_3</td>\n",
       "      <td>2017-04-17 15:19:22</td>\n",
       "    </tr>\n",
       "    <tr>\n",
       "      <th>3</th>\n",
       "      <td>9988021</td>\n",
       "      <td>580560515_7732621733</td>\n",
       "      <td>781255054_21935453173_531117</td>\n",
       "      <td>step_2</td>\n",
       "      <td>2017-04-17 15:19:13</td>\n",
       "    </tr>\n",
       "    <tr>\n",
       "      <th>4</th>\n",
       "      <td>9988021</td>\n",
       "      <td>580560515_7732621733</td>\n",
       "      <td>781255054_21935453173_531117</td>\n",
       "      <td>step_3</td>\n",
       "      <td>2017-04-17 15:18:04</td>\n",
       "    </tr>\n",
       "    <tr>\n",
       "      <th>...</th>\n",
       "      <td>...</td>\n",
       "      <td>...</td>\n",
       "      <td>...</td>\n",
       "      <td>...</td>\n",
       "      <td>...</td>\n",
       "    </tr>\n",
       "    <tr>\n",
       "      <th>755401</th>\n",
       "      <td>9668240</td>\n",
       "      <td>388766751_9038881013</td>\n",
       "      <td>922267647_3096648104_968866</td>\n",
       "      <td>start</td>\n",
       "      <td>2017-05-24 18:46:10</td>\n",
       "    </tr>\n",
       "    <tr>\n",
       "      <th>755402</th>\n",
       "      <td>9668240</td>\n",
       "      <td>388766751_9038881013</td>\n",
       "      <td>922267647_3096648104_968866</td>\n",
       "      <td>start</td>\n",
       "      <td>2017-05-24 18:45:29</td>\n",
       "    </tr>\n",
       "    <tr>\n",
       "      <th>755403</th>\n",
       "      <td>9668240</td>\n",
       "      <td>388766751_9038881013</td>\n",
       "      <td>922267647_3096648104_968866</td>\n",
       "      <td>step_1</td>\n",
       "      <td>2017-05-24 18:44:51</td>\n",
       "    </tr>\n",
       "    <tr>\n",
       "      <th>755404</th>\n",
       "      <td>9668240</td>\n",
       "      <td>388766751_9038881013</td>\n",
       "      <td>922267647_3096648104_968866</td>\n",
       "      <td>start</td>\n",
       "      <td>2017-05-24 18:44:34</td>\n",
       "    </tr>\n",
       "    <tr>\n",
       "      <th>755405</th>\n",
       "      <td>674799</td>\n",
       "      <td>947159805_81558194550</td>\n",
       "      <td>86152093_47511127657_716022</td>\n",
       "      <td>start</td>\n",
       "      <td>2017-06-03 12:17:09</td>\n",
       "    </tr>\n",
       "  </tbody>\n",
       "</table>\n",
       "<p>755406 rows × 5 columns</p>\n",
       "</div>"
      ],
      "text/plain": [
       "       client_id             visitor_id                      visit_id  \\\n",
       "0        9988021   580560515_7732621733  781255054_21935453173_531117   \n",
       "1        9988021   580560515_7732621733  781255054_21935453173_531117   \n",
       "2        9988021   580560515_7732621733  781255054_21935453173_531117   \n",
       "3        9988021   580560515_7732621733  781255054_21935453173_531117   \n",
       "4        9988021   580560515_7732621733  781255054_21935453173_531117   \n",
       "...          ...                    ...                           ...   \n",
       "755401   9668240   388766751_9038881013   922267647_3096648104_968866   \n",
       "755402   9668240   388766751_9038881013   922267647_3096648104_968866   \n",
       "755403   9668240   388766751_9038881013   922267647_3096648104_968866   \n",
       "755404   9668240   388766751_9038881013   922267647_3096648104_968866   \n",
       "755405    674799  947159805_81558194550   86152093_47511127657_716022   \n",
       "\n",
       "       process_step            date_time  \n",
       "0            step_3  2017-04-17 15:27:07  \n",
       "1            step_2  2017-04-17 15:26:51  \n",
       "2            step_3  2017-04-17 15:19:22  \n",
       "3            step_2  2017-04-17 15:19:13  \n",
       "4            step_3  2017-04-17 15:18:04  \n",
       "...             ...                  ...  \n",
       "755401        start  2017-05-24 18:46:10  \n",
       "755402        start  2017-05-24 18:45:29  \n",
       "755403       step_1  2017-05-24 18:44:51  \n",
       "755404        start  2017-05-24 18:44:34  \n",
       "755405        start  2017-06-03 12:17:09  \n",
       "\n",
       "[755406 rows x 5 columns]"
      ]
     },
     "execution_count": 6,
     "metadata": {},
     "output_type": "execute_result"
    }
   ],
   "source": [
    "df_fw_dm"
   ]
  },
  {
   "cell_type": "code",
   "execution_count": 7,
   "id": "196934cf",
   "metadata": {},
   "outputs": [
    {
     "data": {
      "text/html": [
       "<div>\n",
       "<style scoped>\n",
       "    .dataframe tbody tr th:only-of-type {\n",
       "        vertical-align: middle;\n",
       "    }\n",
       "\n",
       "    .dataframe tbody tr th {\n",
       "        vertical-align: top;\n",
       "    }\n",
       "\n",
       "    .dataframe thead th {\n",
       "        text-align: right;\n",
       "    }\n",
       "</style>\n",
       "<table border=\"1\" class=\"dataframe\">\n",
       "  <thead>\n",
       "    <tr style=\"text-align: right;\">\n",
       "      <th></th>\n",
       "      <th>client_id</th>\n",
       "      <th>Variation</th>\n",
       "    </tr>\n",
       "  </thead>\n",
       "  <tbody>\n",
       "    <tr>\n",
       "      <th>0</th>\n",
       "      <td>9988021</td>\n",
       "      <td>Test</td>\n",
       "    </tr>\n",
       "    <tr>\n",
       "      <th>1</th>\n",
       "      <td>8320017</td>\n",
       "      <td>Test</td>\n",
       "    </tr>\n",
       "    <tr>\n",
       "      <th>2</th>\n",
       "      <td>4033851</td>\n",
       "      <td>Control</td>\n",
       "    </tr>\n",
       "    <tr>\n",
       "      <th>3</th>\n",
       "      <td>1982004</td>\n",
       "      <td>Test</td>\n",
       "    </tr>\n",
       "    <tr>\n",
       "      <th>4</th>\n",
       "      <td>9294070</td>\n",
       "      <td>Control</td>\n",
       "    </tr>\n",
       "    <tr>\n",
       "      <th>...</th>\n",
       "      <td>...</td>\n",
       "      <td>...</td>\n",
       "    </tr>\n",
       "    <tr>\n",
       "      <th>70604</th>\n",
       "      <td>2443347</td>\n",
       "      <td>NaN</td>\n",
       "    </tr>\n",
       "    <tr>\n",
       "      <th>70605</th>\n",
       "      <td>8788427</td>\n",
       "      <td>NaN</td>\n",
       "    </tr>\n",
       "    <tr>\n",
       "      <th>70606</th>\n",
       "      <td>266828</td>\n",
       "      <td>NaN</td>\n",
       "    </tr>\n",
       "    <tr>\n",
       "      <th>70607</th>\n",
       "      <td>1266421</td>\n",
       "      <td>NaN</td>\n",
       "    </tr>\n",
       "    <tr>\n",
       "      <th>70608</th>\n",
       "      <td>9895983</td>\n",
       "      <td>NaN</td>\n",
       "    </tr>\n",
       "  </tbody>\n",
       "</table>\n",
       "<p>70609 rows × 2 columns</p>\n",
       "</div>"
      ],
      "text/plain": [
       "       client_id Variation\n",
       "0        9988021      Test\n",
       "1        8320017      Test\n",
       "2        4033851   Control\n",
       "3        1982004      Test\n",
       "4        9294070   Control\n",
       "...          ...       ...\n",
       "70604    2443347       NaN\n",
       "70605    8788427       NaN\n",
       "70606     266828       NaN\n",
       "70607    1266421       NaN\n",
       "70608    9895983       NaN\n",
       "\n",
       "[70609 rows x 2 columns]"
      ]
     },
     "execution_count": 7,
     "metadata": {},
     "output_type": "execute_result"
    }
   ],
   "source": [
    "df_fe_c"
   ]
  },
  {
   "cell_type": "markdown",
   "id": "7bfdf101",
   "metadata": {},
   "source": [
    "The marked client ID's are the one that were in the test, the others were not in the test"
   ]
  },
  {
   "cell_type": "code",
   "execution_count": 8,
   "id": "0fe36a6a",
   "metadata": {},
   "outputs": [
    {
     "data": {
      "text/html": [
       "<div>\n",
       "<style scoped>\n",
       "    .dataframe tbody tr th:only-of-type {\n",
       "        vertical-align: middle;\n",
       "    }\n",
       "\n",
       "    .dataframe tbody tr th {\n",
       "        vertical-align: top;\n",
       "    }\n",
       "\n",
       "    .dataframe thead th {\n",
       "        text-align: right;\n",
       "    }\n",
       "</style>\n",
       "<table border=\"1\" class=\"dataframe\">\n",
       "  <thead>\n",
       "    <tr style=\"text-align: right;\">\n",
       "      <th></th>\n",
       "      <th>client_id</th>\n",
       "      <th>clnt_tenure_yr</th>\n",
       "      <th>clnt_tenure_mnth</th>\n",
       "      <th>clnt_age</th>\n",
       "      <th>gendr</th>\n",
       "      <th>num_accts</th>\n",
       "      <th>bal</th>\n",
       "      <th>calls_6_mnth</th>\n",
       "      <th>logons_6_mnth</th>\n",
       "    </tr>\n",
       "  </thead>\n",
       "  <tbody>\n",
       "    <tr>\n",
       "      <th>0</th>\n",
       "      <td>836976</td>\n",
       "      <td>6.0</td>\n",
       "      <td>73.0</td>\n",
       "      <td>60.5</td>\n",
       "      <td>U</td>\n",
       "      <td>2.0</td>\n",
       "      <td>45105.30</td>\n",
       "      <td>6.0</td>\n",
       "      <td>9.0</td>\n",
       "    </tr>\n",
       "    <tr>\n",
       "      <th>1</th>\n",
       "      <td>2304905</td>\n",
       "      <td>7.0</td>\n",
       "      <td>94.0</td>\n",
       "      <td>58.0</td>\n",
       "      <td>U</td>\n",
       "      <td>2.0</td>\n",
       "      <td>110860.30</td>\n",
       "      <td>6.0</td>\n",
       "      <td>9.0</td>\n",
       "    </tr>\n",
       "    <tr>\n",
       "      <th>2</th>\n",
       "      <td>1439522</td>\n",
       "      <td>5.0</td>\n",
       "      <td>64.0</td>\n",
       "      <td>32.0</td>\n",
       "      <td>U</td>\n",
       "      <td>2.0</td>\n",
       "      <td>52467.79</td>\n",
       "      <td>6.0</td>\n",
       "      <td>9.0</td>\n",
       "    </tr>\n",
       "    <tr>\n",
       "      <th>3</th>\n",
       "      <td>1562045</td>\n",
       "      <td>16.0</td>\n",
       "      <td>198.0</td>\n",
       "      <td>49.0</td>\n",
       "      <td>M</td>\n",
       "      <td>2.0</td>\n",
       "      <td>67454.65</td>\n",
       "      <td>3.0</td>\n",
       "      <td>6.0</td>\n",
       "    </tr>\n",
       "    <tr>\n",
       "      <th>4</th>\n",
       "      <td>5126305</td>\n",
       "      <td>12.0</td>\n",
       "      <td>145.0</td>\n",
       "      <td>33.0</td>\n",
       "      <td>F</td>\n",
       "      <td>2.0</td>\n",
       "      <td>103671.75</td>\n",
       "      <td>0.0</td>\n",
       "      <td>3.0</td>\n",
       "    </tr>\n",
       "    <tr>\n",
       "      <th>...</th>\n",
       "      <td>...</td>\n",
       "      <td>...</td>\n",
       "      <td>...</td>\n",
       "      <td>...</td>\n",
       "      <td>...</td>\n",
       "      <td>...</td>\n",
       "      <td>...</td>\n",
       "      <td>...</td>\n",
       "      <td>...</td>\n",
       "    </tr>\n",
       "    <tr>\n",
       "      <th>70604</th>\n",
       "      <td>7993686</td>\n",
       "      <td>4.0</td>\n",
       "      <td>56.0</td>\n",
       "      <td>38.5</td>\n",
       "      <td>U</td>\n",
       "      <td>3.0</td>\n",
       "      <td>1411062.68</td>\n",
       "      <td>5.0</td>\n",
       "      <td>5.0</td>\n",
       "    </tr>\n",
       "    <tr>\n",
       "      <th>70605</th>\n",
       "      <td>8981690</td>\n",
       "      <td>12.0</td>\n",
       "      <td>148.0</td>\n",
       "      <td>31.0</td>\n",
       "      <td>M</td>\n",
       "      <td>2.0</td>\n",
       "      <td>101867.07</td>\n",
       "      <td>6.0</td>\n",
       "      <td>6.0</td>\n",
       "    </tr>\n",
       "    <tr>\n",
       "      <th>70606</th>\n",
       "      <td>333913</td>\n",
       "      <td>16.0</td>\n",
       "      <td>198.0</td>\n",
       "      <td>61.5</td>\n",
       "      <td>F</td>\n",
       "      <td>2.0</td>\n",
       "      <td>40745.00</td>\n",
       "      <td>3.0</td>\n",
       "      <td>3.0</td>\n",
       "    </tr>\n",
       "    <tr>\n",
       "      <th>70607</th>\n",
       "      <td>1573142</td>\n",
       "      <td>21.0</td>\n",
       "      <td>255.0</td>\n",
       "      <td>68.0</td>\n",
       "      <td>M</td>\n",
       "      <td>3.0</td>\n",
       "      <td>475114.69</td>\n",
       "      <td>4.0</td>\n",
       "      <td>4.0</td>\n",
       "    </tr>\n",
       "    <tr>\n",
       "      <th>70608</th>\n",
       "      <td>5602139</td>\n",
       "      <td>21.0</td>\n",
       "      <td>254.0</td>\n",
       "      <td>59.5</td>\n",
       "      <td>F</td>\n",
       "      <td>3.0</td>\n",
       "      <td>157498.73</td>\n",
       "      <td>7.0</td>\n",
       "      <td>7.0</td>\n",
       "    </tr>\n",
       "  </tbody>\n",
       "</table>\n",
       "<p>70609 rows × 9 columns</p>\n",
       "</div>"
      ],
      "text/plain": [
       "       client_id  clnt_tenure_yr  clnt_tenure_mnth  clnt_age gendr  num_accts  \\\n",
       "0         836976             6.0              73.0      60.5     U        2.0   \n",
       "1        2304905             7.0              94.0      58.0     U        2.0   \n",
       "2        1439522             5.0              64.0      32.0     U        2.0   \n",
       "3        1562045            16.0             198.0      49.0     M        2.0   \n",
       "4        5126305            12.0             145.0      33.0     F        2.0   \n",
       "...          ...             ...               ...       ...   ...        ...   \n",
       "70604    7993686             4.0              56.0      38.5     U        3.0   \n",
       "70605    8981690            12.0             148.0      31.0     M        2.0   \n",
       "70606     333913            16.0             198.0      61.5     F        2.0   \n",
       "70607    1573142            21.0             255.0      68.0     M        3.0   \n",
       "70608    5602139            21.0             254.0      59.5     F        3.0   \n",
       "\n",
       "              bal  calls_6_mnth  logons_6_mnth  \n",
       "0        45105.30           6.0            9.0  \n",
       "1       110860.30           6.0            9.0  \n",
       "2        52467.79           6.0            9.0  \n",
       "3        67454.65           3.0            6.0  \n",
       "4       103671.75           0.0            3.0  \n",
       "...           ...           ...            ...  \n",
       "70604  1411062.68           5.0            5.0  \n",
       "70605   101867.07           6.0            6.0  \n",
       "70606    40745.00           3.0            3.0  \n",
       "70607   475114.69           4.0            4.0  \n",
       "70608   157498.73           7.0            7.0  \n",
       "\n",
       "[70609 rows x 9 columns]"
      ]
     },
     "execution_count": 8,
     "metadata": {},
     "output_type": "execute_result"
    }
   ],
   "source": [
    "df_fd"
   ]
  },
  {
   "cell_type": "code",
   "execution_count": 9,
   "id": "0cea2654",
   "metadata": {},
   "outputs": [
    {
     "data": {
      "text/plain": [
       "client_id       0\n",
       "visitor_id      0\n",
       "visit_id        0\n",
       "process_step    0\n",
       "date_time       0\n",
       "dtype: int64"
      ]
     },
     "execution_count": 9,
     "metadata": {},
     "output_type": "execute_result"
    }
   ],
   "source": [
    "df_fw_dm.isnull().sum()"
   ]
  },
  {
   "cell_type": "code",
   "execution_count": 10,
   "id": "92c2230a",
   "metadata": {},
   "outputs": [
    {
     "data": {
      "text/html": [
       "<div>\n",
       "<style scoped>\n",
       "    .dataframe tbody tr th:only-of-type {\n",
       "        vertical-align: middle;\n",
       "    }\n",
       "\n",
       "    .dataframe tbody tr th {\n",
       "        vertical-align: top;\n",
       "    }\n",
       "\n",
       "    .dataframe thead th {\n",
       "        text-align: right;\n",
       "    }\n",
       "</style>\n",
       "<table border=\"1\" class=\"dataframe\">\n",
       "  <thead>\n",
       "    <tr style=\"text-align: right;\">\n",
       "      <th></th>\n",
       "      <th>client_id</th>\n",
       "      <th>visitor_id</th>\n",
       "      <th>visit_id</th>\n",
       "      <th>process_step</th>\n",
       "      <th>date_time</th>\n",
       "    </tr>\n",
       "  </thead>\n",
       "  <tbody>\n",
       "    <tr>\n",
       "      <th>0</th>\n",
       "      <td>9988021</td>\n",
       "      <td>580560515_7732621733</td>\n",
       "      <td>781255054_21935453173_531117</td>\n",
       "      <td>step_3</td>\n",
       "      <td>2017-04-17 15:27:07</td>\n",
       "    </tr>\n",
       "    <tr>\n",
       "      <th>1</th>\n",
       "      <td>9988021</td>\n",
       "      <td>580560515_7732621733</td>\n",
       "      <td>781255054_21935453173_531117</td>\n",
       "      <td>step_2</td>\n",
       "      <td>2017-04-17 15:26:51</td>\n",
       "    </tr>\n",
       "    <tr>\n",
       "      <th>2</th>\n",
       "      <td>9988021</td>\n",
       "      <td>580560515_7732621733</td>\n",
       "      <td>781255054_21935453173_531117</td>\n",
       "      <td>step_3</td>\n",
       "      <td>2017-04-17 15:19:22</td>\n",
       "    </tr>\n",
       "    <tr>\n",
       "      <th>3</th>\n",
       "      <td>9988021</td>\n",
       "      <td>580560515_7732621733</td>\n",
       "      <td>781255054_21935453173_531117</td>\n",
       "      <td>step_2</td>\n",
       "      <td>2017-04-17 15:19:13</td>\n",
       "    </tr>\n",
       "    <tr>\n",
       "      <th>4</th>\n",
       "      <td>9988021</td>\n",
       "      <td>580560515_7732621733</td>\n",
       "      <td>781255054_21935453173_531117</td>\n",
       "      <td>step_3</td>\n",
       "      <td>2017-04-17 15:18:04</td>\n",
       "    </tr>\n",
       "    <tr>\n",
       "      <th>...</th>\n",
       "      <td>...</td>\n",
       "      <td>...</td>\n",
       "      <td>...</td>\n",
       "      <td>...</td>\n",
       "      <td>...</td>\n",
       "    </tr>\n",
       "    <tr>\n",
       "      <th>755401</th>\n",
       "      <td>9668240</td>\n",
       "      <td>388766751_9038881013</td>\n",
       "      <td>922267647_3096648104_968866</td>\n",
       "      <td>start</td>\n",
       "      <td>2017-05-24 18:46:10</td>\n",
       "    </tr>\n",
       "    <tr>\n",
       "      <th>755402</th>\n",
       "      <td>9668240</td>\n",
       "      <td>388766751_9038881013</td>\n",
       "      <td>922267647_3096648104_968866</td>\n",
       "      <td>start</td>\n",
       "      <td>2017-05-24 18:45:29</td>\n",
       "    </tr>\n",
       "    <tr>\n",
       "      <th>755403</th>\n",
       "      <td>9668240</td>\n",
       "      <td>388766751_9038881013</td>\n",
       "      <td>922267647_3096648104_968866</td>\n",
       "      <td>step_1</td>\n",
       "      <td>2017-05-24 18:44:51</td>\n",
       "    </tr>\n",
       "    <tr>\n",
       "      <th>755404</th>\n",
       "      <td>9668240</td>\n",
       "      <td>388766751_9038881013</td>\n",
       "      <td>922267647_3096648104_968866</td>\n",
       "      <td>start</td>\n",
       "      <td>2017-05-24 18:44:34</td>\n",
       "    </tr>\n",
       "    <tr>\n",
       "      <th>755405</th>\n",
       "      <td>674799</td>\n",
       "      <td>947159805_81558194550</td>\n",
       "      <td>86152093_47511127657_716022</td>\n",
       "      <td>start</td>\n",
       "      <td>2017-06-03 12:17:09</td>\n",
       "    </tr>\n",
       "  </tbody>\n",
       "</table>\n",
       "<p>755406 rows × 5 columns</p>\n",
       "</div>"
      ],
      "text/plain": [
       "       client_id             visitor_id                      visit_id  \\\n",
       "0        9988021   580560515_7732621733  781255054_21935453173_531117   \n",
       "1        9988021   580560515_7732621733  781255054_21935453173_531117   \n",
       "2        9988021   580560515_7732621733  781255054_21935453173_531117   \n",
       "3        9988021   580560515_7732621733  781255054_21935453173_531117   \n",
       "4        9988021   580560515_7732621733  781255054_21935453173_531117   \n",
       "...          ...                    ...                           ...   \n",
       "755401   9668240   388766751_9038881013   922267647_3096648104_968866   \n",
       "755402   9668240   388766751_9038881013   922267647_3096648104_968866   \n",
       "755403   9668240   388766751_9038881013   922267647_3096648104_968866   \n",
       "755404   9668240   388766751_9038881013   922267647_3096648104_968866   \n",
       "755405    674799  947159805_81558194550   86152093_47511127657_716022   \n",
       "\n",
       "       process_step            date_time  \n",
       "0            step_3  2017-04-17 15:27:07  \n",
       "1            step_2  2017-04-17 15:26:51  \n",
       "2            step_3  2017-04-17 15:19:22  \n",
       "3            step_2  2017-04-17 15:19:13  \n",
       "4            step_3  2017-04-17 15:18:04  \n",
       "...             ...                  ...  \n",
       "755401        start  2017-05-24 18:46:10  \n",
       "755402        start  2017-05-24 18:45:29  \n",
       "755403       step_1  2017-05-24 18:44:51  \n",
       "755404        start  2017-05-24 18:44:34  \n",
       "755405        start  2017-06-03 12:17:09  \n",
       "\n",
       "[755406 rows x 5 columns]"
      ]
     },
     "execution_count": 10,
     "metadata": {},
     "output_type": "execute_result"
    }
   ],
   "source": [
    "df_fw_dm"
   ]
  },
  {
   "cell_type": "code",
   "execution_count": 11,
   "id": "bfbe0a58",
   "metadata": {},
   "outputs": [],
   "source": [
    "df_fw_dm.drop([343141], inplace = True)"
   ]
  },
  {
   "cell_type": "code",
   "execution_count": 12,
   "id": "1217cd14",
   "metadata": {},
   "outputs": [
    {
     "data": {
      "text/html": [
       "<div>\n",
       "<style scoped>\n",
       "    .dataframe tbody tr th:only-of-type {\n",
       "        vertical-align: middle;\n",
       "    }\n",
       "\n",
       "    .dataframe tbody tr th {\n",
       "        vertical-align: top;\n",
       "    }\n",
       "\n",
       "    .dataframe thead th {\n",
       "        text-align: right;\n",
       "    }\n",
       "</style>\n",
       "<table border=\"1\" class=\"dataframe\">\n",
       "  <thead>\n",
       "    <tr style=\"text-align: right;\">\n",
       "      <th></th>\n",
       "      <th>count</th>\n",
       "      <th>mean</th>\n",
       "      <th>std</th>\n",
       "      <th>min</th>\n",
       "      <th>25%</th>\n",
       "      <th>50%</th>\n",
       "      <th>75%</th>\n",
       "      <th>max</th>\n",
       "    </tr>\n",
       "  </thead>\n",
       "  <tbody>\n",
       "    <tr>\n",
       "      <th>client_id</th>\n",
       "      <td>70609.00</td>\n",
       "      <td>5004991.88</td>\n",
       "      <td>2877277.63</td>\n",
       "      <td>169.00</td>\n",
       "      <td>2519329.00</td>\n",
       "      <td>5016978.00</td>\n",
       "      <td>7483085.00</td>\n",
       "      <td>9999839.00</td>\n",
       "    </tr>\n",
       "    <tr>\n",
       "      <th>clnt_tenure_yr</th>\n",
       "      <td>70595.00</td>\n",
       "      <td>12.05</td>\n",
       "      <td>6.87</td>\n",
       "      <td>2.00</td>\n",
       "      <td>6.00</td>\n",
       "      <td>11.00</td>\n",
       "      <td>16.00</td>\n",
       "      <td>62.00</td>\n",
       "    </tr>\n",
       "    <tr>\n",
       "      <th>clnt_tenure_mnth</th>\n",
       "      <td>70595.00</td>\n",
       "      <td>150.66</td>\n",
       "      <td>82.09</td>\n",
       "      <td>33.00</td>\n",
       "      <td>82.00</td>\n",
       "      <td>136.00</td>\n",
       "      <td>192.00</td>\n",
       "      <td>749.00</td>\n",
       "    </tr>\n",
       "    <tr>\n",
       "      <th>clnt_age</th>\n",
       "      <td>70594.00</td>\n",
       "      <td>46.44</td>\n",
       "      <td>15.59</td>\n",
       "      <td>13.50</td>\n",
       "      <td>32.50</td>\n",
       "      <td>47.00</td>\n",
       "      <td>59.00</td>\n",
       "      <td>96.00</td>\n",
       "    </tr>\n",
       "    <tr>\n",
       "      <th>num_accts</th>\n",
       "      <td>70595.00</td>\n",
       "      <td>2.26</td>\n",
       "      <td>0.53</td>\n",
       "      <td>1.00</td>\n",
       "      <td>2.00</td>\n",
       "      <td>2.00</td>\n",
       "      <td>2.00</td>\n",
       "      <td>8.00</td>\n",
       "    </tr>\n",
       "    <tr>\n",
       "      <th>bal</th>\n",
       "      <td>70595.00</td>\n",
       "      <td>147445.24</td>\n",
       "      <td>301508.71</td>\n",
       "      <td>13789.42</td>\n",
       "      <td>37346.83</td>\n",
       "      <td>63332.90</td>\n",
       "      <td>137544.90</td>\n",
       "      <td>16320040.15</td>\n",
       "    </tr>\n",
       "    <tr>\n",
       "      <th>calls_6_mnth</th>\n",
       "      <td>70595.00</td>\n",
       "      <td>3.38</td>\n",
       "      <td>2.24</td>\n",
       "      <td>0.00</td>\n",
       "      <td>1.00</td>\n",
       "      <td>3.00</td>\n",
       "      <td>6.00</td>\n",
       "      <td>7.00</td>\n",
       "    </tr>\n",
       "    <tr>\n",
       "      <th>logons_6_mnth</th>\n",
       "      <td>70595.00</td>\n",
       "      <td>5.57</td>\n",
       "      <td>2.35</td>\n",
       "      <td>1.00</td>\n",
       "      <td>4.00</td>\n",
       "      <td>5.00</td>\n",
       "      <td>7.00</td>\n",
       "      <td>9.00</td>\n",
       "    </tr>\n",
       "  </tbody>\n",
       "</table>\n",
       "</div>"
      ],
      "text/plain": [
       "                    count       mean        std      min        25%  \\\n",
       "client_id        70609.00 5004991.88 2877277.63   169.00 2519329.00   \n",
       "clnt_tenure_yr   70595.00      12.05       6.87     2.00       6.00   \n",
       "clnt_tenure_mnth 70595.00     150.66      82.09    33.00      82.00   \n",
       "clnt_age         70594.00      46.44      15.59    13.50      32.50   \n",
       "num_accts        70595.00       2.26       0.53     1.00       2.00   \n",
       "bal              70595.00  147445.24  301508.71 13789.42   37346.83   \n",
       "calls_6_mnth     70595.00       3.38       2.24     0.00       1.00   \n",
       "logons_6_mnth    70595.00       5.57       2.35     1.00       4.00   \n",
       "\n",
       "                        50%        75%         max  \n",
       "client_id        5016978.00 7483085.00  9999839.00  \n",
       "clnt_tenure_yr        11.00      16.00       62.00  \n",
       "clnt_tenure_mnth     136.00     192.00      749.00  \n",
       "clnt_age              47.00      59.00       96.00  \n",
       "num_accts              2.00       2.00        8.00  \n",
       "bal                63332.90  137544.90 16320040.15  \n",
       "calls_6_mnth           3.00       6.00        7.00  \n",
       "logons_6_mnth          5.00       7.00        9.00  "
      ]
     },
     "execution_count": 12,
     "metadata": {},
     "output_type": "execute_result"
    }
   ],
   "source": [
    "# use this to change the scientific notation\n",
    "pd.set_option('display.float_format', '{:.2f}'.format)\n",
    "df_fd.describe().T"
   ]
  },
  {
   "cell_type": "code",
   "execution_count": 13,
   "id": "c4053d29",
   "metadata": {},
   "outputs": [],
   "source": [
    "df_sub = df_fd[df_fd['bal'].isnull()]"
   ]
  },
  {
   "cell_type": "code",
   "execution_count": 14,
   "id": "e7fb0757",
   "metadata": {},
   "outputs": [
    {
     "data": {
      "text/html": [
       "<div>\n",
       "<style scoped>\n",
       "    .dataframe tbody tr th:only-of-type {\n",
       "        vertical-align: middle;\n",
       "    }\n",
       "\n",
       "    .dataframe tbody tr th {\n",
       "        vertical-align: top;\n",
       "    }\n",
       "\n",
       "    .dataframe thead th {\n",
       "        text-align: right;\n",
       "    }\n",
       "</style>\n",
       "<table border=\"1\" class=\"dataframe\">\n",
       "  <thead>\n",
       "    <tr style=\"text-align: right;\">\n",
       "      <th></th>\n",
       "      <th>client_id</th>\n",
       "      <th>clnt_tenure_yr</th>\n",
       "      <th>clnt_tenure_mnth</th>\n",
       "      <th>clnt_age</th>\n",
       "      <th>gendr</th>\n",
       "      <th>num_accts</th>\n",
       "      <th>bal</th>\n",
       "      <th>calls_6_mnth</th>\n",
       "      <th>logons_6_mnth</th>\n",
       "    </tr>\n",
       "  </thead>\n",
       "  <tbody>\n",
       "    <tr>\n",
       "      <th>4164</th>\n",
       "      <td>7402828</td>\n",
       "      <td>NaN</td>\n",
       "      <td>NaN</td>\n",
       "      <td>NaN</td>\n",
       "      <td>NaN</td>\n",
       "      <td>NaN</td>\n",
       "      <td>NaN</td>\n",
       "      <td>NaN</td>\n",
       "      <td>NaN</td>\n",
       "    </tr>\n",
       "    <tr>\n",
       "      <th>8316</th>\n",
       "      <td>355337</td>\n",
       "      <td>NaN</td>\n",
       "      <td>NaN</td>\n",
       "      <td>NaN</td>\n",
       "      <td>NaN</td>\n",
       "      <td>NaN</td>\n",
       "      <td>NaN</td>\n",
       "      <td>NaN</td>\n",
       "      <td>NaN</td>\n",
       "    </tr>\n",
       "    <tr>\n",
       "      <th>8677</th>\n",
       "      <td>8412164</td>\n",
       "      <td>NaN</td>\n",
       "      <td>NaN</td>\n",
       "      <td>NaN</td>\n",
       "      <td>NaN</td>\n",
       "      <td>NaN</td>\n",
       "      <td>NaN</td>\n",
       "      <td>NaN</td>\n",
       "      <td>NaN</td>\n",
       "    </tr>\n",
       "    <tr>\n",
       "      <th>13444</th>\n",
       "      <td>2222915</td>\n",
       "      <td>NaN</td>\n",
       "      <td>NaN</td>\n",
       "      <td>NaN</td>\n",
       "      <td>NaN</td>\n",
       "      <td>NaN</td>\n",
       "      <td>NaN</td>\n",
       "      <td>NaN</td>\n",
       "      <td>NaN</td>\n",
       "    </tr>\n",
       "    <tr>\n",
       "      <th>18066</th>\n",
       "      <td>4876926</td>\n",
       "      <td>NaN</td>\n",
       "      <td>NaN</td>\n",
       "      <td>NaN</td>\n",
       "      <td>NaN</td>\n",
       "      <td>NaN</td>\n",
       "      <td>NaN</td>\n",
       "      <td>NaN</td>\n",
       "      <td>NaN</td>\n",
       "    </tr>\n",
       "    <tr>\n",
       "      <th>25961</th>\n",
       "      <td>5277910</td>\n",
       "      <td>NaN</td>\n",
       "      <td>NaN</td>\n",
       "      <td>NaN</td>\n",
       "      <td>NaN</td>\n",
       "      <td>NaN</td>\n",
       "      <td>NaN</td>\n",
       "      <td>NaN</td>\n",
       "      <td>NaN</td>\n",
       "    </tr>\n",
       "    <tr>\n",
       "      <th>28432</th>\n",
       "      <td>7616759</td>\n",
       "      <td>NaN</td>\n",
       "      <td>NaN</td>\n",
       "      <td>NaN</td>\n",
       "      <td>NaN</td>\n",
       "      <td>NaN</td>\n",
       "      <td>NaN</td>\n",
       "      <td>NaN</td>\n",
       "      <td>NaN</td>\n",
       "    </tr>\n",
       "    <tr>\n",
       "      <th>35323</th>\n",
       "      <td>8191345</td>\n",
       "      <td>NaN</td>\n",
       "      <td>NaN</td>\n",
       "      <td>NaN</td>\n",
       "      <td>NaN</td>\n",
       "      <td>NaN</td>\n",
       "      <td>NaN</td>\n",
       "      <td>NaN</td>\n",
       "      <td>NaN</td>\n",
       "    </tr>\n",
       "    <tr>\n",
       "      <th>43518</th>\n",
       "      <td>1227228</td>\n",
       "      <td>NaN</td>\n",
       "      <td>NaN</td>\n",
       "      <td>NaN</td>\n",
       "      <td>NaN</td>\n",
       "      <td>NaN</td>\n",
       "      <td>NaN</td>\n",
       "      <td>NaN</td>\n",
       "      <td>NaN</td>\n",
       "    </tr>\n",
       "    <tr>\n",
       "      <th>46076</th>\n",
       "      <td>8611797</td>\n",
       "      <td>NaN</td>\n",
       "      <td>NaN</td>\n",
       "      <td>NaN</td>\n",
       "      <td>NaN</td>\n",
       "      <td>NaN</td>\n",
       "      <td>NaN</td>\n",
       "      <td>NaN</td>\n",
       "      <td>NaN</td>\n",
       "    </tr>\n",
       "    <tr>\n",
       "      <th>47189</th>\n",
       "      <td>5144725</td>\n",
       "      <td>NaN</td>\n",
       "      <td>NaN</td>\n",
       "      <td>NaN</td>\n",
       "      <td>NaN</td>\n",
       "      <td>NaN</td>\n",
       "      <td>NaN</td>\n",
       "      <td>NaN</td>\n",
       "      <td>NaN</td>\n",
       "    </tr>\n",
       "    <tr>\n",
       "      <th>49846</th>\n",
       "      <td>1037867</td>\n",
       "      <td>NaN</td>\n",
       "      <td>NaN</td>\n",
       "      <td>NaN</td>\n",
       "      <td>NaN</td>\n",
       "      <td>NaN</td>\n",
       "      <td>NaN</td>\n",
       "      <td>NaN</td>\n",
       "      <td>NaN</td>\n",
       "    </tr>\n",
       "    <tr>\n",
       "      <th>63701</th>\n",
       "      <td>1618749</td>\n",
       "      <td>NaN</td>\n",
       "      <td>NaN</td>\n",
       "      <td>NaN</td>\n",
       "      <td>NaN</td>\n",
       "      <td>NaN</td>\n",
       "      <td>NaN</td>\n",
       "      <td>NaN</td>\n",
       "      <td>NaN</td>\n",
       "    </tr>\n",
       "    <tr>\n",
       "      <th>66219</th>\n",
       "      <td>6021001</td>\n",
       "      <td>NaN</td>\n",
       "      <td>NaN</td>\n",
       "      <td>NaN</td>\n",
       "      <td>NaN</td>\n",
       "      <td>NaN</td>\n",
       "      <td>NaN</td>\n",
       "      <td>NaN</td>\n",
       "      <td>NaN</td>\n",
       "    </tr>\n",
       "  </tbody>\n",
       "</table>\n",
       "</div>"
      ],
      "text/plain": [
       "       client_id  clnt_tenure_yr  clnt_tenure_mnth  clnt_age gendr  num_accts  \\\n",
       "4164     7402828             NaN               NaN       NaN   NaN        NaN   \n",
       "8316      355337             NaN               NaN       NaN   NaN        NaN   \n",
       "8677     8412164             NaN               NaN       NaN   NaN        NaN   \n",
       "13444    2222915             NaN               NaN       NaN   NaN        NaN   \n",
       "18066    4876926             NaN               NaN       NaN   NaN        NaN   \n",
       "25961    5277910             NaN               NaN       NaN   NaN        NaN   \n",
       "28432    7616759             NaN               NaN       NaN   NaN        NaN   \n",
       "35323    8191345             NaN               NaN       NaN   NaN        NaN   \n",
       "43518    1227228             NaN               NaN       NaN   NaN        NaN   \n",
       "46076    8611797             NaN               NaN       NaN   NaN        NaN   \n",
       "47189    5144725             NaN               NaN       NaN   NaN        NaN   \n",
       "49846    1037867             NaN               NaN       NaN   NaN        NaN   \n",
       "63701    1618749             NaN               NaN       NaN   NaN        NaN   \n",
       "66219    6021001             NaN               NaN       NaN   NaN        NaN   \n",
       "\n",
       "       bal  calls_6_mnth  logons_6_mnth  \n",
       "4164   NaN           NaN            NaN  \n",
       "8316   NaN           NaN            NaN  \n",
       "8677   NaN           NaN            NaN  \n",
       "13444  NaN           NaN            NaN  \n",
       "18066  NaN           NaN            NaN  \n",
       "25961  NaN           NaN            NaN  \n",
       "28432  NaN           NaN            NaN  \n",
       "35323  NaN           NaN            NaN  \n",
       "43518  NaN           NaN            NaN  \n",
       "46076  NaN           NaN            NaN  \n",
       "47189  NaN           NaN            NaN  \n",
       "49846  NaN           NaN            NaN  \n",
       "63701  NaN           NaN            NaN  \n",
       "66219  NaN           NaN            NaN  "
      ]
     },
     "execution_count": 14,
     "metadata": {},
     "output_type": "execute_result"
    }
   ],
   "source": [
    "df_sub"
   ]
  },
  {
   "cell_type": "code",
   "execution_count": 15,
   "id": "a59ebfd0",
   "metadata": {},
   "outputs": [],
   "source": [
    "df_fd.dropna(inplace = True)"
   ]
  },
  {
   "cell_type": "code",
   "execution_count": 16,
   "id": "7587e3c9",
   "metadata": {},
   "outputs": [
    {
     "data": {
      "text/plain": [
       "client_id           0\n",
       "clnt_tenure_yr      0\n",
       "clnt_tenure_mnth    0\n",
       "clnt_age            0\n",
       "gendr               0\n",
       "num_accts           0\n",
       "bal                 0\n",
       "calls_6_mnth        0\n",
       "logons_6_mnth       0\n",
       "dtype: int64"
      ]
     },
     "execution_count": 16,
     "metadata": {},
     "output_type": "execute_result"
    }
   ],
   "source": [
    "df_fd.isnull().sum()"
   ]
  },
  {
   "cell_type": "code",
   "execution_count": 17,
   "id": "27c4003d",
   "metadata": {},
   "outputs": [],
   "source": [
    "df_fd = df_fd.astype({'clnt_tenure_yr': int,'clnt_tenure_mnth': int,'clnt_age': int,'calls_6_mnth': int,'logons_6_mnth': int,'num_accts': int })\n"
   ]
  },
  {
   "cell_type": "code",
   "execution_count": 18,
   "id": "0a9f8180",
   "metadata": {},
   "outputs": [
    {
     "data": {
      "text/html": [
       "<div>\n",
       "<style scoped>\n",
       "    .dataframe tbody tr th:only-of-type {\n",
       "        vertical-align: middle;\n",
       "    }\n",
       "\n",
       "    .dataframe tbody tr th {\n",
       "        vertical-align: top;\n",
       "    }\n",
       "\n",
       "    .dataframe thead th {\n",
       "        text-align: right;\n",
       "    }\n",
       "</style>\n",
       "<table border=\"1\" class=\"dataframe\">\n",
       "  <thead>\n",
       "    <tr style=\"text-align: right;\">\n",
       "      <th></th>\n",
       "      <th>client_id</th>\n",
       "      <th>clnt_tenure_yr</th>\n",
       "      <th>clnt_tenure_mnth</th>\n",
       "      <th>clnt_age</th>\n",
       "      <th>gendr</th>\n",
       "      <th>num_accts</th>\n",
       "      <th>bal</th>\n",
       "      <th>calls_6_mnth</th>\n",
       "      <th>logons_6_mnth</th>\n",
       "    </tr>\n",
       "  </thead>\n",
       "  <tbody>\n",
       "    <tr>\n",
       "      <th>0</th>\n",
       "      <td>836976</td>\n",
       "      <td>6</td>\n",
       "      <td>73</td>\n",
       "      <td>60</td>\n",
       "      <td>U</td>\n",
       "      <td>2</td>\n",
       "      <td>45105.30</td>\n",
       "      <td>6</td>\n",
       "      <td>9</td>\n",
       "    </tr>\n",
       "    <tr>\n",
       "      <th>1</th>\n",
       "      <td>2304905</td>\n",
       "      <td>7</td>\n",
       "      <td>94</td>\n",
       "      <td>58</td>\n",
       "      <td>U</td>\n",
       "      <td>2</td>\n",
       "      <td>110860.30</td>\n",
       "      <td>6</td>\n",
       "      <td>9</td>\n",
       "    </tr>\n",
       "    <tr>\n",
       "      <th>2</th>\n",
       "      <td>1439522</td>\n",
       "      <td>5</td>\n",
       "      <td>64</td>\n",
       "      <td>32</td>\n",
       "      <td>U</td>\n",
       "      <td>2</td>\n",
       "      <td>52467.79</td>\n",
       "      <td>6</td>\n",
       "      <td>9</td>\n",
       "    </tr>\n",
       "    <tr>\n",
       "      <th>3</th>\n",
       "      <td>1562045</td>\n",
       "      <td>16</td>\n",
       "      <td>198</td>\n",
       "      <td>49</td>\n",
       "      <td>M</td>\n",
       "      <td>2</td>\n",
       "      <td>67454.65</td>\n",
       "      <td>3</td>\n",
       "      <td>6</td>\n",
       "    </tr>\n",
       "    <tr>\n",
       "      <th>4</th>\n",
       "      <td>5126305</td>\n",
       "      <td>12</td>\n",
       "      <td>145</td>\n",
       "      <td>33</td>\n",
       "      <td>F</td>\n",
       "      <td>2</td>\n",
       "      <td>103671.75</td>\n",
       "      <td>0</td>\n",
       "      <td>3</td>\n",
       "    </tr>\n",
       "    <tr>\n",
       "      <th>...</th>\n",
       "      <td>...</td>\n",
       "      <td>...</td>\n",
       "      <td>...</td>\n",
       "      <td>...</td>\n",
       "      <td>...</td>\n",
       "      <td>...</td>\n",
       "      <td>...</td>\n",
       "      <td>...</td>\n",
       "      <td>...</td>\n",
       "    </tr>\n",
       "    <tr>\n",
       "      <th>70604</th>\n",
       "      <td>7993686</td>\n",
       "      <td>4</td>\n",
       "      <td>56</td>\n",
       "      <td>38</td>\n",
       "      <td>U</td>\n",
       "      <td>3</td>\n",
       "      <td>1411062.68</td>\n",
       "      <td>5</td>\n",
       "      <td>5</td>\n",
       "    </tr>\n",
       "    <tr>\n",
       "      <th>70605</th>\n",
       "      <td>8981690</td>\n",
       "      <td>12</td>\n",
       "      <td>148</td>\n",
       "      <td>31</td>\n",
       "      <td>M</td>\n",
       "      <td>2</td>\n",
       "      <td>101867.07</td>\n",
       "      <td>6</td>\n",
       "      <td>6</td>\n",
       "    </tr>\n",
       "    <tr>\n",
       "      <th>70606</th>\n",
       "      <td>333913</td>\n",
       "      <td>16</td>\n",
       "      <td>198</td>\n",
       "      <td>61</td>\n",
       "      <td>F</td>\n",
       "      <td>2</td>\n",
       "      <td>40745.00</td>\n",
       "      <td>3</td>\n",
       "      <td>3</td>\n",
       "    </tr>\n",
       "    <tr>\n",
       "      <th>70607</th>\n",
       "      <td>1573142</td>\n",
       "      <td>21</td>\n",
       "      <td>255</td>\n",
       "      <td>68</td>\n",
       "      <td>M</td>\n",
       "      <td>3</td>\n",
       "      <td>475114.69</td>\n",
       "      <td>4</td>\n",
       "      <td>4</td>\n",
       "    </tr>\n",
       "    <tr>\n",
       "      <th>70608</th>\n",
       "      <td>5602139</td>\n",
       "      <td>21</td>\n",
       "      <td>254</td>\n",
       "      <td>59</td>\n",
       "      <td>F</td>\n",
       "      <td>3</td>\n",
       "      <td>157498.73</td>\n",
       "      <td>7</td>\n",
       "      <td>7</td>\n",
       "    </tr>\n",
       "  </tbody>\n",
       "</table>\n",
       "<p>70594 rows × 9 columns</p>\n",
       "</div>"
      ],
      "text/plain": [
       "       client_id  clnt_tenure_yr  clnt_tenure_mnth  clnt_age gendr  num_accts  \\\n",
       "0         836976               6                73        60     U          2   \n",
       "1        2304905               7                94        58     U          2   \n",
       "2        1439522               5                64        32     U          2   \n",
       "3        1562045              16               198        49     M          2   \n",
       "4        5126305              12               145        33     F          2   \n",
       "...          ...             ...               ...       ...   ...        ...   \n",
       "70604    7993686               4                56        38     U          3   \n",
       "70605    8981690              12               148        31     M          2   \n",
       "70606     333913              16               198        61     F          2   \n",
       "70607    1573142              21               255        68     M          3   \n",
       "70608    5602139              21               254        59     F          3   \n",
       "\n",
       "             bal  calls_6_mnth  logons_6_mnth  \n",
       "0       45105.30             6              9  \n",
       "1      110860.30             6              9  \n",
       "2       52467.79             6              9  \n",
       "3       67454.65             3              6  \n",
       "4      103671.75             0              3  \n",
       "...          ...           ...            ...  \n",
       "70604 1411062.68             5              5  \n",
       "70605  101867.07             6              6  \n",
       "70606   40745.00             3              3  \n",
       "70607  475114.69             4              4  \n",
       "70608  157498.73             7              7  \n",
       "\n",
       "[70594 rows x 9 columns]"
      ]
     },
     "execution_count": 18,
     "metadata": {},
     "output_type": "execute_result"
    }
   ],
   "source": [
    "df_fd"
   ]
  },
  {
   "cell_type": "code",
   "execution_count": 19,
   "id": "04ad4250",
   "metadata": {},
   "outputs": [
    {
     "data": {
      "text/plain": [
       "client_id        0\n",
       "Variation    20109\n",
       "dtype: int64"
      ]
     },
     "execution_count": 19,
     "metadata": {},
     "output_type": "execute_result"
    }
   ],
   "source": [
    "df_fe_c.isnull().sum()"
   ]
  },
  {
   "cell_type": "code",
   "execution_count": 20,
   "id": "4bfb8554",
   "metadata": {},
   "outputs": [],
   "source": [
    "df_fe_c.dropna(inplace = True)"
   ]
  },
  {
   "cell_type": "code",
   "execution_count": 21,
   "id": "2466238c",
   "metadata": {},
   "outputs": [],
   "source": [
    "df_fe_c.rename(columns={'Variation':'variation'}, inplace = True)"
   ]
  },
  {
   "cell_type": "code",
   "execution_count": 22,
   "id": "b4949da6",
   "metadata": {},
   "outputs": [
    {
     "data": {
      "text/plain": [
       "variation\n",
       "Test       26968\n",
       "Control    23532\n",
       "Name: count, dtype: int64"
      ]
     },
     "execution_count": 22,
     "metadata": {},
     "output_type": "execute_result"
    }
   ],
   "source": [
    "df_fe_c.variation.value_counts()"
   ]
  },
  {
   "cell_type": "code",
   "execution_count": 23,
   "id": "bbdc9039",
   "metadata": {},
   "outputs": [],
   "source": [
    "df_fd['gendr'].replace({'X': 'U'}, inplace=True)\n"
   ]
  },
  {
   "cell_type": "code",
   "execution_count": 24,
   "id": "b1d43f41",
   "metadata": {},
   "outputs": [],
   "source": [
    "test_subjects_df = pd.merge(df_fw_dm, df_fe_c, on='client_id')"
   ]
  },
  {
   "cell_type": "code",
   "execution_count": 25,
   "id": "a9001712",
   "metadata": {},
   "outputs": [
    {
     "data": {
      "text/html": [
       "<div>\n",
       "<style scoped>\n",
       "    .dataframe tbody tr th:only-of-type {\n",
       "        vertical-align: middle;\n",
       "    }\n",
       "\n",
       "    .dataframe tbody tr th {\n",
       "        vertical-align: top;\n",
       "    }\n",
       "\n",
       "    .dataframe thead th {\n",
       "        text-align: right;\n",
       "    }\n",
       "</style>\n",
       "<table border=\"1\" class=\"dataframe\">\n",
       "  <thead>\n",
       "    <tr style=\"text-align: right;\">\n",
       "      <th></th>\n",
       "      <th>client_id</th>\n",
       "      <th>visitor_id</th>\n",
       "      <th>visit_id</th>\n",
       "      <th>process_step</th>\n",
       "      <th>date_time</th>\n",
       "      <th>variation</th>\n",
       "    </tr>\n",
       "  </thead>\n",
       "  <tbody>\n",
       "    <tr>\n",
       "      <th>0</th>\n",
       "      <td>9988021</td>\n",
       "      <td>580560515_7732621733</td>\n",
       "      <td>781255054_21935453173_531117</td>\n",
       "      <td>step_3</td>\n",
       "      <td>2017-04-17 15:27:07</td>\n",
       "      <td>Test</td>\n",
       "    </tr>\n",
       "    <tr>\n",
       "      <th>1</th>\n",
       "      <td>9988021</td>\n",
       "      <td>580560515_7732621733</td>\n",
       "      <td>781255054_21935453173_531117</td>\n",
       "      <td>step_2</td>\n",
       "      <td>2017-04-17 15:26:51</td>\n",
       "      <td>Test</td>\n",
       "    </tr>\n",
       "    <tr>\n",
       "      <th>2</th>\n",
       "      <td>9988021</td>\n",
       "      <td>580560515_7732621733</td>\n",
       "      <td>781255054_21935453173_531117</td>\n",
       "      <td>step_3</td>\n",
       "      <td>2017-04-17 15:19:22</td>\n",
       "      <td>Test</td>\n",
       "    </tr>\n",
       "    <tr>\n",
       "      <th>3</th>\n",
       "      <td>9988021</td>\n",
       "      <td>580560515_7732621733</td>\n",
       "      <td>781255054_21935453173_531117</td>\n",
       "      <td>step_2</td>\n",
       "      <td>2017-04-17 15:19:13</td>\n",
       "      <td>Test</td>\n",
       "    </tr>\n",
       "    <tr>\n",
       "      <th>4</th>\n",
       "      <td>9988021</td>\n",
       "      <td>580560515_7732621733</td>\n",
       "      <td>781255054_21935453173_531117</td>\n",
       "      <td>step_3</td>\n",
       "      <td>2017-04-17 15:18:04</td>\n",
       "      <td>Test</td>\n",
       "    </tr>\n",
       "    <tr>\n",
       "      <th>...</th>\n",
       "      <td>...</td>\n",
       "      <td>...</td>\n",
       "      <td>...</td>\n",
       "      <td>...</td>\n",
       "      <td>...</td>\n",
       "      <td>...</td>\n",
       "    </tr>\n",
       "    <tr>\n",
       "      <th>307626</th>\n",
       "      <td>1574008</td>\n",
       "      <td>117364417_77840596075</td>\n",
       "      <td>528720790_71583064618_169151</td>\n",
       "      <td>start</td>\n",
       "      <td>2017-05-06 23:43:27</td>\n",
       "      <td>Test</td>\n",
       "    </tr>\n",
       "    <tr>\n",
       "      <th>307627</th>\n",
       "      <td>2908510</td>\n",
       "      <td>814969699_90652851448</td>\n",
       "      <td>562606085_36368381773_92090</td>\n",
       "      <td>start</td>\n",
       "      <td>2017-05-10 22:57:17</td>\n",
       "      <td>Control</td>\n",
       "    </tr>\n",
       "    <tr>\n",
       "      <th>307628</th>\n",
       "      <td>2908510</td>\n",
       "      <td>814969699_90652851448</td>\n",
       "      <td>562606085_36368381773_92090</td>\n",
       "      <td>step_2</td>\n",
       "      <td>2017-05-10 22:56:31</td>\n",
       "      <td>Control</td>\n",
       "    </tr>\n",
       "    <tr>\n",
       "      <th>307629</th>\n",
       "      <td>2908510</td>\n",
       "      <td>814969699_90652851448</td>\n",
       "      <td>562606085_36368381773_92090</td>\n",
       "      <td>step_1</td>\n",
       "      <td>2017-05-10 22:56:23</td>\n",
       "      <td>Control</td>\n",
       "    </tr>\n",
       "    <tr>\n",
       "      <th>307630</th>\n",
       "      <td>2908510</td>\n",
       "      <td>814969699_90652851448</td>\n",
       "      <td>562606085_36368381773_92090</td>\n",
       "      <td>start</td>\n",
       "      <td>2017-05-10 22:56:20</td>\n",
       "      <td>Control</td>\n",
       "    </tr>\n",
       "  </tbody>\n",
       "</table>\n",
       "<p>307631 rows × 6 columns</p>\n",
       "</div>"
      ],
      "text/plain": [
       "       client_id             visitor_id                      visit_id  \\\n",
       "0        9988021   580560515_7732621733  781255054_21935453173_531117   \n",
       "1        9988021   580560515_7732621733  781255054_21935453173_531117   \n",
       "2        9988021   580560515_7732621733  781255054_21935453173_531117   \n",
       "3        9988021   580560515_7732621733  781255054_21935453173_531117   \n",
       "4        9988021   580560515_7732621733  781255054_21935453173_531117   \n",
       "...          ...                    ...                           ...   \n",
       "307626   1574008  117364417_77840596075  528720790_71583064618_169151   \n",
       "307627   2908510  814969699_90652851448   562606085_36368381773_92090   \n",
       "307628   2908510  814969699_90652851448   562606085_36368381773_92090   \n",
       "307629   2908510  814969699_90652851448   562606085_36368381773_92090   \n",
       "307630   2908510  814969699_90652851448   562606085_36368381773_92090   \n",
       "\n",
       "       process_step            date_time variation  \n",
       "0            step_3  2017-04-17 15:27:07      Test  \n",
       "1            step_2  2017-04-17 15:26:51      Test  \n",
       "2            step_3  2017-04-17 15:19:22      Test  \n",
       "3            step_2  2017-04-17 15:19:13      Test  \n",
       "4            step_3  2017-04-17 15:18:04      Test  \n",
       "...             ...                  ...       ...  \n",
       "307626        start  2017-05-06 23:43:27      Test  \n",
       "307627        start  2017-05-10 22:57:17   Control  \n",
       "307628       step_2  2017-05-10 22:56:31   Control  \n",
       "307629       step_1  2017-05-10 22:56:23   Control  \n",
       "307630        start  2017-05-10 22:56:20   Control  \n",
       "\n",
       "[307631 rows x 6 columns]"
      ]
     },
     "execution_count": 25,
     "metadata": {},
     "output_type": "execute_result"
    }
   ],
   "source": [
    "test_subjects_df"
   ]
  },
  {
   "cell_type": "markdown",
   "id": "402ae055",
   "metadata": {},
   "source": [
    "## Who are the primary clients who use this online process?"
   ]
  },
  {
   "cell_type": "code",
   "execution_count": 26,
   "id": "29b93d8a",
   "metadata": {},
   "outputs": [
    {
     "data": {
      "text/plain": [
       "count   70594.00\n",
       "mean        5.57\n",
       "std         2.35\n",
       "min         1.00\n",
       "25%         4.00\n",
       "50%         5.00\n",
       "75%         7.00\n",
       "max         9.00\n",
       "Name: logons_6_mnth, dtype: float64"
      ]
     },
     "execution_count": 26,
     "metadata": {},
     "output_type": "execute_result"
    }
   ],
   "source": [
    "df_fd['logons_6_mnth'].describe()"
   ]
  },
  {
   "cell_type": "markdown",
   "id": "3204defd",
   "metadata": {},
   "source": [
    "This tells us that only clients who logged in at least once in the last six months are considered clients at all.\n",
    " \n",
    "The mean number of logins in 5.57 times a month, with the median being 5, so on average a customer will logon to the service just under once a month. "
   ]
  },
  {
   "cell_type": "code",
   "execution_count": 27,
   "id": "6bac3c44",
   "metadata": {},
   "outputs": [
    {
     "name": "stderr",
     "output_type": "stream",
     "text": [
      "c:\\Users\\dylan\\anaconda3\\Lib\\site-packages\\seaborn\\_oldcore.py:1119: FutureWarning: use_inf_as_na option is deprecated and will be removed in a future version. Convert inf values to NaN before operating instead.\n",
      "  with pd.option_context('mode.use_inf_as_na', True):\n"
     ]
    },
    {
     "data": {
      "image/png": "[encoded data removed]",
      "text/plain": [
       "<Figure size 640x480 with 1 Axes>"
      ]
     },
     "metadata": {},
     "output_type": "display_data"
    }
   ],
   "source": [
    "sns.histplot(df_fd['logons_6_mnth'], bins=9, color=\"skyblue\");"
   ]
  },
  {
   "cell_type": "markdown",
   "id": "b29134eb",
   "metadata": {},
   "source": [
    "A quick glance at a histogram shows that there isn't an even distribution of user logins, so that won't help us determine what a \"typical\" customer logon rate looks like. \n",
    "\n",
    "So, I'm going to just pull information on those customers who log in at least once every other month, or 3 times every 6 months. It seems from this histogram like customers who log in less frequently than that are a typical anyway. "
   ]
  },
  {
   "cell_type": "code",
   "execution_count": 28,
   "id": "d7c582ec",
   "metadata": {},
   "outputs": [
    {
     "data": {
      "text/html": [
       "<div>\n",
       "<style scoped>\n",
       "    .dataframe tbody tr th:only-of-type {\n",
       "        vertical-align: middle;\n",
       "    }\n",
       "\n",
       "    .dataframe tbody tr th {\n",
       "        vertical-align: top;\n",
       "    }\n",
       "\n",
       "    .dataframe thead th {\n",
       "        text-align: right;\n",
       "    }\n",
       "</style>\n",
       "<table border=\"1\" class=\"dataframe\">\n",
       "  <thead>\n",
       "    <tr style=\"text-align: right;\">\n",
       "      <th></th>\n",
       "      <th>count</th>\n",
       "      <th>mean</th>\n",
       "      <th>std</th>\n",
       "      <th>min</th>\n",
       "      <th>25%</th>\n",
       "      <th>50%</th>\n",
       "      <th>75%</th>\n",
       "      <th>max</th>\n",
       "    </tr>\n",
       "  </thead>\n",
       "  <tbody>\n",
       "    <tr>\n",
       "      <th>client_id</th>\n",
       "      <td>64647.00</td>\n",
       "      <td>5005047.00</td>\n",
       "      <td>2879203.12</td>\n",
       "      <td>169.00</td>\n",
       "      <td>2515105.00</td>\n",
       "      <td>5019785.00</td>\n",
       "      <td>7483242.50</td>\n",
       "      <td>9999839.00</td>\n",
       "    </tr>\n",
       "    <tr>\n",
       "      <th>clnt_tenure_yr</th>\n",
       "      <td>64647.00</td>\n",
       "      <td>12.10</td>\n",
       "      <td>6.92</td>\n",
       "      <td>2.00</td>\n",
       "      <td>6.00</td>\n",
       "      <td>11.00</td>\n",
       "      <td>16.00</td>\n",
       "      <td>62.00</td>\n",
       "    </tr>\n",
       "    <tr>\n",
       "      <th>clnt_tenure_mnth</th>\n",
       "      <td>64647.00</td>\n",
       "      <td>151.23</td>\n",
       "      <td>82.64</td>\n",
       "      <td>33.00</td>\n",
       "      <td>82.00</td>\n",
       "      <td>137.00</td>\n",
       "      <td>193.00</td>\n",
       "      <td>749.00</td>\n",
       "    </tr>\n",
       "    <tr>\n",
       "      <th>clnt_age</th>\n",
       "      <td>64647.00</td>\n",
       "      <td>46.53</td>\n",
       "      <td>15.63</td>\n",
       "      <td>13.00</td>\n",
       "      <td>33.00</td>\n",
       "      <td>47.00</td>\n",
       "      <td>59.00</td>\n",
       "      <td>96.00</td>\n",
       "    </tr>\n",
       "    <tr>\n",
       "      <th>num_accts</th>\n",
       "      <td>64647.00</td>\n",
       "      <td>2.27</td>\n",
       "      <td>0.55</td>\n",
       "      <td>1.00</td>\n",
       "      <td>2.00</td>\n",
       "      <td>2.00</td>\n",
       "      <td>2.00</td>\n",
       "      <td>8.00</td>\n",
       "    </tr>\n",
       "    <tr>\n",
       "      <th>bal</th>\n",
       "      <td>64647.00</td>\n",
       "      <td>153563.97</td>\n",
       "      <td>311035.75</td>\n",
       "      <td>13791.80</td>\n",
       "      <td>39010.96</td>\n",
       "      <td>65984.81</td>\n",
       "      <td>143617.72</td>\n",
       "      <td>16320040.15</td>\n",
       "    </tr>\n",
       "    <tr>\n",
       "      <th>calls_6_mnth</th>\n",
       "      <td>64647.00</td>\n",
       "      <td>3.56</td>\n",
       "      <td>2.25</td>\n",
       "      <td>0.00</td>\n",
       "      <td>2.00</td>\n",
       "      <td>4.00</td>\n",
       "      <td>6.00</td>\n",
       "      <td>7.00</td>\n",
       "    </tr>\n",
       "    <tr>\n",
       "      <th>logons_6_mnth</th>\n",
       "      <td>64647.00</td>\n",
       "      <td>5.94</td>\n",
       "      <td>2.09</td>\n",
       "      <td>3.00</td>\n",
       "      <td>4.00</td>\n",
       "      <td>6.00</td>\n",
       "      <td>8.00</td>\n",
       "      <td>9.00</td>\n",
       "    </tr>\n",
       "  </tbody>\n",
       "</table>\n",
       "</div>"
      ],
      "text/plain": [
       "                    count       mean        std      min        25%  \\\n",
       "client_id        64647.00 5005047.00 2879203.12   169.00 2515105.00   \n",
       "clnt_tenure_yr   64647.00      12.10       6.92     2.00       6.00   \n",
       "clnt_tenure_mnth 64647.00     151.23      82.64    33.00      82.00   \n",
       "clnt_age         64647.00      46.53      15.63    13.00      33.00   \n",
       "num_accts        64647.00       2.27       0.55     1.00       2.00   \n",
       "bal              64647.00  153563.97  311035.75 13791.80   39010.96   \n",
       "calls_6_mnth     64647.00       3.56       2.25     0.00       2.00   \n",
       "logons_6_mnth    64647.00       5.94       2.09     3.00       4.00   \n",
       "\n",
       "                        50%        75%         max  \n",
       "client_id        5019785.00 7483242.50  9999839.00  \n",
       "clnt_tenure_yr        11.00      16.00       62.00  \n",
       "clnt_tenure_mnth     137.00     193.00      749.00  \n",
       "clnt_age              47.00      59.00       96.00  \n",
       "num_accts              2.00       2.00        8.00  \n",
       "bal                65984.81  143617.72 16320040.15  \n",
       "calls_6_mnth           4.00       6.00        7.00  \n",
       "logons_6_mnth          6.00       8.00        9.00  "
      ]
     },
     "execution_count": 28,
     "metadata": {},
     "output_type": "execute_result"
    }
   ],
   "source": [
    "# Create a subset of data containing only those clients who logged on more than twice in the last six months. \n",
    "logon_three = df_fd[df_fd['logons_6_mnth'] > 2]\n",
    "\n",
    "logon_three.describe().T"
   ]
  },
  {
   "cell_type": "code",
   "execution_count": 29,
   "id": "3da96117",
   "metadata": {},
   "outputs": [
    {
     "data": {
      "text/html": [
       "<div>\n",
       "<style scoped>\n",
       "    .dataframe tbody tr th:only-of-type {\n",
       "        vertical-align: middle;\n",
       "    }\n",
       "\n",
       "    .dataframe tbody tr th {\n",
       "        vertical-align: top;\n",
       "    }\n",
       "\n",
       "    .dataframe thead th {\n",
       "        text-align: right;\n",
       "    }\n",
       "</style>\n",
       "<table border=\"1\" class=\"dataframe\">\n",
       "  <thead>\n",
       "    <tr style=\"text-align: right;\">\n",
       "      <th></th>\n",
       "      <th>count</th>\n",
       "      <th>mean</th>\n",
       "      <th>std</th>\n",
       "      <th>min</th>\n",
       "      <th>25%</th>\n",
       "      <th>50%</th>\n",
       "      <th>75%</th>\n",
       "      <th>max</th>\n",
       "    </tr>\n",
       "  </thead>\n",
       "  <tbody>\n",
       "    <tr>\n",
       "      <th>client_id</th>\n",
       "      <td>70594.00</td>\n",
       "      <td>5005025.75</td>\n",
       "      <td>2877289.31</td>\n",
       "      <td>169.00</td>\n",
       "      <td>2519542.75</td>\n",
       "      <td>5016973.50</td>\n",
       "      <td>7483074.25</td>\n",
       "      <td>9999839.00</td>\n",
       "    </tr>\n",
       "    <tr>\n",
       "      <th>clnt_tenure_yr</th>\n",
       "      <td>70594.00</td>\n",
       "      <td>12.05</td>\n",
       "      <td>6.87</td>\n",
       "      <td>2.00</td>\n",
       "      <td>6.00</td>\n",
       "      <td>11.00</td>\n",
       "      <td>16.00</td>\n",
       "      <td>62.00</td>\n",
       "    </tr>\n",
       "    <tr>\n",
       "      <th>clnt_tenure_mnth</th>\n",
       "      <td>70594.00</td>\n",
       "      <td>150.66</td>\n",
       "      <td>82.09</td>\n",
       "      <td>33.00</td>\n",
       "      <td>82.00</td>\n",
       "      <td>136.00</td>\n",
       "      <td>192.00</td>\n",
       "      <td>749.00</td>\n",
       "    </tr>\n",
       "    <tr>\n",
       "      <th>clnt_age</th>\n",
       "      <td>70594.00</td>\n",
       "      <td>46.18</td>\n",
       "      <td>15.60</td>\n",
       "      <td>13.00</td>\n",
       "      <td>32.00</td>\n",
       "      <td>47.00</td>\n",
       "      <td>59.00</td>\n",
       "      <td>96.00</td>\n",
       "    </tr>\n",
       "    <tr>\n",
       "      <th>num_accts</th>\n",
       "      <td>70594.00</td>\n",
       "      <td>2.26</td>\n",
       "      <td>0.53</td>\n",
       "      <td>1.00</td>\n",
       "      <td>2.00</td>\n",
       "      <td>2.00</td>\n",
       "      <td>2.00</td>\n",
       "      <td>8.00</td>\n",
       "    </tr>\n",
       "    <tr>\n",
       "      <th>bal</th>\n",
       "      <td>70594.00</td>\n",
       "      <td>147446.73</td>\n",
       "      <td>301510.58</td>\n",
       "      <td>13789.42</td>\n",
       "      <td>37346.60</td>\n",
       "      <td>63334.59</td>\n",
       "      <td>137546.12</td>\n",
       "      <td>16320040.15</td>\n",
       "    </tr>\n",
       "    <tr>\n",
       "      <th>calls_6_mnth</th>\n",
       "      <td>70594.00</td>\n",
       "      <td>3.38</td>\n",
       "      <td>2.24</td>\n",
       "      <td>0.00</td>\n",
       "      <td>1.00</td>\n",
       "      <td>3.00</td>\n",
       "      <td>6.00</td>\n",
       "      <td>7.00</td>\n",
       "    </tr>\n",
       "    <tr>\n",
       "      <th>logons_6_mnth</th>\n",
       "      <td>70594.00</td>\n",
       "      <td>5.57</td>\n",
       "      <td>2.35</td>\n",
       "      <td>1.00</td>\n",
       "      <td>4.00</td>\n",
       "      <td>5.00</td>\n",
       "      <td>7.00</td>\n",
       "      <td>9.00</td>\n",
       "    </tr>\n",
       "  </tbody>\n",
       "</table>\n",
       "</div>"
      ],
      "text/plain": [
       "                    count       mean        std      min        25%  \\\n",
       "client_id        70594.00 5005025.75 2877289.31   169.00 2519542.75   \n",
       "clnt_tenure_yr   70594.00      12.05       6.87     2.00       6.00   \n",
       "clnt_tenure_mnth 70594.00     150.66      82.09    33.00      82.00   \n",
       "clnt_age         70594.00      46.18      15.60    13.00      32.00   \n",
       "num_accts        70594.00       2.26       0.53     1.00       2.00   \n",
       "bal              70594.00  147446.73  301510.58 13789.42   37346.60   \n",
       "calls_6_mnth     70594.00       3.38       2.24     0.00       1.00   \n",
       "logons_6_mnth    70594.00       5.57       2.35     1.00       4.00   \n",
       "\n",
       "                        50%        75%         max  \n",
       "client_id        5016973.50 7483074.25  9999839.00  \n",
       "clnt_tenure_yr        11.00      16.00       62.00  \n",
       "clnt_tenure_mnth     136.00     192.00      749.00  \n",
       "clnt_age              47.00      59.00       96.00  \n",
       "num_accts              2.00       2.00        8.00  \n",
       "bal                63334.59  137546.12 16320040.15  \n",
       "calls_6_mnth           3.00       6.00        7.00  \n",
       "logons_6_mnth          5.00       7.00        9.00  "
      ]
     },
     "execution_count": 29,
     "metadata": {},
     "output_type": "execute_result"
    }
   ],
   "source": [
    "df_fd.describe().T"
   ]
  },
  {
   "cell_type": "markdown",
   "id": "339088f7",
   "metadata": {},
   "source": [
    "Comparing the subset with the whole dataframe, it seems that there isn't much difference between the two when looking at regular descriptive statistics, meaning that the original can be used without much issue. \n",
    "\n",
    "Going solely off of descriptive statistics, it seems that typical* clients are as follows.\n",
    "- They have been with the company for between 6 and 18 years, or between 70 and 220 months. \n",
    "- They are typically between 30 and 60 years old. \n",
    "- They have up to 3 accounts. \n",
    "- They carry a balance with the company of up to 450,000.\n",
    "- They've made between 1 and 5 calls in the last six months.\n",
    "- They've logged on between 2 and 8 times. \n",
    "\n",
    "*typicality of clients determined by looking at means and standard deviations. "
   ]
  },
  {
   "cell_type": "markdown",
   "id": "489e0449",
   "metadata": {},
   "source": [
    "## Are clients older or younger?\n",
    "\n",
    "## Are they newer or longstanding?"
   ]
  },
  {
   "cell_type": "code",
   "execution_count": 30,
   "id": "0437405b",
   "metadata": {
    "scrolled": true
   },
   "outputs": [
    {
     "data": {
      "text/html": [
       "<div>\n",
       "<style scoped>\n",
       "    .dataframe tbody tr th:only-of-type {\n",
       "        vertical-align: middle;\n",
       "    }\n",
       "\n",
       "    .dataframe tbody tr th {\n",
       "        vertical-align: top;\n",
       "    }\n",
       "\n",
       "    .dataframe thead th {\n",
       "        text-align: right;\n",
       "    }\n",
       "</style>\n",
       "<table border=\"1\" class=\"dataframe\">\n",
       "  <thead>\n",
       "    <tr style=\"text-align: right;\">\n",
       "      <th></th>\n",
       "      <th>client_id</th>\n",
       "      <th>clnt_tenure_yr</th>\n",
       "      <th>clnt_tenure_mnth</th>\n",
       "      <th>clnt_age</th>\n",
       "      <th>gendr</th>\n",
       "      <th>num_accts</th>\n",
       "      <th>bal</th>\n",
       "      <th>calls_6_mnth</th>\n",
       "      <th>logons_6_mnth</th>\n",
       "    </tr>\n",
       "  </thead>\n",
       "  <tbody>\n",
       "    <tr>\n",
       "      <th>0</th>\n",
       "      <td>836976</td>\n",
       "      <td>6</td>\n",
       "      <td>73</td>\n",
       "      <td>60</td>\n",
       "      <td>U</td>\n",
       "      <td>2</td>\n",
       "      <td>45105.30</td>\n",
       "      <td>6</td>\n",
       "      <td>9</td>\n",
       "    </tr>\n",
       "    <tr>\n",
       "      <th>1</th>\n",
       "      <td>2304905</td>\n",
       "      <td>7</td>\n",
       "      <td>94</td>\n",
       "      <td>58</td>\n",
       "      <td>U</td>\n",
       "      <td>2</td>\n",
       "      <td>110860.30</td>\n",
       "      <td>6</td>\n",
       "      <td>9</td>\n",
       "    </tr>\n",
       "    <tr>\n",
       "      <th>2</th>\n",
       "      <td>1439522</td>\n",
       "      <td>5</td>\n",
       "      <td>64</td>\n",
       "      <td>32</td>\n",
       "      <td>U</td>\n",
       "      <td>2</td>\n",
       "      <td>52467.79</td>\n",
       "      <td>6</td>\n",
       "      <td>9</td>\n",
       "    </tr>\n",
       "    <tr>\n",
       "      <th>5</th>\n",
       "      <td>3727881</td>\n",
       "      <td>5</td>\n",
       "      <td>71</td>\n",
       "      <td>30</td>\n",
       "      <td>U</td>\n",
       "      <td>2</td>\n",
       "      <td>23915.60</td>\n",
       "      <td>0</td>\n",
       "      <td>3</td>\n",
       "    </tr>\n",
       "    <tr>\n",
       "      <th>6</th>\n",
       "      <td>272934</td>\n",
       "      <td>5</td>\n",
       "      <td>66</td>\n",
       "      <td>58</td>\n",
       "      <td>U</td>\n",
       "      <td>2</td>\n",
       "      <td>27021.42</td>\n",
       "      <td>2</td>\n",
       "      <td>5</td>\n",
       "    </tr>\n",
       "    <tr>\n",
       "      <th>...</th>\n",
       "      <td>...</td>\n",
       "      <td>...</td>\n",
       "      <td>...</td>\n",
       "      <td>...</td>\n",
       "      <td>...</td>\n",
       "      <td>...</td>\n",
       "      <td>...</td>\n",
       "      <td>...</td>\n",
       "      <td>...</td>\n",
       "    </tr>\n",
       "    <tr>\n",
       "      <th>70599</th>\n",
       "      <td>4851159</td>\n",
       "      <td>6</td>\n",
       "      <td>79</td>\n",
       "      <td>60</td>\n",
       "      <td>U</td>\n",
       "      <td>2</td>\n",
       "      <td>74501.76</td>\n",
       "      <td>4</td>\n",
       "      <td>4</td>\n",
       "    </tr>\n",
       "    <tr>\n",
       "      <th>70600</th>\n",
       "      <td>6746156</td>\n",
       "      <td>8</td>\n",
       "      <td>106</td>\n",
       "      <td>32</td>\n",
       "      <td>F</td>\n",
       "      <td>2</td>\n",
       "      <td>19019.55</td>\n",
       "      <td>1</td>\n",
       "      <td>1</td>\n",
       "    </tr>\n",
       "    <tr>\n",
       "      <th>70602</th>\n",
       "      <td>7979279</td>\n",
       "      <td>4</td>\n",
       "      <td>49</td>\n",
       "      <td>35</td>\n",
       "      <td>F</td>\n",
       "      <td>2</td>\n",
       "      <td>40441.45</td>\n",
       "      <td>3</td>\n",
       "      <td>3</td>\n",
       "    </tr>\n",
       "    <tr>\n",
       "      <th>70603</th>\n",
       "      <td>2489338</td>\n",
       "      <td>5</td>\n",
       "      <td>66</td>\n",
       "      <td>17</td>\n",
       "      <td>U</td>\n",
       "      <td>2</td>\n",
       "      <td>17869.95</td>\n",
       "      <td>4</td>\n",
       "      <td>4</td>\n",
       "    </tr>\n",
       "    <tr>\n",
       "      <th>70604</th>\n",
       "      <td>7993686</td>\n",
       "      <td>4</td>\n",
       "      <td>56</td>\n",
       "      <td>38</td>\n",
       "      <td>U</td>\n",
       "      <td>3</td>\n",
       "      <td>1411062.68</td>\n",
       "      <td>5</td>\n",
       "      <td>5</td>\n",
       "    </tr>\n",
       "  </tbody>\n",
       "</table>\n",
       "<p>34395 rows × 9 columns</p>\n",
       "</div>"
      ],
      "text/plain": [
       "       client_id  clnt_tenure_yr  clnt_tenure_mnth  clnt_age gendr  num_accts  \\\n",
       "0         836976               6                73        60     U          2   \n",
       "1        2304905               7                94        58     U          2   \n",
       "2        1439522               5                64        32     U          2   \n",
       "5        3727881               5                71        30     U          2   \n",
       "6         272934               5                66        58     U          2   \n",
       "...          ...             ...               ...       ...   ...        ...   \n",
       "70599    4851159               6                79        60     U          2   \n",
       "70600    6746156               8               106        32     F          2   \n",
       "70602    7979279               4                49        35     F          2   \n",
       "70603    2489338               5                66        17     U          2   \n",
       "70604    7993686               4                56        38     U          3   \n",
       "\n",
       "             bal  calls_6_mnth  logons_6_mnth  \n",
       "0       45105.30             6              9  \n",
       "1      110860.30             6              9  \n",
       "2       52467.79             6              9  \n",
       "5       23915.60             0              3  \n",
       "6       27021.42             2              5  \n",
       "...          ...           ...            ...  \n",
       "70599   74501.76             4              4  \n",
       "70600   19019.55             1              1  \n",
       "70602   40441.45             3              3  \n",
       "70603   17869.95             4              4  \n",
       "70604 1411062.68             5              5  \n",
       "\n",
       "[34395 rows x 9 columns]"
      ]
     },
     "execution_count": 30,
     "metadata": {},
     "output_type": "execute_result"
    }
   ],
   "source": [
    "df_fd_young = df_fd[df_fd['clnt_tenure_yr'] <= 10]\n",
    "\n",
    "df_fd_young "
   ]
  },
  {
   "cell_type": "code",
   "execution_count": 31,
   "id": "0ddc02fb",
   "metadata": {
    "scrolled": true
   },
   "outputs": [
    {
     "data": {
      "text/html": [
       "<div>\n",
       "<style scoped>\n",
       "    .dataframe tbody tr th:only-of-type {\n",
       "        vertical-align: middle;\n",
       "    }\n",
       "\n",
       "    .dataframe tbody tr th {\n",
       "        vertical-align: top;\n",
       "    }\n",
       "\n",
       "    .dataframe thead th {\n",
       "        text-align: right;\n",
       "    }\n",
       "</style>\n",
       "<table border=\"1\" class=\"dataframe\">\n",
       "  <thead>\n",
       "    <tr style=\"text-align: right;\">\n",
       "      <th></th>\n",
       "      <th>client_id</th>\n",
       "      <th>clnt_tenure_yr</th>\n",
       "      <th>clnt_tenure_mnth</th>\n",
       "      <th>clnt_age</th>\n",
       "      <th>gendr</th>\n",
       "      <th>num_accts</th>\n",
       "      <th>bal</th>\n",
       "      <th>calls_6_mnth</th>\n",
       "      <th>logons_6_mnth</th>\n",
       "    </tr>\n",
       "  </thead>\n",
       "  <tbody>\n",
       "    <tr>\n",
       "      <th>3</th>\n",
       "      <td>1562045</td>\n",
       "      <td>16</td>\n",
       "      <td>198</td>\n",
       "      <td>49</td>\n",
       "      <td>M</td>\n",
       "      <td>2</td>\n",
       "      <td>67454.65</td>\n",
       "      <td>3</td>\n",
       "      <td>6</td>\n",
       "    </tr>\n",
       "    <tr>\n",
       "      <th>4</th>\n",
       "      <td>5126305</td>\n",
       "      <td>12</td>\n",
       "      <td>145</td>\n",
       "      <td>33</td>\n",
       "      <td>F</td>\n",
       "      <td>2</td>\n",
       "      <td>103671.75</td>\n",
       "      <td>0</td>\n",
       "      <td>3</td>\n",
       "    </tr>\n",
       "    <tr>\n",
       "      <th>9</th>\n",
       "      <td>8198645</td>\n",
       "      <td>15</td>\n",
       "      <td>189</td>\n",
       "      <td>54</td>\n",
       "      <td>F</td>\n",
       "      <td>2</td>\n",
       "      <td>382303.83</td>\n",
       "      <td>6</td>\n",
       "      <td>9</td>\n",
       "    </tr>\n",
       "    <tr>\n",
       "      <th>13</th>\n",
       "      <td>2214073</td>\n",
       "      <td>16</td>\n",
       "      <td>193</td>\n",
       "      <td>62</td>\n",
       "      <td>M</td>\n",
       "      <td>3</td>\n",
       "      <td>136818.03</td>\n",
       "      <td>6</td>\n",
       "      <td>9</td>\n",
       "    </tr>\n",
       "    <tr>\n",
       "      <th>18</th>\n",
       "      <td>719792</td>\n",
       "      <td>11</td>\n",
       "      <td>136</td>\n",
       "      <td>31</td>\n",
       "      <td>F</td>\n",
       "      <td>2</td>\n",
       "      <td>111736.78</td>\n",
       "      <td>5</td>\n",
       "      <td>8</td>\n",
       "    </tr>\n",
       "    <tr>\n",
       "      <th>...</th>\n",
       "      <td>...</td>\n",
       "      <td>...</td>\n",
       "      <td>...</td>\n",
       "      <td>...</td>\n",
       "      <td>...</td>\n",
       "      <td>...</td>\n",
       "      <td>...</td>\n",
       "      <td>...</td>\n",
       "      <td>...</td>\n",
       "    </tr>\n",
       "    <tr>\n",
       "      <th>70593</th>\n",
       "      <td>7217125</td>\n",
       "      <td>14</td>\n",
       "      <td>178</td>\n",
       "      <td>58</td>\n",
       "      <td>U</td>\n",
       "      <td>2</td>\n",
       "      <td>319382.04</td>\n",
       "      <td>5</td>\n",
       "      <td>6</td>\n",
       "    </tr>\n",
       "    <tr>\n",
       "      <th>70595</th>\n",
       "      <td>1196936</td>\n",
       "      <td>15</td>\n",
       "      <td>184</td>\n",
       "      <td>45</td>\n",
       "      <td>F</td>\n",
       "      <td>2</td>\n",
       "      <td>482000.12</td>\n",
       "      <td>1</td>\n",
       "      <td>1</td>\n",
       "    </tr>\n",
       "    <tr>\n",
       "      <th>70601</th>\n",
       "      <td>2690705</td>\n",
       "      <td>15</td>\n",
       "      <td>181</td>\n",
       "      <td>53</td>\n",
       "      <td>F</td>\n",
       "      <td>2</td>\n",
       "      <td>24910.52</td>\n",
       "      <td>3</td>\n",
       "      <td>3</td>\n",
       "    </tr>\n",
       "    <tr>\n",
       "      <th>70605</th>\n",
       "      <td>8981690</td>\n",
       "      <td>12</td>\n",
       "      <td>148</td>\n",
       "      <td>31</td>\n",
       "      <td>M</td>\n",
       "      <td>2</td>\n",
       "      <td>101867.07</td>\n",
       "      <td>6</td>\n",
       "      <td>6</td>\n",
       "    </tr>\n",
       "    <tr>\n",
       "      <th>70606</th>\n",
       "      <td>333913</td>\n",
       "      <td>16</td>\n",
       "      <td>198</td>\n",
       "      <td>61</td>\n",
       "      <td>F</td>\n",
       "      <td>2</td>\n",
       "      <td>40745.00</td>\n",
       "      <td>3</td>\n",
       "      <td>3</td>\n",
       "    </tr>\n",
       "  </tbody>\n",
       "</table>\n",
       "<p>26394 rows × 9 columns</p>\n",
       "</div>"
      ],
      "text/plain": [
       "       client_id  clnt_tenure_yr  clnt_tenure_mnth  clnt_age gendr  num_accts  \\\n",
       "3        1562045              16               198        49     M          2   \n",
       "4        5126305              12               145        33     F          2   \n",
       "9        8198645              15               189        54     F          2   \n",
       "13       2214073              16               193        62     M          3   \n",
       "18        719792              11               136        31     F          2   \n",
       "...          ...             ...               ...       ...   ...        ...   \n",
       "70593    7217125              14               178        58     U          2   \n",
       "70595    1196936              15               184        45     F          2   \n",
       "70601    2690705              15               181        53     F          2   \n",
       "70605    8981690              12               148        31     M          2   \n",
       "70606     333913              16               198        61     F          2   \n",
       "\n",
       "            bal  calls_6_mnth  logons_6_mnth  \n",
       "3      67454.65             3              6  \n",
       "4     103671.75             0              3  \n",
       "9     382303.83             6              9  \n",
       "13    136818.03             6              9  \n",
       "18    111736.78             5              8  \n",
       "...         ...           ...            ...  \n",
       "70593 319382.04             5              6  \n",
       "70595 482000.12             1              1  \n",
       "70601  24910.52             3              3  \n",
       "70605 101867.07             6              6  \n",
       "70606  40745.00             3              3  \n",
       "\n",
       "[26394 rows x 9 columns]"
      ]
     },
     "execution_count": 31,
     "metadata": {},
     "output_type": "execute_result"
    }
   ],
   "source": [
    "df_fd_teens = df_fd[(df_fd['clnt_tenure_yr'] > 10) & (df_fd['clnt_tenure_yr'] <= 20)]\n",
    "\n",
    "df_fd_teens"
   ]
  },
  {
   "cell_type": "code",
   "execution_count": 32,
   "id": "6bb9bfdd",
   "metadata": {
    "scrolled": true
   },
   "outputs": [
    {
     "data": {
      "text/html": [
       "<div>\n",
       "<style scoped>\n",
       "    .dataframe tbody tr th:only-of-type {\n",
       "        vertical-align: middle;\n",
       "    }\n",
       "\n",
       "    .dataframe tbody tr th {\n",
       "        vertical-align: top;\n",
       "    }\n",
       "\n",
       "    .dataframe thead th {\n",
       "        text-align: right;\n",
       "    }\n",
       "</style>\n",
       "<table border=\"1\" class=\"dataframe\">\n",
       "  <thead>\n",
       "    <tr style=\"text-align: right;\">\n",
       "      <th></th>\n",
       "      <th>client_id</th>\n",
       "      <th>clnt_tenure_yr</th>\n",
       "      <th>clnt_tenure_mnth</th>\n",
       "      <th>clnt_age</th>\n",
       "      <th>gendr</th>\n",
       "      <th>num_accts</th>\n",
       "      <th>bal</th>\n",
       "      <th>calls_6_mnth</th>\n",
       "      <th>logons_6_mnth</th>\n",
       "    </tr>\n",
       "  </thead>\n",
       "  <tbody>\n",
       "    <tr>\n",
       "      <th>7</th>\n",
       "      <td>388801</td>\n",
       "      <td>30</td>\n",
       "      <td>361</td>\n",
       "      <td>57</td>\n",
       "      <td>M</td>\n",
       "      <td>5</td>\n",
       "      <td>522498.72</td>\n",
       "      <td>1</td>\n",
       "      <td>4</td>\n",
       "    </tr>\n",
       "    <tr>\n",
       "      <th>8</th>\n",
       "      <td>285619</td>\n",
       "      <td>30</td>\n",
       "      <td>369</td>\n",
       "      <td>67</td>\n",
       "      <td>M</td>\n",
       "      <td>2</td>\n",
       "      <td>299388.72</td>\n",
       "      <td>3</td>\n",
       "      <td>6</td>\n",
       "    </tr>\n",
       "    <tr>\n",
       "      <th>40</th>\n",
       "      <td>3753796</td>\n",
       "      <td>25</td>\n",
       "      <td>305</td>\n",
       "      <td>66</td>\n",
       "      <td>F</td>\n",
       "      <td>2</td>\n",
       "      <td>214661.75</td>\n",
       "      <td>6</td>\n",
       "      <td>9</td>\n",
       "    </tr>\n",
       "    <tr>\n",
       "      <th>41</th>\n",
       "      <td>6647577</td>\n",
       "      <td>23</td>\n",
       "      <td>286</td>\n",
       "      <td>68</td>\n",
       "      <td>F</td>\n",
       "      <td>3</td>\n",
       "      <td>86005.57</td>\n",
       "      <td>2</td>\n",
       "      <td>5</td>\n",
       "    </tr>\n",
       "    <tr>\n",
       "      <th>42</th>\n",
       "      <td>6341488</td>\n",
       "      <td>23</td>\n",
       "      <td>285</td>\n",
       "      <td>65</td>\n",
       "      <td>F</td>\n",
       "      <td>2</td>\n",
       "      <td>116534.46</td>\n",
       "      <td>5</td>\n",
       "      <td>8</td>\n",
       "    </tr>\n",
       "    <tr>\n",
       "      <th>...</th>\n",
       "      <td>...</td>\n",
       "      <td>...</td>\n",
       "      <td>...</td>\n",
       "      <td>...</td>\n",
       "      <td>...</td>\n",
       "      <td>...</td>\n",
       "      <td>...</td>\n",
       "      <td>...</td>\n",
       "      <td>...</td>\n",
       "    </tr>\n",
       "    <tr>\n",
       "      <th>70581</th>\n",
       "      <td>2184810</td>\n",
       "      <td>23</td>\n",
       "      <td>286</td>\n",
       "      <td>75</td>\n",
       "      <td>M</td>\n",
       "      <td>4</td>\n",
       "      <td>2496314.67</td>\n",
       "      <td>7</td>\n",
       "      <td>7</td>\n",
       "    </tr>\n",
       "    <tr>\n",
       "      <th>70584</th>\n",
       "      <td>1018789</td>\n",
       "      <td>21</td>\n",
       "      <td>253</td>\n",
       "      <td>39</td>\n",
       "      <td>M</td>\n",
       "      <td>2</td>\n",
       "      <td>81209.33</td>\n",
       "      <td>4</td>\n",
       "      <td>4</td>\n",
       "    </tr>\n",
       "    <tr>\n",
       "      <th>70585</th>\n",
       "      <td>1331944</td>\n",
       "      <td>23</td>\n",
       "      <td>285</td>\n",
       "      <td>60</td>\n",
       "      <td>M</td>\n",
       "      <td>2</td>\n",
       "      <td>34168.90</td>\n",
       "      <td>1</td>\n",
       "      <td>1</td>\n",
       "    </tr>\n",
       "    <tr>\n",
       "      <th>70607</th>\n",
       "      <td>1573142</td>\n",
       "      <td>21</td>\n",
       "      <td>255</td>\n",
       "      <td>68</td>\n",
       "      <td>M</td>\n",
       "      <td>3</td>\n",
       "      <td>475114.69</td>\n",
       "      <td>4</td>\n",
       "      <td>4</td>\n",
       "    </tr>\n",
       "    <tr>\n",
       "      <th>70608</th>\n",
       "      <td>5602139</td>\n",
       "      <td>21</td>\n",
       "      <td>254</td>\n",
       "      <td>59</td>\n",
       "      <td>F</td>\n",
       "      <td>3</td>\n",
       "      <td>157498.73</td>\n",
       "      <td>7</td>\n",
       "      <td>7</td>\n",
       "    </tr>\n",
       "  </tbody>\n",
       "</table>\n",
       "<p>8769 rows × 9 columns</p>\n",
       "</div>"
      ],
      "text/plain": [
       "       client_id  clnt_tenure_yr  clnt_tenure_mnth  clnt_age gendr  num_accts  \\\n",
       "7         388801              30               361        57     M          5   \n",
       "8         285619              30               369        67     M          2   \n",
       "40       3753796              25               305        66     F          2   \n",
       "41       6647577              23               286        68     F          3   \n",
       "42       6341488              23               285        65     F          2   \n",
       "...          ...             ...               ...       ...   ...        ...   \n",
       "70581    2184810              23               286        75     M          4   \n",
       "70584    1018789              21               253        39     M          2   \n",
       "70585    1331944              23               285        60     M          2   \n",
       "70607    1573142              21               255        68     M          3   \n",
       "70608    5602139              21               254        59     F          3   \n",
       "\n",
       "             bal  calls_6_mnth  logons_6_mnth  \n",
       "7      522498.72             1              4  \n",
       "8      299388.72             3              6  \n",
       "40     214661.75             6              9  \n",
       "41      86005.57             2              5  \n",
       "42     116534.46             5              8  \n",
       "...          ...           ...            ...  \n",
       "70581 2496314.67             7              7  \n",
       "70584   81209.33             4              4  \n",
       "70585   34168.90             1              1  \n",
       "70607  475114.69             4              4  \n",
       "70608  157498.73             7              7  \n",
       "\n",
       "[8769 rows x 9 columns]"
      ]
     },
     "execution_count": 32,
     "metadata": {},
     "output_type": "execute_result"
    }
   ],
   "source": [
    "df_fd_tw = df_fd[(df_fd['clnt_tenure_yr'] > 20) & (df_fd['clnt_tenure_yr'] <= 30)]\n",
    "\n",
    "df_fd_tw"
   ]
  },
  {
   "cell_type": "code",
   "execution_count": 33,
   "id": "27d563d0",
   "metadata": {
    "scrolled": true
   },
   "outputs": [
    {
     "data": {
      "text/html": [
       "<div>\n",
       "<style scoped>\n",
       "    .dataframe tbody tr th:only-of-type {\n",
       "        vertical-align: middle;\n",
       "    }\n",
       "\n",
       "    .dataframe tbody tr th {\n",
       "        vertical-align: top;\n",
       "    }\n",
       "\n",
       "    .dataframe thead th {\n",
       "        text-align: right;\n",
       "    }\n",
       "</style>\n",
       "<table border=\"1\" class=\"dataframe\">\n",
       "  <thead>\n",
       "    <tr style=\"text-align: right;\">\n",
       "      <th></th>\n",
       "      <th>client_id</th>\n",
       "      <th>clnt_tenure_yr</th>\n",
       "      <th>clnt_tenure_mnth</th>\n",
       "      <th>clnt_age</th>\n",
       "      <th>gendr</th>\n",
       "      <th>num_accts</th>\n",
       "      <th>bal</th>\n",
       "      <th>calls_6_mnth</th>\n",
       "      <th>logons_6_mnth</th>\n",
       "    </tr>\n",
       "  </thead>\n",
       "  <tbody>\n",
       "    <tr>\n",
       "      <th>260</th>\n",
       "      <td>6815257</td>\n",
       "      <td>46</td>\n",
       "      <td>554</td>\n",
       "      <td>72</td>\n",
       "      <td>M</td>\n",
       "      <td>2</td>\n",
       "      <td>92157.08</td>\n",
       "      <td>1</td>\n",
       "      <td>4</td>\n",
       "    </tr>\n",
       "    <tr>\n",
       "      <th>337</th>\n",
       "      <td>9371037</td>\n",
       "      <td>32</td>\n",
       "      <td>395</td>\n",
       "      <td>68</td>\n",
       "      <td>M</td>\n",
       "      <td>3</td>\n",
       "      <td>181523.87</td>\n",
       "      <td>2</td>\n",
       "      <td>6</td>\n",
       "    </tr>\n",
       "    <tr>\n",
       "      <th>540</th>\n",
       "      <td>7236024</td>\n",
       "      <td>33</td>\n",
       "      <td>399</td>\n",
       "      <td>65</td>\n",
       "      <td>F</td>\n",
       "      <td>2</td>\n",
       "      <td>75865.33</td>\n",
       "      <td>0</td>\n",
       "      <td>3</td>\n",
       "    </tr>\n",
       "    <tr>\n",
       "      <th>632</th>\n",
       "      <td>4244298</td>\n",
       "      <td>32</td>\n",
       "      <td>388</td>\n",
       "      <td>66</td>\n",
       "      <td>F</td>\n",
       "      <td>2</td>\n",
       "      <td>153623.34</td>\n",
       "      <td>6</td>\n",
       "      <td>9</td>\n",
       "    </tr>\n",
       "    <tr>\n",
       "      <th>644</th>\n",
       "      <td>1088201</td>\n",
       "      <td>35</td>\n",
       "      <td>421</td>\n",
       "      <td>54</td>\n",
       "      <td>M</td>\n",
       "      <td>2</td>\n",
       "      <td>23926.17</td>\n",
       "      <td>1</td>\n",
       "      <td>4</td>\n",
       "    </tr>\n",
       "    <tr>\n",
       "      <th>...</th>\n",
       "      <td>...</td>\n",
       "      <td>...</td>\n",
       "      <td>...</td>\n",
       "      <td>...</td>\n",
       "      <td>...</td>\n",
       "      <td>...</td>\n",
       "      <td>...</td>\n",
       "      <td>...</td>\n",
       "      <td>...</td>\n",
       "    </tr>\n",
       "    <tr>\n",
       "      <th>70262</th>\n",
       "      <td>6680664</td>\n",
       "      <td>33</td>\n",
       "      <td>400</td>\n",
       "      <td>54</td>\n",
       "      <td>F</td>\n",
       "      <td>2</td>\n",
       "      <td>327940.61</td>\n",
       "      <td>1</td>\n",
       "      <td>1</td>\n",
       "    </tr>\n",
       "    <tr>\n",
       "      <th>70276</th>\n",
       "      <td>4270267</td>\n",
       "      <td>32</td>\n",
       "      <td>390</td>\n",
       "      <td>31</td>\n",
       "      <td>M</td>\n",
       "      <td>2</td>\n",
       "      <td>228691.16</td>\n",
       "      <td>7</td>\n",
       "      <td>7</td>\n",
       "    </tr>\n",
       "    <tr>\n",
       "      <th>70338</th>\n",
       "      <td>879715</td>\n",
       "      <td>32</td>\n",
       "      <td>394</td>\n",
       "      <td>65</td>\n",
       "      <td>F</td>\n",
       "      <td>4</td>\n",
       "      <td>129292.82</td>\n",
       "      <td>3</td>\n",
       "      <td>3</td>\n",
       "    </tr>\n",
       "    <tr>\n",
       "      <th>70524</th>\n",
       "      <td>9147180</td>\n",
       "      <td>31</td>\n",
       "      <td>374</td>\n",
       "      <td>24</td>\n",
       "      <td>F</td>\n",
       "      <td>2</td>\n",
       "      <td>57062.46</td>\n",
       "      <td>5</td>\n",
       "      <td>5</td>\n",
       "    </tr>\n",
       "    <tr>\n",
       "      <th>70591</th>\n",
       "      <td>7939133</td>\n",
       "      <td>37</td>\n",
       "      <td>447</td>\n",
       "      <td>58</td>\n",
       "      <td>F</td>\n",
       "      <td>2</td>\n",
       "      <td>375064.35</td>\n",
       "      <td>3</td>\n",
       "      <td>3</td>\n",
       "    </tr>\n",
       "  </tbody>\n",
       "</table>\n",
       "<p>1036 rows × 9 columns</p>\n",
       "</div>"
      ],
      "text/plain": [
       "       client_id  clnt_tenure_yr  clnt_tenure_mnth  clnt_age gendr  num_accts  \\\n",
       "260      6815257              46               554        72     M          2   \n",
       "337      9371037              32               395        68     M          3   \n",
       "540      7236024              33               399        65     F          2   \n",
       "632      4244298              32               388        66     F          2   \n",
       "644      1088201              35               421        54     M          2   \n",
       "...          ...             ...               ...       ...   ...        ...   \n",
       "70262    6680664              33               400        54     F          2   \n",
       "70276    4270267              32               390        31     M          2   \n",
       "70338     879715              32               394        65     F          4   \n",
       "70524    9147180              31               374        24     F          2   \n",
       "70591    7939133              37               447        58     F          2   \n",
       "\n",
       "            bal  calls_6_mnth  logons_6_mnth  \n",
       "260    92157.08             1              4  \n",
       "337   181523.87             2              6  \n",
       "540    75865.33             0              3  \n",
       "632   153623.34             6              9  \n",
       "644    23926.17             1              4  \n",
       "...         ...           ...            ...  \n",
       "70262 327940.61             1              1  \n",
       "70276 228691.16             7              7  \n",
       "70338 129292.82             3              3  \n",
       "70524  57062.46             5              5  \n",
       "70591 375064.35             3              3  \n",
       "\n",
       "[1036 rows x 9 columns]"
      ]
     },
     "execution_count": 33,
     "metadata": {},
     "output_type": "execute_result"
    }
   ],
   "source": [
    "df_fd_old =  df_fd[df_fd['clnt_tenure_yr'] > 30]\n",
    "\n",
    "df_fd_old"
   ]
  },
  {
   "cell_type": "code",
   "execution_count": 34,
   "id": "6026efc2",
   "metadata": {},
   "outputs": [
    {
     "data": {
      "text/plain": [
       "True"
      ]
     },
     "execution_count": 34,
     "metadata": {},
     "output_type": "execute_result"
    }
   ],
   "source": [
    "len(df_fd) == len(df_fd_young) + len(df_fd_teens) + len(df_fd_tw) + len(df_fd_old)"
   ]
  },
  {
   "cell_type": "code",
   "execution_count": 35,
   "id": "eb9ce18d",
   "metadata": {
    "scrolled": true
   },
   "outputs": [
    {
     "data": {
      "text/plain": [
       "clnt_age_range\n",
       "50    15525\n",
       "30    13132\n",
       "40    12419\n",
       "20    12083\n",
       "60    11950\n",
       "70     3572\n",
       "10     1216\n",
       "80      648\n",
       "90       49\n",
       "Name: count, dtype: int64"
      ]
     },
     "execution_count": 35,
     "metadata": {},
     "output_type": "execute_result"
    }
   ],
   "source": [
    "# Discretizing 'SalePrice' into 4 categories\n",
    "# takes continuous variables and turns them in discreet variables by binning them\n",
    "bins = [10, 19, 29, 39, 49, 59, 69, 79, 89, df_fd['clnt_age'].max()]\n",
    "labels = ['10', '20', '30', '40', '50', '60', '70', '80', '90']\n",
    "# create new column using the data above\n",
    "df_fd['clnt_age_range'] = pd.cut(df_fd['clnt_age'], bins=bins, labels=labels, include_lowest=True)\n",
    "df_fd.clnt_age_range.value_counts()"
   ]
  },
  {
   "cell_type": "code",
   "execution_count": 36,
   "id": "aaab4d82",
   "metadata": {
    "scrolled": false
   },
   "outputs": [
    {
     "name": "stderr",
     "output_type": "stream",
     "text": [
      "c:\\Users\\dylan\\anaconda3\\Lib\\site-packages\\seaborn\\_oldcore.py:1119: FutureWarning: use_inf_as_na option is deprecated and will be removed in a future version. Convert inf values to NaN before operating instead.\n",
      "  with pd.option_context('mode.use_inf_as_na', True):\n"
     ]
    },
    {
     "data": {
      "text/plain": [
       "<Axes: xlabel='clnt_age_range', ylabel='Count'>"
      ]
     },
     "execution_count": 36,
     "metadata": {},
     "output_type": "execute_result"
    },
    {
     "data": {
      "image/png": "[encoded data removed]",
      "text/plain": [
       "<Figure size 640x480 with 1 Axes>"
      ]
     },
     "metadata": {},
     "output_type": "display_data"
    }
   ],
   "source": [
    "sns.histplot(df_fd['clnt_age_range'], bins=30, color=\"green\")"
   ]
  },
  {
   "cell_type": "markdown",
   "id": "12395b81",
   "metadata": {},
   "source": [
    "## Notes:\n",
    "\n",
    "- From this analysis we can see that the majority of our clients have had there accounts between the years of 20 and 30. \n",
    "\n",
    "- The age range that has the most clients is form 50. the over all client range is from 20 - 60 with outliers at the ranges of 10, 70, 80, and 90"
   ]
  },
  {
   "cell_type": "markdown",
   "id": "55750a6c",
   "metadata": {},
   "source": [
    "### Visualizations"
   ]
  },
  {
   "cell_type": "markdown",
   "id": "d547faa7",
   "metadata": {},
   "source": [
    "**Categorical Values**"
   ]
  },
  {
   "cell_type": "code",
   "execution_count": 37,
   "id": "e60e370e",
   "metadata": {},
   "outputs": [
    {
     "data": {
      "text/plain": [
       "(variation\n",
       " Test       26968\n",
       " Control    23532\n",
       " Name: count, dtype: int64,\n",
       " variation\n",
       " Test      0.53\n",
       " Control   0.47\n",
       " Name: proportion, dtype: float64)"
      ]
     },
     "execution_count": 37,
     "metadata": {},
     "output_type": "execute_result"
    }
   ],
   "source": [
    "frequency_table = df_fe_c['variation'].value_counts()\n",
    "proportion_table = df_fe_c['variation'].value_counts(normalize=True)\n",
    "\n",
    "frequency_table, proportion_table"
   ]
  },
  {
   "cell_type": "code",
   "execution_count": 38,
   "id": "bfd45f6a",
   "metadata": {},
   "outputs": [
    {
     "data": {
      "text/plain": [
       "(gendr\n",
       " U    24125\n",
       " M    23724\n",
       " F    22745\n",
       " Name: count, dtype: int64,\n",
       " gendr\n",
       " U   0.34\n",
       " M   0.34\n",
       " F   0.32\n",
       " Name: proportion, dtype: float64)"
      ]
     },
     "execution_count": 38,
     "metadata": {},
     "output_type": "execute_result"
    }
   ],
   "source": [
    "frequency_gender = df_fd['gendr'].value_counts()\n",
    "proportion_gender = df_fd['gendr'].value_counts(normalize=True)\n",
    "frequency_gender, proportion_gender"
   ]
  },
  {
   "cell_type": "code",
   "execution_count": 39,
   "id": "c13c1c7c",
   "metadata": {},
   "outputs": [
    {
     "data": {
      "text/plain": [
       "(process_step\n",
       " start      99162\n",
       " step_1     65548\n",
       " step_2     54631\n",
       " step_3     46875\n",
       " confirm    41415\n",
       " Name: count, dtype: int64,\n",
       " process_step\n",
       " start     0.32\n",
       " step_1    0.21\n",
       " step_2    0.18\n",
       " step_3    0.15\n",
       " confirm   0.13\n",
       " Name: proportion, dtype: float64)"
      ]
     },
     "execution_count": 39,
     "metadata": {},
     "output_type": "execute_result"
    }
   ],
   "source": [
    "frequency_process_steps = test_subjects_df['process_step'].value_counts()\n",
    "proportion_process_steps = test_subjects_df['process_step'].value_counts(normalize=True)\n",
    "frequency_process_steps, proportion_process_steps"
   ]
  },
  {
   "cell_type": "code",
   "execution_count": 40,
   "id": "a74a19b7",
   "metadata": {},
   "outputs": [],
   "source": [
    "# Create a list of categories sorted by total counts in descending order\n",
    "category_order = ['Control','Test']\n",
    "hue_order = ['start', 'step_1', 'step_2', 'step_3', 'confirm']"
   ]
  },
  {
   "cell_type": "code",
   "execution_count": 41,
   "id": "d247de33",
   "metadata": {},
   "outputs": [
    {
     "data": {
      "text/plain": [
       "<Axes: xlabel='variation', ylabel='count'>"
      ]
     },
     "execution_count": 41,
     "metadata": {},
     "output_type": "execute_result"
    },
    {
     "data": {
      "image/png": "[encoded data removed]",
      "text/plain": [
       "<Figure size 640x480 with 1 Axes>"
      ]
     },
     "metadata": {},
     "output_type": "display_data"
    }
   ],
   "source": [
    "# Plotting a grouped bar chart\n",
    "sns.countplot(data=test_subjects_df, x='variation', hue= 'process_step', palette='Set3', order = category_order, hue_order = hue_order)"
   ]
  },
  {
   "cell_type": "code",
   "execution_count": 42,
   "id": "146be53f",
   "metadata": {},
   "outputs": [
    {
     "data": {
      "image/png": "[encoded data removed]",
      "text/plain": [
       "<Figure size 640x480 with 1 Axes>"
      ]
     },
     "metadata": {},
     "output_type": "display_data"
    }
   ],
   "source": [
    "# Plotting a bar chart using the values from the frequency gender table, with colors sourced from the \"Set3\" palette\n",
    "sns.barplot(x=frequency_gender.index, y=frequency_gender.values, palette=\"Set3\");"
   ]
  },
  {
   "cell_type": "markdown",
   "id": "2d6d3ec1",
   "metadata": {},
   "source": [
    "**Numerical Values**"
   ]
  },
  {
   "cell_type": "code",
   "execution_count": 43,
   "id": "dcef8e9d",
   "metadata": {},
   "outputs": [
    {
     "data": {
      "text/html": [
       "<div>\n",
       "<style scoped>\n",
       "    .dataframe tbody tr th:only-of-type {\n",
       "        vertical-align: middle;\n",
       "    }\n",
       "\n",
       "    .dataframe tbody tr th {\n",
       "        vertical-align: top;\n",
       "    }\n",
       "\n",
       "    .dataframe thead th {\n",
       "        text-align: right;\n",
       "    }\n",
       "</style>\n",
       "<table border=\"1\" class=\"dataframe\">\n",
       "  <thead>\n",
       "    <tr style=\"text-align: right;\">\n",
       "      <th></th>\n",
       "      <th>count</th>\n",
       "      <th>mean</th>\n",
       "      <th>std</th>\n",
       "      <th>min</th>\n",
       "      <th>25%</th>\n",
       "      <th>50%</th>\n",
       "      <th>75%</th>\n",
       "      <th>max</th>\n",
       "    </tr>\n",
       "  </thead>\n",
       "  <tbody>\n",
       "    <tr>\n",
       "      <th>client_id</th>\n",
       "      <td>70594.00</td>\n",
       "      <td>5005025.75</td>\n",
       "      <td>2877289.31</td>\n",
       "      <td>169.00</td>\n",
       "      <td>2519542.75</td>\n",
       "      <td>5016973.50</td>\n",
       "      <td>7483074.25</td>\n",
       "      <td>9999839.00</td>\n",
       "    </tr>\n",
       "    <tr>\n",
       "      <th>clnt_tenure_yr</th>\n",
       "      <td>70594.00</td>\n",
       "      <td>12.05</td>\n",
       "      <td>6.87</td>\n",
       "      <td>2.00</td>\n",
       "      <td>6.00</td>\n",
       "      <td>11.00</td>\n",
       "      <td>16.00</td>\n",
       "      <td>62.00</td>\n",
       "    </tr>\n",
       "    <tr>\n",
       "      <th>clnt_tenure_mnth</th>\n",
       "      <td>70594.00</td>\n",
       "      <td>150.66</td>\n",
       "      <td>82.09</td>\n",
       "      <td>33.00</td>\n",
       "      <td>82.00</td>\n",
       "      <td>136.00</td>\n",
       "      <td>192.00</td>\n",
       "      <td>749.00</td>\n",
       "    </tr>\n",
       "    <tr>\n",
       "      <th>clnt_age</th>\n",
       "      <td>70594.00</td>\n",
       "      <td>46.18</td>\n",
       "      <td>15.60</td>\n",
       "      <td>13.00</td>\n",
       "      <td>32.00</td>\n",
       "      <td>47.00</td>\n",
       "      <td>59.00</td>\n",
       "      <td>96.00</td>\n",
       "    </tr>\n",
       "    <tr>\n",
       "      <th>num_accts</th>\n",
       "      <td>70594.00</td>\n",
       "      <td>2.26</td>\n",
       "      <td>0.53</td>\n",
       "      <td>1.00</td>\n",
       "      <td>2.00</td>\n",
       "      <td>2.00</td>\n",
       "      <td>2.00</td>\n",
       "      <td>8.00</td>\n",
       "    </tr>\n",
       "    <tr>\n",
       "      <th>bal</th>\n",
       "      <td>70594.00</td>\n",
       "      <td>147446.73</td>\n",
       "      <td>301510.58</td>\n",
       "      <td>13789.42</td>\n",
       "      <td>37346.60</td>\n",
       "      <td>63334.59</td>\n",
       "      <td>137546.12</td>\n",
       "      <td>16320040.15</td>\n",
       "    </tr>\n",
       "    <tr>\n",
       "      <th>calls_6_mnth</th>\n",
       "      <td>70594.00</td>\n",
       "      <td>3.38</td>\n",
       "      <td>2.24</td>\n",
       "      <td>0.00</td>\n",
       "      <td>1.00</td>\n",
       "      <td>3.00</td>\n",
       "      <td>6.00</td>\n",
       "      <td>7.00</td>\n",
       "    </tr>\n",
       "    <tr>\n",
       "      <th>logons_6_mnth</th>\n",
       "      <td>70594.00</td>\n",
       "      <td>5.57</td>\n",
       "      <td>2.35</td>\n",
       "      <td>1.00</td>\n",
       "      <td>4.00</td>\n",
       "      <td>5.00</td>\n",
       "      <td>7.00</td>\n",
       "      <td>9.00</td>\n",
       "    </tr>\n",
       "  </tbody>\n",
       "</table>\n",
       "</div>"
      ],
      "text/plain": [
       "                    count       mean        std      min        25%  \\\n",
       "client_id        70594.00 5005025.75 2877289.31   169.00 2519542.75   \n",
       "clnt_tenure_yr   70594.00      12.05       6.87     2.00       6.00   \n",
       "clnt_tenure_mnth 70594.00     150.66      82.09    33.00      82.00   \n",
       "clnt_age         70594.00      46.18      15.60    13.00      32.00   \n",
       "num_accts        70594.00       2.26       0.53     1.00       2.00   \n",
       "bal              70594.00  147446.73  301510.58 13789.42   37346.60   \n",
       "calls_6_mnth     70594.00       3.38       2.24     0.00       1.00   \n",
       "logons_6_mnth    70594.00       5.57       2.35     1.00       4.00   \n",
       "\n",
       "                        50%        75%         max  \n",
       "client_id        5016973.50 7483074.25  9999839.00  \n",
       "clnt_tenure_yr        11.00      16.00       62.00  \n",
       "clnt_tenure_mnth     136.00     192.00      749.00  \n",
       "clnt_age              47.00      59.00       96.00  \n",
       "num_accts              2.00       2.00        8.00  \n",
       "bal                63334.59  137546.12 16320040.15  \n",
       "calls_6_mnth           3.00       6.00        7.00  \n",
       "logons_6_mnth          5.00       7.00        9.00  "
      ]
     },
     "execution_count": 43,
     "metadata": {},
     "output_type": "execute_result"
    }
   ],
   "source": [
    "demographic_numerical = df_fd.select_dtypes(\"number\")\n",
    "demographic_numerical.describe().T"
   ]
  },
  {
   "cell_type": "markdown",
   "id": "c4bcaaed",
   "metadata": {},
   "source": [
    "**Shape of distribution**"
   ]
  },
  {
   "cell_type": "code",
   "execution_count": 44,
   "id": "feb77d96",
   "metadata": {},
   "outputs": [
    {
     "data": {
      "text/plain": [
       "(0.08294227402556785, -0.9239629855316349)"
      ]
     },
     "execution_count": 44,
     "metadata": {},
     "output_type": "execute_result"
    }
   ],
   "source": [
    "client_age_skewness = demographic_numerical['clnt_age'].skew()\n",
    "client_age_kurtosis = demographic_numerical['clnt_age'].kurtosis()\n",
    "\n",
    "client_age_skewness, client_age_kurtosis"
   ]
  },
  {
   "cell_type": "code",
   "execution_count": 45,
   "id": "a55db1cc",
   "metadata": {},
   "outputs": [
    {
     "name": "stderr",
     "output_type": "stream",
     "text": [
      "c:\\Users\\dylan\\anaconda3\\Lib\\site-packages\\seaborn\\_oldcore.py:1119: FutureWarning: use_inf_as_na option is deprecated and will be removed in a future version. Convert inf values to NaN before operating instead.\n",
      "  with pd.option_context('mode.use_inf_as_na', True):\n"
     ]
    },
    {
     "data": {
      "text/plain": [
       "<Axes: xlabel='clnt_age', ylabel='Count'>"
      ]
     },
     "execution_count": 45,
     "metadata": {},
     "output_type": "execute_result"
    },
    {
     "data": {
      "image/png": "[encoded data removed]",
      "text/plain": [
       "<Figure size 640x480 with 1 Axes>"
      ]
     },
     "metadata": {},
     "output_type": "display_data"
    }
   ],
   "source": [
    "sns.histplot(demographic_numerical['clnt_age'], bins=30, color=\"teal\")"
   ]
  },
  {
   "cell_type": "code",
   "execution_count": 46,
   "id": "78fccf9e",
   "metadata": {},
   "outputs": [
    {
     "data": {
      "text/plain": [
       "<Axes: >"
      ]
     },
     "execution_count": 46,
     "metadata": {},
     "output_type": "execute_result"
    },
    {
     "data": {
      "image/png": "[encoded data removed]",
      "text/plain": [
       "<Figure size 640x480 with 1 Axes>"
      ]
     },
     "metadata": {},
     "output_type": "display_data"
    }
   ],
   "source": [
    "sns.boxplot(data = demographic_numerical['clnt_age'], color=\"lightblue\")"
   ]
  },
  {
   "cell_type": "code",
   "execution_count": 47,
   "id": "9723cba7",
   "metadata": {},
   "outputs": [
    {
     "data": {
      "text/plain": [
       "(1.0366247018480386, 1.0709232170805043)"
      ]
     },
     "execution_count": 47,
     "metadata": {},
     "output_type": "execute_result"
    }
   ],
   "source": [
    "year_tenure_skewness = demographic_numerical['clnt_tenure_yr'].skew()\n",
    "year_tenure_kurtosis = demographic_numerical['clnt_tenure_yr'].kurtosis()\n",
    "\n",
    "year_tenure_skewness, year_tenure_kurtosis"
   ]
  },
  {
   "cell_type": "code",
   "execution_count": 48,
   "id": "4183f732",
   "metadata": {},
   "outputs": [
    {
     "name": "stderr",
     "output_type": "stream",
     "text": [
      "c:\\Users\\dylan\\anaconda3\\Lib\\site-packages\\seaborn\\_oldcore.py:1119: FutureWarning: use_inf_as_na option is deprecated and will be removed in a future version. Convert inf values to NaN before operating instead.\n",
      "  with pd.option_context('mode.use_inf_as_na', True):\n"
     ]
    },
    {
     "data": {
      "text/plain": [
       "<Axes: xlabel='clnt_tenure_yr', ylabel='Count'>"
      ]
     },
     "execution_count": 48,
     "metadata": {},
     "output_type": "execute_result"
    },
    {
     "data": {
      "image/png": "[encoded data removed]",
      "text/plain": [
       "<Figure size 640x480 with 1 Axes>"
      ]
     },
     "metadata": {},
     "output_type": "display_data"
    }
   ],
   "source": [
    "sns.histplot(demographic_numerical['clnt_tenure_yr'], bins=30, color=\"teal\")"
   ]
  },
  {
   "cell_type": "code",
   "execution_count": 49,
   "id": "ff620b27",
   "metadata": {},
   "outputs": [
    {
     "data": {
      "text/plain": [
       "<Axes: >"
      ]
     },
     "execution_count": 49,
     "metadata": {},
     "output_type": "execute_result"
    },
    {
     "data": {
      "image/png": "[encoded data removed]",
      "text/plain": [
       "<Figure size 640x480 with 1 Axes>"
      ]
     },
     "metadata": {},
     "output_type": "display_data"
    }
   ],
   "source": [
    "sns.boxplot(data = demographic_numerical['clnt_tenure_yr'], color=\"lightblue\")"
   ]
  },
  {
   "cell_type": "code",
   "execution_count": 50,
   "id": "2a32c9d1",
   "metadata": {},
   "outputs": [
    {
     "data": {
      "text/plain": [
       "(1.0506517922170102, 1.102446928017626)"
      ]
     },
     "execution_count": 50,
     "metadata": {},
     "output_type": "execute_result"
    }
   ],
   "source": [
    "month_tenure_skewness = demographic_numerical['clnt_tenure_mnth'].skew()\n",
    "month_tenure_kurtosis = demographic_numerical['clnt_tenure_mnth'].kurtosis()\n",
    "\n",
    "month_tenure_skewness, month_tenure_kurtosis"
   ]
  },
  {
   "cell_type": "code",
   "execution_count": 51,
   "id": "1a854eea",
   "metadata": {},
   "outputs": [
    {
     "name": "stderr",
     "output_type": "stream",
     "text": [
      "c:\\Users\\dylan\\anaconda3\\Lib\\site-packages\\seaborn\\_oldcore.py:1119: FutureWarning: use_inf_as_na option is deprecated and will be removed in a future version. Convert inf values to NaN before operating instead.\n",
      "  with pd.option_context('mode.use_inf_as_na', True):\n"
     ]
    },
    {
     "data": {
      "text/plain": [
       "<Axes: xlabel='clnt_tenure_mnth', ylabel='Count'>"
      ]
     },
     "execution_count": 51,
     "metadata": {},
     "output_type": "execute_result"
    },
    {
     "data": {
      "image/png": "[encoded data removed]",
      "text/plain": [
       "<Figure size 640x480 with 1 Axes>"
      ]
     },
     "metadata": {},
     "output_type": "display_data"
    }
   ],
   "source": [
    "sns.histplot(demographic_numerical['clnt_tenure_mnth'], bins=30, color=\"teal\")"
   ]
  },
  {
   "cell_type": "code",
   "execution_count": 52,
   "id": "97b58d7d",
   "metadata": {},
   "outputs": [
    {
     "data": {
      "text/plain": [
       "<Axes: >"
      ]
     },
     "execution_count": 52,
     "metadata": {},
     "output_type": "execute_result"
    },
    {
     "data": {
      "image/png": "[encoded data removed]",
      "text/plain": [
       "<Figure size 640x480 with 1 Axes>"
      ]
     },
     "metadata": {},
     "output_type": "display_data"
    }
   ],
   "source": [
    "sns.boxplot(data = demographic_numerical['clnt_tenure_mnth'], color=\"lightblue\")"
   ]
  },
  {
   "cell_type": "markdown",
   "id": "f8d47317",
   "metadata": {},
   "source": [
    "### KPI Analysis - Completion Rate"
   ]
  },
  {
   "cell_type": "markdown",
   "id": "ce81764f",
   "metadata": {},
   "source": [
    "One of the main KPI's we decided to investigate was whether or not a statistically significant greater number of clients were able to finish the entire website process in the test or control group. If more people in the control group are able to complete the process in the test group, then the new version of the website should be maintained if completion of the process is desirable. "
   ]
  },
  {
   "cell_type": "code",
   "execution_count": 53,
   "id": "cb020c0c",
   "metadata": {},
   "outputs": [
    {
     "name": "stdout",
     "output_type": "stream",
     "text": [
      "48781\n",
      "53911\n",
      "66298\n"
     ]
    }
   ],
   "source": [
    "# Displays number of client ids used\n",
    "print(test_subjects_df['client_id'].nunique())\n",
    "\n",
    "# Displays the number of visitor ids assigned\n",
    "print(test_subjects_df['visitor_id'].nunique())\n",
    "\n",
    "# Displays the number of visit ids assigned\n",
    "print(test_subjects_df['visit_id'].nunique())\n",
    "\n",
    "# The fact that there are more visit ids shows that some clients used the process multiple times. "
   ]
  },
  {
   "cell_type": "markdown",
   "id": "98090406",
   "metadata": {},
   "source": [
    "As we examined the data we found that many Vanguard clients visited the site and/or worked through the process multiple times. Because of that we decided to group the visits by visit id, so we could see the number of *visits* in which a client made it to a certain step. We also wanted to know how far clients progressed through the website process in each visit, so we created a subset that only contains the most recent step a client was on by visit id. In doing so, we have controlled for instances in which a process confirmed multiple times despite a client only reaching that step once."
   ]
  },
  {
   "cell_type": "code",
   "execution_count": 54,
   "id": "621c80e4",
   "metadata": {},
   "outputs": [],
   "source": [
    "# Converts date_time column to an actual datetime instead of a string\n",
    "test_subjects_df['date_time'] = pd.to_datetime(test_subjects_df['date_time'])\n",
    "\n",
    "# creates subset that only shows the most recent/final step recorded under any given visit id. \n",
    "last_visit_step_df = test_subjects_df.groupby('visit_id').first().reset_index()"
   ]
  },
  {
   "cell_type": "code",
   "execution_count": 55,
   "id": "a2f9133e",
   "metadata": {},
   "outputs": [
    {
     "data": {
      "text/html": [
       "<div>\n",
       "<style scoped>\n",
       "    .dataframe tbody tr th:only-of-type {\n",
       "        vertical-align: middle;\n",
       "    }\n",
       "\n",
       "    .dataframe tbody tr th {\n",
       "        vertical-align: top;\n",
       "    }\n",
       "\n",
       "    .dataframe thead th {\n",
       "        text-align: right;\n",
       "    }\n",
       "</style>\n",
       "<table border=\"1\" class=\"dataframe\">\n",
       "  <thead>\n",
       "    <tr style=\"text-align: right;\">\n",
       "      <th></th>\n",
       "      <th>visit_id</th>\n",
       "      <th>client_id</th>\n",
       "      <th>visitor_id</th>\n",
       "      <th>process_step</th>\n",
       "      <th>date_time</th>\n",
       "      <th>variation</th>\n",
       "    </tr>\n",
       "  </thead>\n",
       "  <tbody>\n",
       "    <tr>\n",
       "      <th>0</th>\n",
       "      <td>100012776_37918976071_457913</td>\n",
       "      <td>3561384</td>\n",
       "      <td>451664975_1722933822</td>\n",
       "      <td>confirm</td>\n",
       "      <td>2017-04-26 13:23:09</td>\n",
       "      <td>Test</td>\n",
       "    </tr>\n",
       "    <tr>\n",
       "      <th>1</th>\n",
       "      <td>100019538_17884295066_43909</td>\n",
       "      <td>7338123</td>\n",
       "      <td>612065484_94198474375</td>\n",
       "      <td>confirm</td>\n",
       "      <td>2017-04-09 16:24:58</td>\n",
       "      <td>Test</td>\n",
       "    </tr>\n",
       "    <tr>\n",
       "      <th>2</th>\n",
       "      <td>100030127_47967100085_936361</td>\n",
       "      <td>105007</td>\n",
       "      <td>676020267_36602664238</td>\n",
       "      <td>start</td>\n",
       "      <td>2017-03-22 11:07:49</td>\n",
       "      <td>Control</td>\n",
       "    </tr>\n",
       "    <tr>\n",
       "      <th>3</th>\n",
       "      <td>100037962_47432393712_705583</td>\n",
       "      <td>5623007</td>\n",
       "      <td>700426174_33289797318</td>\n",
       "      <td>start</td>\n",
       "      <td>2017-04-14 16:44:03</td>\n",
       "      <td>Control</td>\n",
       "    </tr>\n",
       "    <tr>\n",
       "      <th>4</th>\n",
       "      <td>100057941_88477660212_944512</td>\n",
       "      <td>4823947</td>\n",
       "      <td>611052344_43146965242</td>\n",
       "      <td>step_3</td>\n",
       "      <td>2017-04-09 11:34:24</td>\n",
       "      <td>Control</td>\n",
       "    </tr>\n",
       "    <tr>\n",
       "      <th>...</th>\n",
       "      <td>...</td>\n",
       "      <td>...</td>\n",
       "      <td>...</td>\n",
       "      <td>...</td>\n",
       "      <td>...</td>\n",
       "      <td>...</td>\n",
       "    </tr>\n",
       "    <tr>\n",
       "      <th>66293</th>\n",
       "      <td>999971096_28827267783_236076</td>\n",
       "      <td>2979920</td>\n",
       "      <td>830229399_73416253406</td>\n",
       "      <td>confirm</td>\n",
       "      <td>2017-04-13 10:34:08</td>\n",
       "      <td>Test</td>\n",
       "    </tr>\n",
       "    <tr>\n",
       "      <th>66294</th>\n",
       "      <td>999976049_95772503197_182554</td>\n",
       "      <td>4449968</td>\n",
       "      <td>842902495_57580498240</td>\n",
       "      <td>confirm</td>\n",
       "      <td>2017-04-04 13:02:18</td>\n",
       "      <td>Test</td>\n",
       "    </tr>\n",
       "    <tr>\n",
       "      <th>66295</th>\n",
       "      <td>999984454_18731538378_781808</td>\n",
       "      <td>829911</td>\n",
       "      <td>648229874_89449279372</td>\n",
       "      <td>confirm</td>\n",
       "      <td>2017-03-29 11:21:07</td>\n",
       "      <td>Test</td>\n",
       "    </tr>\n",
       "    <tr>\n",
       "      <th>66296</th>\n",
       "      <td>999985675_64610694964_443659</td>\n",
       "      <td>4064969</td>\n",
       "      <td>110735946_42614968419</td>\n",
       "      <td>confirm</td>\n",
       "      <td>2017-04-20 10:02:48</td>\n",
       "      <td>Control</td>\n",
       "    </tr>\n",
       "    <tr>\n",
       "      <th>66297</th>\n",
       "      <td>999988789_76411676596_272843</td>\n",
       "      <td>6627522</td>\n",
       "      <td>730634087_44272418812</td>\n",
       "      <td>start</td>\n",
       "      <td>2017-04-21 23:51:09</td>\n",
       "      <td>Test</td>\n",
       "    </tr>\n",
       "  </tbody>\n",
       "</table>\n",
       "<p>66298 rows × 6 columns</p>\n",
       "</div>"
      ],
      "text/plain": [
       "                           visit_id client_id             visitor_id  \\\n",
       "0      100012776_37918976071_457913   3561384   451664975_1722933822   \n",
       "1       100019538_17884295066_43909   7338123  612065484_94198474375   \n",
       "2      100030127_47967100085_936361    105007  676020267_36602664238   \n",
       "3      100037962_47432393712_705583   5623007  700426174_33289797318   \n",
       "4      100057941_88477660212_944512   4823947  611052344_43146965242   \n",
       "...                             ...       ...                    ...   \n",
       "66293  999971096_28827267783_236076   2979920  830229399_73416253406   \n",
       "66294  999976049_95772503197_182554   4449968  842902495_57580498240   \n",
       "66295  999984454_18731538378_781808    829911  648229874_89449279372   \n",
       "66296  999985675_64610694964_443659   4064969  110735946_42614968419   \n",
       "66297  999988789_76411676596_272843   6627522  730634087_44272418812   \n",
       "\n",
       "      process_step           date_time variation  \n",
       "0          confirm 2017-04-26 13:23:09      Test  \n",
       "1          confirm 2017-04-09 16:24:58      Test  \n",
       "2            start 2017-03-22 11:07:49   Control  \n",
       "3            start 2017-04-14 16:44:03   Control  \n",
       "4           step_3 2017-04-09 11:34:24   Control  \n",
       "...            ...                 ...       ...  \n",
       "66293      confirm 2017-04-13 10:34:08      Test  \n",
       "66294      confirm 2017-04-04 13:02:18      Test  \n",
       "66295      confirm 2017-03-29 11:21:07      Test  \n",
       "66296      confirm 2017-04-20 10:02:48   Control  \n",
       "66297        start 2017-04-21 23:51:09      Test  \n",
       "\n",
       "[66298 rows x 6 columns]"
      ]
     },
     "execution_count": 55,
     "metadata": {},
     "output_type": "execute_result"
    }
   ],
   "source": [
    "last_visit_step_df"
   ]
  },
  {
   "cell_type": "code",
   "execution_count": 56,
   "id": "ab60c150",
   "metadata": {},
   "outputs": [
    {
     "data": {
      "text/plain": [
       "<Axes: xlabel='variation', ylabel='count'>"
      ]
     },
     "execution_count": 56,
     "metadata": {},
     "output_type": "execute_result"
    },
    {
     "data": {
      "image/png": "[encoded data removed]",
      "text/plain": [
       "<Figure size 640x480 with 1 Axes>"
      ]
     },
     "metadata": {},
     "output_type": "display_data"
    }
   ],
   "source": [
    "# Plotting a grouped bar chart\n",
    "sns.countplot(data=last_visit_step_df, x='variation', hue= 'process_step', palette='Set3', order = category_order, hue_order = hue_order)"
   ]
  },
  {
   "cell_type": "markdown",
   "id": "b0aa15e2",
   "metadata": {},
   "source": [
    "A brief comparison of the results seems to indicate that more clients are able to move from step 3 to confirmation - but we want to know if those results are statistically significant or are just happenstance. "
   ]
  },
  {
   "cell_type": "code",
   "execution_count": 57,
   "id": "22b3fd23",
   "metadata": {},
   "outputs": [
    {
     "data": {
      "text/plain": [
       "process_step\n",
       "confirm    34175\n",
       "start      18310\n",
       "step_1      6544\n",
       "step_3      4255\n",
       "step_2      3014\n",
       "Name: count, dtype: int64"
      ]
     },
     "execution_count": 57,
     "metadata": {},
     "output_type": "execute_result"
    }
   ],
   "source": [
    "last_visit_step_df['process_step'].value_counts()"
   ]
  },
  {
   "cell_type": "markdown",
   "id": "7984d99f",
   "metadata": {},
   "source": [
    "In both categories, we had a total of 41,415 clients reached the confirmation step. "
   ]
  },
  {
   "cell_type": "code",
   "execution_count": 58,
   "id": "328b14b6",
   "metadata": {},
   "outputs": [
    {
     "data": {
      "text/plain": [
       "process_step\n",
       "confirm    14075\n",
       "start       9227\n",
       "step_1      3415\n",
       "step_3      2339\n",
       "step_2      1558\n",
       "Name: count, dtype: int64"
      ]
     },
     "execution_count": 58,
     "metadata": {},
     "output_type": "execute_result"
    }
   ],
   "source": [
    "last_visit_step_df[last_visit_step_df['variation'] == 'Control']['process_step'].value_counts()"
   ]
  },
  {
   "cell_type": "code",
   "execution_count": 59,
   "id": "d1374db2",
   "metadata": {},
   "outputs": [
    {
     "data": {
      "text/plain": [
       "process_step\n",
       "confirm    20100\n",
       "start       9083\n",
       "step_1      3129\n",
       "step_3      1916\n",
       "step_2      1456\n",
       "Name: count, dtype: int64"
      ]
     },
     "execution_count": 59,
     "metadata": {},
     "output_type": "execute_result"
    }
   ],
   "source": [
    "last_visit_step_df[last_visit_step_df['variation'] == 'Test']['process_step'].value_counts()"
   ]
  },
  {
   "cell_type": "code",
   "execution_count": 60,
   "id": "6f067e72",
   "metadata": {},
   "outputs": [
    {
     "name": "stdout",
     "output_type": "stream",
     "text": [
      "0.45975697393349446 0.563277659455218\n"
     ]
    }
   ],
   "source": [
    "control_finish_prop = 14075/(14075+9227+3415+2339+1558)\n",
    "test_finish_prop = 20100/(20100+9083+3129+1916+1456)\n",
    "print(control_finish_prop, test_finish_prop)"
   ]
  },
  {
   "cell_type": "markdown",
   "id": "d3fd28be",
   "metadata": {},
   "source": [
    "Just looking at proportions, we see that 45.77% of clients in the test group made it to the confirmation stage, whereas only 36.92% of the control group made it that far. \n",
    "\n",
    "In order to test whether these results are statistically significant, we will run a chi-square test, which will use the control groups rate of reaching the confirmation step as the expected value, and test whether or not the differing results in the test group could be attributed to random chance. \n",
    "\n",
    "In this case, our hypotheses are as follows:\n",
    "\n",
    "- H0: There is no difference in the confirmation rates between the control group and the test group.\n",
    "- HA: There is a difference in the confirmation rates between the groups. \n",
    "\n",
    "Basically, our null hypothesis is that the changes made to the website were irrelevant, and the differing confirmation rate is just coincidental. Our alternative hypothesis is that the changes made a difference in the confirmation rate. "
   ]
  },
  {
   "cell_type": "code",
   "execution_count": 61,
   "id": "99d46420",
   "metadata": {},
   "outputs": [
    {
     "data": {
      "text/html": [
       "<div>\n",
       "<style scoped>\n",
       "    .dataframe tbody tr th:only-of-type {\n",
       "        vertical-align: middle;\n",
       "    }\n",
       "\n",
       "    .dataframe tbody tr th {\n",
       "        vertical-align: top;\n",
       "    }\n",
       "\n",
       "    .dataframe thead th {\n",
       "        text-align: right;\n",
       "    }\n",
       "</style>\n",
       "<table border=\"1\" class=\"dataframe\">\n",
       "  <thead>\n",
       "    <tr style=\"text-align: right;\">\n",
       "      <th>process_step</th>\n",
       "      <th>False</th>\n",
       "      <th>True</th>\n",
       "    </tr>\n",
       "    <tr>\n",
       "      <th>variation</th>\n",
       "      <th></th>\n",
       "      <th></th>\n",
       "    </tr>\n",
       "  </thead>\n",
       "  <tbody>\n",
       "    <tr>\n",
       "      <th>Control</th>\n",
       "      <td>119639</td>\n",
       "      <td>16589</td>\n",
       "    </tr>\n",
       "    <tr>\n",
       "      <th>Test</th>\n",
       "      <td>146577</td>\n",
       "      <td>24826</td>\n",
       "    </tr>\n",
       "  </tbody>\n",
       "</table>\n",
       "</div>"
      ],
      "text/plain": [
       "process_step   False  True \n",
       "variation                  \n",
       "Control       119639  16589\n",
       "Test          146577  24826"
      ]
     },
     "execution_count": 61,
     "metadata": {},
     "output_type": "execute_result"
    }
   ],
   "source": [
    "# Create a crosstable\n",
    "crosstable = pd.crosstab(test_subjects_df['variation'], test_subjects_df['process_step']=='confirm')\n",
    "crosstable"
   ]
  },
  {
   "cell_type": "code",
   "execution_count": 62,
   "id": "d61e7f6a",
   "metadata": {},
   "outputs": [
    {
     "data": {
      "text/html": [
       "<div>\n",
       "<style scoped>\n",
       "    .dataframe tbody tr th:only-of-type {\n",
       "        vertical-align: middle;\n",
       "    }\n",
       "\n",
       "    .dataframe tbody tr th {\n",
       "        vertical-align: top;\n",
       "    }\n",
       "\n",
       "    .dataframe thead th {\n",
       "        text-align: right;\n",
       "    }\n",
       "</style>\n",
       "<table border=\"1\" class=\"dataframe\">\n",
       "  <thead>\n",
       "    <tr style=\"text-align: right;\">\n",
       "      <th>process_step</th>\n",
       "      <th>False</th>\n",
       "      <th>True</th>\n",
       "    </tr>\n",
       "    <tr>\n",
       "      <th>variation</th>\n",
       "      <th></th>\n",
       "      <th></th>\n",
       "    </tr>\n",
       "  </thead>\n",
       "  <tbody>\n",
       "    <tr>\n",
       "      <th>Control</th>\n",
       "      <td>16539</td>\n",
       "      <td>14075</td>\n",
       "    </tr>\n",
       "    <tr>\n",
       "      <th>Test</th>\n",
       "      <td>15584</td>\n",
       "      <td>20100</td>\n",
       "    </tr>\n",
       "  </tbody>\n",
       "</table>\n",
       "</div>"
      ],
      "text/plain": [
       "process_step  False  True \n",
       "variation                 \n",
       "Control       16539  14075\n",
       "Test          15584  20100"
      ]
     },
     "execution_count": 62,
     "metadata": {},
     "output_type": "execute_result"
    }
   ],
   "source": [
    "# Create a crosstable\n",
    "crosstable = pd.crosstab(last_visit_step_df['variation'], last_visit_step_df['process_step']=='confirm')\n",
    "crosstable"
   ]
  },
  {
   "cell_type": "code",
   "execution_count": 63,
   "id": "5fc22fd5",
   "metadata": {},
   "outputs": [
    {
     "data": {
      "text/plain": [
       "(706.5925479590882, 1.1018457382729737e-155)"
      ]
     },
     "execution_count": 63,
     "metadata": {},
     "output_type": "execute_result"
    }
   ],
   "source": [
    "from scipy.stats import chi2_contingency\n",
    "\n",
    "chi2_statistic, chi2_p_value, _, _ = chi2_contingency(crosstable)\n",
    "\n",
    "chi2_statistic, chi2_p_value"
   ]
  },
  {
   "cell_type": "markdown",
   "id": "4d8120dc",
   "metadata": {},
   "source": [
    "Because the p_value is so low, that H0 gotta go. In other words, the p_value indicates that there is virtually no possibility that the differing confirmation rate can be attributed to random chance, so we are forced to conclude that the changes made to the website did statistically impact the rate at which customers complete the online process. If this is desirable, the changes made should be incorporated for all customer interactions going forward. "
   ]
  },
  {
   "cell_type": "markdown",
   "id": "26da7b31",
   "metadata": {},
   "source": [
    "### KPI - Bounce Rate"
   ]
  },
  {
   "cell_type": "markdown",
   "id": "64cf70d7",
   "metadata": {},
   "source": [
    "The next KPI we decided to test was bounce rate, which is the frequency with which clients visited the site and did not progress past the initial step of the online process. This failure to progress past the initial step can indicate one of two things. The first indication it could give is that the process being presented to the client or visitor is not driving or pushing them to the next step, which would suggest that the layout of the site or process should be adjusted in such a way as to direct them further through the process. The bounce rate could also mean that there is some sort of error or disconnect that needs to be corrected. \n",
    "\n",
    "Knowing whether there is a difference in bounce rates between the original site set up and the set up being tested will help us know whether the set up being tested works more efficiently at moving customers through the online process. If the process being tested is more effective in that way, it should be continued. \n",
    "\n",
    "To test that difference, we will run another chi-sqare test to examine the difference (and it's statistical significance) between the test and control group. \n",
    "\n",
    "In order to do that, we first need to get a list of clients/visitors who never progressed past the initial phase of the online process."
   ]
  },
  {
   "cell_type": "code",
   "execution_count": 64,
   "id": "b895b6a5",
   "metadata": {},
   "outputs": [],
   "source": [
    "def get_bouncers(dataframe):\n",
    "    # Group by visit_id and aggregate the process_step\n",
    "    \n",
    "    # create sub dataframe called \"grouped\"\n",
    "    # group the given dataframe by visit id\n",
    "    # get aggregated process steps as a set, so that only unique values are collected\n",
    "    # store those into grouped data frame\n",
    "    # reset index\n",
    "    grouped = dataframe.groupby('visit_id')['process_step'].agg(set).reset_index()\n",
    "    \n",
    "    # Filter to keep only those groups where the set contains only 'start'\n",
    "    # create object bouncer_ids\n",
    "    # look at process_step inside grouped dataframe\n",
    "    # run lambda function that collects visit ids that only had one value and that value was start.\n",
    "    # save those as bounce_ids\n",
    "    bounce_ids = grouped[grouped['process_step'].apply(lambda x: len(x) == 1 and 'start' in x)]['visit_id']\n",
    "    \n",
    "    return bounce_ids"
   ]
  },
  {
   "cell_type": "code",
   "execution_count": 65,
   "id": "d8fb84d4",
   "metadata": {},
   "outputs": [
    {
     "data": {
      "text/plain": [
       "2        100030127_47967100085_936361\n",
       "6        100071743_53464757454_616703\n",
       "8        100105975_18174738494_196339\n",
       "12       100221419_95702886123_228743\n",
       "22       100398738_80691628792_341470\n",
       "                     ...             \n",
       "66257    999553685_26988867148_209187\n",
       "66266     999645105_43449306647_66666\n",
       "66279    999819882_69310498069_305416\n",
       "66288     999946542_2156804531_646216\n",
       "66289    999951892_54774917180_163890\n",
       "Name: visit_id, Length: 12114, dtype: object"
      ]
     },
     "execution_count": 65,
     "metadata": {},
     "output_type": "execute_result"
    }
   ],
   "source": [
    "bouncers_ids = get_bouncers(test_subjects_df)\n",
    "bouncers_ids"
   ]
  },
  {
   "cell_type": "markdown",
   "id": "376133ec",
   "metadata": {},
   "source": [
    "After collecting a list of visit ids in which the visitor \"bounced,\" we can use that list to create a new column in our dataframe marking those visits that resulted in a \"bounce.\" This indicator column will be treated as a boolean and tested against visit variation, which indicates whether a client was experiencing the test or control process in that visit.  "
   ]
  },
  {
   "cell_type": "code",
   "execution_count": 66,
   "id": "a4258661",
   "metadata": {},
   "outputs": [
    {
     "data": {
      "text/html": [
       "<div>\n",
       "<style scoped>\n",
       "    .dataframe tbody tr th:only-of-type {\n",
       "        vertical-align: middle;\n",
       "    }\n",
       "\n",
       "    .dataframe tbody tr th {\n",
       "        vertical-align: top;\n",
       "    }\n",
       "\n",
       "    .dataframe thead th {\n",
       "        text-align: right;\n",
       "    }\n",
       "</style>\n",
       "<table border=\"1\" class=\"dataframe\">\n",
       "  <thead>\n",
       "    <tr style=\"text-align: right;\">\n",
       "      <th></th>\n",
       "      <th>visit_id</th>\n",
       "      <th>client_id</th>\n",
       "      <th>visitor_id</th>\n",
       "      <th>process_step</th>\n",
       "      <th>date_time</th>\n",
       "      <th>variation</th>\n",
       "      <th>bounced</th>\n",
       "    </tr>\n",
       "  </thead>\n",
       "  <tbody>\n",
       "    <tr>\n",
       "      <th>0</th>\n",
       "      <td>100012776_37918976071_457913</td>\n",
       "      <td>3561384</td>\n",
       "      <td>451664975_1722933822</td>\n",
       "      <td>confirm</td>\n",
       "      <td>2017-04-26 13:23:09</td>\n",
       "      <td>Test</td>\n",
       "      <td>False</td>\n",
       "    </tr>\n",
       "    <tr>\n",
       "      <th>1</th>\n",
       "      <td>100019538_17884295066_43909</td>\n",
       "      <td>7338123</td>\n",
       "      <td>612065484_94198474375</td>\n",
       "      <td>confirm</td>\n",
       "      <td>2017-04-09 16:24:58</td>\n",
       "      <td>Test</td>\n",
       "      <td>False</td>\n",
       "    </tr>\n",
       "    <tr>\n",
       "      <th>2</th>\n",
       "      <td>100030127_47967100085_936361</td>\n",
       "      <td>105007</td>\n",
       "      <td>676020267_36602664238</td>\n",
       "      <td>start</td>\n",
       "      <td>2017-03-22 11:07:49</td>\n",
       "      <td>Control</td>\n",
       "      <td>True</td>\n",
       "    </tr>\n",
       "    <tr>\n",
       "      <th>3</th>\n",
       "      <td>100037962_47432393712_705583</td>\n",
       "      <td>5623007</td>\n",
       "      <td>700426174_33289797318</td>\n",
       "      <td>start</td>\n",
       "      <td>2017-04-14 16:44:03</td>\n",
       "      <td>Control</td>\n",
       "      <td>False</td>\n",
       "    </tr>\n",
       "    <tr>\n",
       "      <th>4</th>\n",
       "      <td>100057941_88477660212_944512</td>\n",
       "      <td>4823947</td>\n",
       "      <td>611052344_43146965242</td>\n",
       "      <td>step_3</td>\n",
       "      <td>2017-04-09 11:34:24</td>\n",
       "      <td>Control</td>\n",
       "      <td>False</td>\n",
       "    </tr>\n",
       "    <tr>\n",
       "      <th>...</th>\n",
       "      <td>...</td>\n",
       "      <td>...</td>\n",
       "      <td>...</td>\n",
       "      <td>...</td>\n",
       "      <td>...</td>\n",
       "      <td>...</td>\n",
       "      <td>...</td>\n",
       "    </tr>\n",
       "    <tr>\n",
       "      <th>66293</th>\n",
       "      <td>999971096_28827267783_236076</td>\n",
       "      <td>2979920</td>\n",
       "      <td>830229399_73416253406</td>\n",
       "      <td>confirm</td>\n",
       "      <td>2017-04-13 10:34:08</td>\n",
       "      <td>Test</td>\n",
       "      <td>False</td>\n",
       "    </tr>\n",
       "    <tr>\n",
       "      <th>66294</th>\n",
       "      <td>999976049_95772503197_182554</td>\n",
       "      <td>4449968</td>\n",
       "      <td>842902495_57580498240</td>\n",
       "      <td>confirm</td>\n",
       "      <td>2017-04-04 13:02:18</td>\n",
       "      <td>Test</td>\n",
       "      <td>False</td>\n",
       "    </tr>\n",
       "    <tr>\n",
       "      <th>66295</th>\n",
       "      <td>999984454_18731538378_781808</td>\n",
       "      <td>829911</td>\n",
       "      <td>648229874_89449279372</td>\n",
       "      <td>confirm</td>\n",
       "      <td>2017-03-29 11:21:07</td>\n",
       "      <td>Test</td>\n",
       "      <td>False</td>\n",
       "    </tr>\n",
       "    <tr>\n",
       "      <th>66296</th>\n",
       "      <td>999985675_64610694964_443659</td>\n",
       "      <td>4064969</td>\n",
       "      <td>110735946_42614968419</td>\n",
       "      <td>confirm</td>\n",
       "      <td>2017-04-20 10:02:48</td>\n",
       "      <td>Control</td>\n",
       "      <td>False</td>\n",
       "    </tr>\n",
       "    <tr>\n",
       "      <th>66297</th>\n",
       "      <td>999988789_76411676596_272843</td>\n",
       "      <td>6627522</td>\n",
       "      <td>730634087_44272418812</td>\n",
       "      <td>start</td>\n",
       "      <td>2017-04-21 23:51:09</td>\n",
       "      <td>Test</td>\n",
       "      <td>False</td>\n",
       "    </tr>\n",
       "  </tbody>\n",
       "</table>\n",
       "<p>66298 rows × 7 columns</p>\n",
       "</div>"
      ],
      "text/plain": [
       "                           visit_id client_id             visitor_id  \\\n",
       "0      100012776_37918976071_457913   3561384   451664975_1722933822   \n",
       "1       100019538_17884295066_43909   7338123  612065484_94198474375   \n",
       "2      100030127_47967100085_936361    105007  676020267_36602664238   \n",
       "3      100037962_47432393712_705583   5623007  700426174_33289797318   \n",
       "4      100057941_88477660212_944512   4823947  611052344_43146965242   \n",
       "...                             ...       ...                    ...   \n",
       "66293  999971096_28827267783_236076   2979920  830229399_73416253406   \n",
       "66294  999976049_95772503197_182554   4449968  842902495_57580498240   \n",
       "66295  999984454_18731538378_781808    829911  648229874_89449279372   \n",
       "66296  999985675_64610694964_443659   4064969  110735946_42614968419   \n",
       "66297  999988789_76411676596_272843   6627522  730634087_44272418812   \n",
       "\n",
       "      process_step           date_time variation  bounced  \n",
       "0          confirm 2017-04-26 13:23:09      Test    False  \n",
       "1          confirm 2017-04-09 16:24:58      Test    False  \n",
       "2            start 2017-03-22 11:07:49   Control     True  \n",
       "3            start 2017-04-14 16:44:03   Control    False  \n",
       "4           step_3 2017-04-09 11:34:24   Control    False  \n",
       "...            ...                 ...       ...      ...  \n",
       "66293      confirm 2017-04-13 10:34:08      Test    False  \n",
       "66294      confirm 2017-04-04 13:02:18      Test    False  \n",
       "66295      confirm 2017-03-29 11:21:07      Test    False  \n",
       "66296      confirm 2017-04-20 10:02:48   Control    False  \n",
       "66297        start 2017-04-21 23:51:09      Test    False  \n",
       "\n",
       "[66298 rows x 7 columns]"
      ]
     },
     "execution_count": 66,
     "metadata": {},
     "output_type": "execute_result"
    }
   ],
   "source": [
    "last_visit_step_df['bounced'] = last_visit_step_df['visit_id'].isin(bouncers_ids)\n",
    "last_visit_step_df"
   ]
  },
  {
   "cell_type": "code",
   "execution_count": 67,
   "id": "6dee2ee0",
   "metadata": {},
   "outputs": [
    {
     "data": {
      "text/plain": [
       "bounced\n",
       "False    54184\n",
       "True     12114\n",
       "Name: count, dtype: int64"
      ]
     },
     "execution_count": 67,
     "metadata": {},
     "output_type": "execute_result"
    }
   ],
   "source": [
    "last_visit_step_df['bounced'].value_counts()"
   ]
  },
  {
   "cell_type": "markdown",
   "id": "60f104f4",
   "metadata": {},
   "source": [
    "By just looking at the value counts, we see that about 1/6th, or 12.5% of visits resulted in a bounce, which is fairly alarming. "
   ]
  },
  {
   "cell_type": "code",
   "execution_count": 68,
   "id": "ec806ba9",
   "metadata": {},
   "outputs": [
    {
     "data": {
      "text/html": [
       "<div>\n",
       "<style scoped>\n",
       "    .dataframe tbody tr th:only-of-type {\n",
       "        vertical-align: middle;\n",
       "    }\n",
       "\n",
       "    .dataframe tbody tr th {\n",
       "        vertical-align: top;\n",
       "    }\n",
       "\n",
       "    .dataframe thead th {\n",
       "        text-align: right;\n",
       "    }\n",
       "</style>\n",
       "<table border=\"1\" class=\"dataframe\">\n",
       "  <thead>\n",
       "    <tr style=\"text-align: right;\">\n",
       "      <th>bounced</th>\n",
       "      <th>False</th>\n",
       "      <th>True</th>\n",
       "    </tr>\n",
       "    <tr>\n",
       "      <th>variation</th>\n",
       "      <th></th>\n",
       "      <th></th>\n",
       "    </tr>\n",
       "  </thead>\n",
       "  <tbody>\n",
       "    <tr>\n",
       "      <th>Control</th>\n",
       "      <td>23351</td>\n",
       "      <td>7263</td>\n",
       "    </tr>\n",
       "    <tr>\n",
       "      <th>Test</th>\n",
       "      <td>30833</td>\n",
       "      <td>4851</td>\n",
       "    </tr>\n",
       "  </tbody>\n",
       "</table>\n",
       "</div>"
      ],
      "text/plain": [
       "bounced    False  True \n",
       "variation              \n",
       "Control    23351   7263\n",
       "Test       30833   4851"
      ]
     },
     "execution_count": 68,
     "metadata": {},
     "output_type": "execute_result"
    }
   ],
   "source": [
    "# Create a crosstable\n",
    "crosstable = pd.crosstab(last_visit_step_df['variation'],last_visit_step_df['bounced'])\n",
    "crosstable"
   ]
  },
  {
   "cell_type": "markdown",
   "id": "0cfee6de",
   "metadata": {},
   "source": [
    "When comparing the proportion of bounces in the control versus the test group, we see that the control group experienced a bounce roughly 24% of the time, where the test group only experienced bounces 14% of the time. That's a sizeable difference. "
   ]
  },
  {
   "cell_type": "code",
   "execution_count": 69,
   "id": "58b7f94a",
   "metadata": {},
   "outputs": [
    {
     "data": {
      "text/plain": [
       "(1131.6279376949285, 4.413883259159201e-248)"
      ]
     },
     "execution_count": 69,
     "metadata": {},
     "output_type": "execute_result"
    }
   ],
   "source": [
    "from scipy.stats import chi2_contingency\n",
    "\n",
    "chi2_statistic, chi2_p_value, _, _ = chi2_contingency(crosstable)\n",
    "\n",
    "chi2_statistic, chi2_p_value"
   ]
  },
  {
   "cell_type": "markdown",
   "id": "6f6ce080",
   "metadata": {},
   "source": [
    "After running a chi-square test, we see that the p-value is incredibly low, leading us to reject our null hypothesis again and conclude that the changes made and tested by the test group have a noticeable and statistically significant impact on bounce rate. If a lower bounce rate is desirable, the updated process should probably replace the current one. "
   ]
  },
  {
   "cell_type": "markdown",
   "id": "e4812544",
   "metadata": {},
   "source": [
    "### KPI - Dropoff Rate"
   ]
  },
  {
   "cell_type": "markdown",
   "id": "1aee2996",
   "metadata": {},
   "source": [
    "This KPI compares whether clients in one of the groups abandoned the process at any steps besides the initial more frequently, and whether there is statistically significant difference in drop-off rates between the test and control groups. If the drop-off rate is higher in the test group, it could signal that the changes made to the process have not simplified the process."
   ]
  },
  {
   "cell_type": "markdown",
   "id": "387d89a1",
   "metadata": {},
   "source": [
    "By starting with sorting the dataframe, we can more simply pull out the information we need. The cell below sorts the dataframe by client id, visit id, and datetime, all ascending. "
   ]
  },
  {
   "cell_type": "code",
   "execution_count": 70,
   "id": "df13b8a9",
   "metadata": {},
   "outputs": [],
   "source": [
    "df_sorted = test_subjects_df.sort_values(by=['client_id', 'visit_id', 'date_time'])"
   ]
  },
  {
   "cell_type": "markdown",
   "id": "94ec036f",
   "metadata": {},
   "source": [
    "After sorting the data, we identify the unique process steps that each client reached. Any client that did not make it to the confirm step at least once will be considered a \"dropper.\""
   ]
  },
  {
   "cell_type": "code",
   "execution_count": 71,
   "id": "b6ee9354",
   "metadata": {},
   "outputs": [],
   "source": [
    "# Identify unique sequences of steps for each client\n",
    "df_unique_steps = df_sorted.drop_duplicates(subset=['client_id', 'process_step'])"
   ]
  },
  {
   "cell_type": "code",
   "execution_count": 72,
   "id": "72338aed",
   "metadata": {},
   "outputs": [
    {
     "data": {
      "text/html": [
       "<div>\n",
       "<style scoped>\n",
       "    .dataframe tbody tr th:only-of-type {\n",
       "        vertical-align: middle;\n",
       "    }\n",
       "\n",
       "    .dataframe tbody tr th {\n",
       "        vertical-align: top;\n",
       "    }\n",
       "\n",
       "    .dataframe thead th {\n",
       "        text-align: right;\n",
       "    }\n",
       "</style>\n",
       "<table border=\"1\" class=\"dataframe\">\n",
       "  <thead>\n",
       "    <tr style=\"text-align: right;\">\n",
       "      <th>process_step</th>\n",
       "      <th>confirm</th>\n",
       "      <th>start</th>\n",
       "      <th>step_1</th>\n",
       "      <th>step_2</th>\n",
       "      <th>step_3</th>\n",
       "    </tr>\n",
       "    <tr>\n",
       "      <th>variation</th>\n",
       "      <th></th>\n",
       "      <th></th>\n",
       "      <th></th>\n",
       "      <th></th>\n",
       "      <th></th>\n",
       "    </tr>\n",
       "  </thead>\n",
       "  <tbody>\n",
       "    <tr>\n",
       "      <th>Control</th>\n",
       "      <td>14739</td>\n",
       "      <td>22471</td>\n",
       "      <td>19282</td>\n",
       "      <td>17867</td>\n",
       "      <td>16679</td>\n",
       "    </tr>\n",
       "    <tr>\n",
       "      <th>Test</th>\n",
       "      <td>18081</td>\n",
       "      <td>25908</td>\n",
       "      <td>23550</td>\n",
       "      <td>21596</td>\n",
       "      <td>20239</td>\n",
       "    </tr>\n",
       "  </tbody>\n",
       "</table>\n",
       "</div>"
      ],
      "text/plain": [
       "process_step  confirm  start  step_1  step_2  step_3\n",
       "variation                                           \n",
       "Control         14739  22471   19282   17867   16679\n",
       "Test            18081  25908   23550   21596   20239"
      ]
     },
     "execution_count": 72,
     "metadata": {},
     "output_type": "execute_result"
    }
   ],
   "source": [
    "# Count the number of users at each step \n",
    "step_counts = df_unique_steps.groupby(['variation', 'process_step'])['client_id'].nunique().reset_index()\n",
    "step_counts = step_counts.rename(columns={'client_id': 'user_count'})\n",
    "# Pivot the table to get the user counts for each step in columns\n",
    "step_pivot = step_counts.pivot(index='variation', columns='process_step', values='user_count').fillna(0)\n",
    "step_pivot"
   ]
  },
  {
   "cell_type": "markdown",
   "id": "bf703f34",
   "metadata": {},
   "source": [
    "The code above tells us how many clients in each group reached each step at least once. As one would expect, in each group we see that the start group is the largest, and then fewer and fewer clients made it to each succeeding step. The confirm values show how many clients in either group ever made it to the confirm step. The difference between the start and confirm steps in each group tell us how many clients in each group should be considered \"droppers.\" There were 7,732 clients in the control group who never made it to the confirmation step, and there were 7,827 clients in the test group who didn't. That isn't a large difference, but in order to know if it's significant, we need to test for it. "
   ]
  },
  {
   "cell_type": "code",
   "execution_count": 73,
   "id": "bf52ad80",
   "metadata": {},
   "outputs": [],
   "source": [
    "# Function to calculate drop-off rate\n",
    "def calculate_drop_off_rate(df, steps):\n",
    "    \"\"\"Calculates the drop-off rate from one process step to another\n",
    "    Args:\n",
    "        df (DataFrame): contains the data for each unique process step divided by group.\n",
    "        steps (_type_): list that has the correct order for the process steps.\n",
    "    Returns:\n",
    "        dict: Dictionary that stores the transition from one process to another as \n",
    "        key, and the corresponding drop-off rate as value. \n",
    "    \"\"\"\n",
    "    drop_off_rates = {}\n",
    "    for i in range(len(steps) - 1):\n",
    "        step1, step2 = steps[i], steps[i + 1]\n",
    "        if step1 in df and step2 in df:\n",
    "            drop_off_rate = (1 - df[step2]/df[step1]) * 100\n",
    "            drop_off_rates[f'{step1}_to_{step2}'] = drop_off_rate\n",
    "    return drop_off_rates"
   ]
  },
  {
   "cell_type": "code",
   "execution_count": 74,
   "id": "fa1c2983",
   "metadata": {},
   "outputs": [
    {
     "data": {
      "text/html": [
       "<div>\n",
       "<style scoped>\n",
       "    .dataframe tbody tr th:only-of-type {\n",
       "        vertical-align: middle;\n",
       "    }\n",
       "\n",
       "    .dataframe tbody tr th {\n",
       "        vertical-align: top;\n",
       "    }\n",
       "\n",
       "    .dataframe thead th {\n",
       "        text-align: right;\n",
       "    }\n",
       "</style>\n",
       "<table border=\"1\" class=\"dataframe\">\n",
       "  <thead>\n",
       "    <tr style=\"text-align: right;\">\n",
       "      <th></th>\n",
       "      <th>start_to_step_1</th>\n",
       "      <th>step_1_to_step_2</th>\n",
       "      <th>step_2_to_step_3</th>\n",
       "      <th>step_3_to_confirm</th>\n",
       "    </tr>\n",
       "  </thead>\n",
       "  <tbody>\n",
       "    <tr>\n",
       "      <th>Control</th>\n",
       "      <td>14.19</td>\n",
       "      <td>7.34</td>\n",
       "      <td>6.65</td>\n",
       "      <td>11.63</td>\n",
       "    </tr>\n",
       "    <tr>\n",
       "      <th>Test</th>\n",
       "      <td>9.10</td>\n",
       "      <td>8.30</td>\n",
       "      <td>6.28</td>\n",
       "      <td>10.66</td>\n",
       "    </tr>\n",
       "  </tbody>\n",
       "</table>\n",
       "</div>"
      ],
      "text/plain": [
       "         start_to_step_1  step_1_to_step_2  step_2_to_step_3  \\\n",
       "Control            14.19              7.34              6.65   \n",
       "Test                9.10              8.30              6.28   \n",
       "\n",
       "         step_3_to_confirm  \n",
       "Control              11.63  \n",
       "Test                 10.66  "
      ]
     },
     "execution_count": 74,
     "metadata": {},
     "output_type": "execute_result"
    }
   ],
   "source": [
    "# Define the process steps in order\n",
    "process_steps = ['start', 'step_1', 'step_2', 'step_3', 'confirm']\n",
    "# Calculate drop-off rates for Control and Test groups\n",
    "drop_off_rates_control = calculate_drop_off_rate(step_pivot.loc['Control'], process_steps)\n",
    "drop_off_rates_test = calculate_drop_off_rate(step_pivot.loc['Test'], process_steps)\n",
    "drop_off_rates_df = pd.DataFrame({\n",
    "    'Control': drop_off_rates_control,\n",
    "    'Test': drop_off_rates_test\n",
    "}).T\n",
    "drop_off_rates_df"
   ]
  },
  {
   "cell_type": "code",
   "execution_count": 75,
   "id": "16a74fed",
   "metadata": {},
   "outputs": [
    {
     "data": {
      "text/plain": [
       "(0.8251947670187139, 0.8434317690483489)"
      ]
     },
     "execution_count": 75,
     "metadata": {},
     "output_type": "execute_result"
    }
   ],
   "source": [
    "chi2_statistic, chi2_p_value, _, _ = chi2_contingency(drop_off_rates_df)\n",
    "chi2_statistic, chi2_p_value"
   ]
  },
  {
   "cell_type": "markdown",
   "id": "aa61a6f2",
   "metadata": {},
   "source": [
    "Based on this chi-square test, we fail to reject our null hypothesis, and conclude that, when it comes to drop-off rates by step, there is no difference between the test group and the control group. Therefore, while the test we ran above shows that there is a significantly different rate of completion in the test group, no individual step's drop-off rate was significantly impacted by the changes made. \n",
    "\n",
    "However, using the drop-off rate, we can continue on to test whether or not age, tenure, gender, or any other demographic factors affect or impact drop-off rate, either in general or in relation to each step. "
   ]
  },
  {
   "cell_type": "code",
   "execution_count": 76,
   "id": "0346c43d",
   "metadata": {},
   "outputs": [],
   "source": [
    "# We need to pull out of df_unique_steps a list of all client ids where the client did not make it to the confirm step. \n",
    "\n",
    "def get_droppers(dataframe):\n",
    "    # Group by visit_id and aggregate the process_step\n",
    "    \n",
    "    # create sub dataframe called \"grouped\"\n",
    "    # group the given dataframe by visit id\n",
    "    # get aggregated process steps as a set, so that only unique values are collected\n",
    "    # store those into grouped data frame\n",
    "    # reset index\n",
    "    grouped = dataframe.groupby('client_id')['process_step'].agg(set).reset_index()\n",
    "    \n",
    "    # Filter to keep only those groups where the set contains only 'start'\n",
    "    # create object bouncer_ids\n",
    "    # look at process_step inside grouped dataframe\n",
    "    # run lambda function that collects visit ids that only had one value and that value was start.\n",
    "    # save those as bounce_ids\n",
    "    dropper_ids = grouped[grouped['process_step'].apply(lambda x:'confirm' not in x)]['client_id']\n",
    "    \n",
    "    return dropper_ids"
   ]
  },
  {
   "cell_type": "code",
   "execution_count": 77,
   "id": "fdcaebca",
   "metadata": {},
   "outputs": [
    {
     "data": {
      "text/plain": [
       "2            934\n",
       "3           1028\n",
       "4           1186\n",
       "8           1346\n",
       "9           1368\n",
       "          ...   \n",
       "48764    9996877\n",
       "48768    9997391\n",
       "48774    9998921\n",
       "48777    9999150\n",
       "48779    9999626\n",
       "Name: client_id, Length: 15961, dtype: int64"
      ]
     },
     "execution_count": 77,
     "metadata": {},
     "output_type": "execute_result"
    }
   ],
   "source": [
    "dropper_list = get_droppers(df_unique_steps)\n",
    "dropper_list"
   ]
  },
  {
   "cell_type": "code",
   "execution_count": 78,
   "id": "6246c429",
   "metadata": {},
   "outputs": [
    {
     "data": {
      "text/html": [
       "<div>\n",
       "<style scoped>\n",
       "    .dataframe tbody tr th:only-of-type {\n",
       "        vertical-align: middle;\n",
       "    }\n",
       "\n",
       "    .dataframe tbody tr th {\n",
       "        vertical-align: top;\n",
       "    }\n",
       "\n",
       "    .dataframe thead th {\n",
       "        text-align: right;\n",
       "    }\n",
       "</style>\n",
       "<table border=\"1\" class=\"dataframe\">\n",
       "  <thead>\n",
       "    <tr style=\"text-align: right;\">\n",
       "      <th></th>\n",
       "      <th>visit_id</th>\n",
       "      <th>client_id</th>\n",
       "      <th>visitor_id</th>\n",
       "      <th>process_step</th>\n",
       "      <th>date_time</th>\n",
       "      <th>variation</th>\n",
       "      <th>bounced</th>\n",
       "      <th>dropped</th>\n",
       "    </tr>\n",
       "  </thead>\n",
       "  <tbody>\n",
       "    <tr>\n",
       "      <th>0</th>\n",
       "      <td>100012776_37918976071_457913</td>\n",
       "      <td>3561384</td>\n",
       "      <td>451664975_1722933822</td>\n",
       "      <td>confirm</td>\n",
       "      <td>2017-04-26 13:23:09</td>\n",
       "      <td>Test</td>\n",
       "      <td>False</td>\n",
       "      <td>False</td>\n",
       "    </tr>\n",
       "    <tr>\n",
       "      <th>1</th>\n",
       "      <td>100019538_17884295066_43909</td>\n",
       "      <td>7338123</td>\n",
       "      <td>612065484_94198474375</td>\n",
       "      <td>confirm</td>\n",
       "      <td>2017-04-09 16:24:58</td>\n",
       "      <td>Test</td>\n",
       "      <td>False</td>\n",
       "      <td>False</td>\n",
       "    </tr>\n",
       "    <tr>\n",
       "      <th>2</th>\n",
       "      <td>100030127_47967100085_936361</td>\n",
       "      <td>105007</td>\n",
       "      <td>676020267_36602664238</td>\n",
       "      <td>start</td>\n",
       "      <td>2017-03-22 11:07:49</td>\n",
       "      <td>Control</td>\n",
       "      <td>True</td>\n",
       "      <td>True</td>\n",
       "    </tr>\n",
       "    <tr>\n",
       "      <th>3</th>\n",
       "      <td>100037962_47432393712_705583</td>\n",
       "      <td>5623007</td>\n",
       "      <td>700426174_33289797318</td>\n",
       "      <td>start</td>\n",
       "      <td>2017-04-14 16:44:03</td>\n",
       "      <td>Control</td>\n",
       "      <td>False</td>\n",
       "      <td>True</td>\n",
       "    </tr>\n",
       "    <tr>\n",
       "      <th>4</th>\n",
       "      <td>100057941_88477660212_944512</td>\n",
       "      <td>4823947</td>\n",
       "      <td>611052344_43146965242</td>\n",
       "      <td>step_3</td>\n",
       "      <td>2017-04-09 11:34:24</td>\n",
       "      <td>Control</td>\n",
       "      <td>False</td>\n",
       "      <td>True</td>\n",
       "    </tr>\n",
       "    <tr>\n",
       "      <th>...</th>\n",
       "      <td>...</td>\n",
       "      <td>...</td>\n",
       "      <td>...</td>\n",
       "      <td>...</td>\n",
       "      <td>...</td>\n",
       "      <td>...</td>\n",
       "      <td>...</td>\n",
       "      <td>...</td>\n",
       "    </tr>\n",
       "    <tr>\n",
       "      <th>66293</th>\n",
       "      <td>999971096_28827267783_236076</td>\n",
       "      <td>2979920</td>\n",
       "      <td>830229399_73416253406</td>\n",
       "      <td>confirm</td>\n",
       "      <td>2017-04-13 10:34:08</td>\n",
       "      <td>Test</td>\n",
       "      <td>False</td>\n",
       "      <td>False</td>\n",
       "    </tr>\n",
       "    <tr>\n",
       "      <th>66294</th>\n",
       "      <td>999976049_95772503197_182554</td>\n",
       "      <td>4449968</td>\n",
       "      <td>842902495_57580498240</td>\n",
       "      <td>confirm</td>\n",
       "      <td>2017-04-04 13:02:18</td>\n",
       "      <td>Test</td>\n",
       "      <td>False</td>\n",
       "      <td>False</td>\n",
       "    </tr>\n",
       "    <tr>\n",
       "      <th>66295</th>\n",
       "      <td>999984454_18731538378_781808</td>\n",
       "      <td>829911</td>\n",
       "      <td>648229874_89449279372</td>\n",
       "      <td>confirm</td>\n",
       "      <td>2017-03-29 11:21:07</td>\n",
       "      <td>Test</td>\n",
       "      <td>False</td>\n",
       "      <td>False</td>\n",
       "    </tr>\n",
       "    <tr>\n",
       "      <th>66296</th>\n",
       "      <td>999985675_64610694964_443659</td>\n",
       "      <td>4064969</td>\n",
       "      <td>110735946_42614968419</td>\n",
       "      <td>confirm</td>\n",
       "      <td>2017-04-20 10:02:48</td>\n",
       "      <td>Control</td>\n",
       "      <td>False</td>\n",
       "      <td>False</td>\n",
       "    </tr>\n",
       "    <tr>\n",
       "      <th>66297</th>\n",
       "      <td>999988789_76411676596_272843</td>\n",
       "      <td>6627522</td>\n",
       "      <td>730634087_44272418812</td>\n",
       "      <td>start</td>\n",
       "      <td>2017-04-21 23:51:09</td>\n",
       "      <td>Test</td>\n",
       "      <td>False</td>\n",
       "      <td>False</td>\n",
       "    </tr>\n",
       "  </tbody>\n",
       "</table>\n",
       "<p>66298 rows × 8 columns</p>\n",
       "</div>"
      ],
      "text/plain": [
       "                           visit_id client_id             visitor_id  \\\n",
       "0      100012776_37918976071_457913   3561384   451664975_1722933822   \n",
       "1       100019538_17884295066_43909   7338123  612065484_94198474375   \n",
       "2      100030127_47967100085_936361    105007  676020267_36602664238   \n",
       "3      100037962_47432393712_705583   5623007  700426174_33289797318   \n",
       "4      100057941_88477660212_944512   4823947  611052344_43146965242   \n",
       "...                             ...       ...                    ...   \n",
       "66293  999971096_28827267783_236076   2979920  830229399_73416253406   \n",
       "66294  999976049_95772503197_182554   4449968  842902495_57580498240   \n",
       "66295  999984454_18731538378_781808    829911  648229874_89449279372   \n",
       "66296  999985675_64610694964_443659   4064969  110735946_42614968419   \n",
       "66297  999988789_76411676596_272843   6627522  730634087_44272418812   \n",
       "\n",
       "      process_step           date_time variation  bounced  dropped  \n",
       "0          confirm 2017-04-26 13:23:09      Test    False    False  \n",
       "1          confirm 2017-04-09 16:24:58      Test    False    False  \n",
       "2            start 2017-03-22 11:07:49   Control     True     True  \n",
       "3            start 2017-04-14 16:44:03   Control    False     True  \n",
       "4           step_3 2017-04-09 11:34:24   Control    False     True  \n",
       "...            ...                 ...       ...      ...      ...  \n",
       "66293      confirm 2017-04-13 10:34:08      Test    False    False  \n",
       "66294      confirm 2017-04-04 13:02:18      Test    False    False  \n",
       "66295      confirm 2017-03-29 11:21:07      Test    False    False  \n",
       "66296      confirm 2017-04-20 10:02:48   Control    False    False  \n",
       "66297        start 2017-04-21 23:51:09      Test    False    False  \n",
       "\n",
       "[66298 rows x 8 columns]"
      ]
     },
     "execution_count": 78,
     "metadata": {},
     "output_type": "execute_result"
    }
   ],
   "source": [
    "last_visit_step_df['dropped'] = last_visit_step_df['client_id'].isin(dropper_list)\n",
    "last_visit_step_df"
   ]
  },
  {
   "cell_type": "code",
   "execution_count": 79,
   "id": "069cf160",
   "metadata": {},
   "outputs": [],
   "source": [
    "last_visit_demos_df = pd.merge(last_visit_step_df, df_fd, on='client_id')"
   ]
  },
  {
   "cell_type": "code",
   "execution_count": 80,
   "id": "ac0464c3",
   "metadata": {},
   "outputs": [
    {
     "data": {
      "text/html": [
       "<div>\n",
       "<style scoped>\n",
       "    .dataframe tbody tr th:only-of-type {\n",
       "        vertical-align: middle;\n",
       "    }\n",
       "\n",
       "    .dataframe tbody tr th {\n",
       "        vertical-align: top;\n",
       "    }\n",
       "\n",
       "    .dataframe thead th {\n",
       "        text-align: right;\n",
       "    }\n",
       "</style>\n",
       "<table border=\"1\" class=\"dataframe\">\n",
       "  <thead>\n",
       "    <tr style=\"text-align: right;\">\n",
       "      <th></th>\n",
       "      <th>visit_id</th>\n",
       "      <th>client_id</th>\n",
       "      <th>process_step</th>\n",
       "      <th>variation</th>\n",
       "      <th>bounced</th>\n",
       "      <th>dropped</th>\n",
       "      <th>clnt_tenure_yr</th>\n",
       "      <th>gendr</th>\n",
       "      <th>num_accts</th>\n",
       "      <th>bal</th>\n",
       "      <th>calls_6_mnth</th>\n",
       "      <th>logons_6_mnth</th>\n",
       "      <th>clnt_age_range</th>\n",
       "    </tr>\n",
       "  </thead>\n",
       "  <tbody>\n",
       "    <tr>\n",
       "      <th>0</th>\n",
       "      <td>100012776_37918976071_457913</td>\n",
       "      <td>3561384</td>\n",
       "      <td>confirm</td>\n",
       "      <td>Test</td>\n",
       "      <td>False</td>\n",
       "      <td>False</td>\n",
       "      <td>4</td>\n",
       "      <td>U</td>\n",
       "      <td>2</td>\n",
       "      <td>63130.44</td>\n",
       "      <td>6</td>\n",
       "      <td>9</td>\n",
       "      <td>50</td>\n",
       "    </tr>\n",
       "    <tr>\n",
       "      <th>1</th>\n",
       "      <td>368621065_55513134501_466827</td>\n",
       "      <td>3561384</td>\n",
       "      <td>confirm</td>\n",
       "      <td>Test</td>\n",
       "      <td>False</td>\n",
       "      <td>False</td>\n",
       "      <td>4</td>\n",
       "      <td>U</td>\n",
       "      <td>2</td>\n",
       "      <td>63130.44</td>\n",
       "      <td>6</td>\n",
       "      <td>9</td>\n",
       "      <td>50</td>\n",
       "    </tr>\n",
       "    <tr>\n",
       "      <th>2</th>\n",
       "      <td>100019538_17884295066_43909</td>\n",
       "      <td>7338123</td>\n",
       "      <td>confirm</td>\n",
       "      <td>Test</td>\n",
       "      <td>False</td>\n",
       "      <td>False</td>\n",
       "      <td>7</td>\n",
       "      <td>M</td>\n",
       "      <td>2</td>\n",
       "      <td>26436.73</td>\n",
       "      <td>6</td>\n",
       "      <td>9</td>\n",
       "      <td>20</td>\n",
       "    </tr>\n",
       "    <tr>\n",
       "      <th>3</th>\n",
       "      <td>28606036_92275793997_377122</td>\n",
       "      <td>7338123</td>\n",
       "      <td>start</td>\n",
       "      <td>Test</td>\n",
       "      <td>False</td>\n",
       "      <td>False</td>\n",
       "      <td>7</td>\n",
       "      <td>M</td>\n",
       "      <td>2</td>\n",
       "      <td>26436.73</td>\n",
       "      <td>6</td>\n",
       "      <td>9</td>\n",
       "      <td>20</td>\n",
       "    </tr>\n",
       "    <tr>\n",
       "      <th>4</th>\n",
       "      <td>368447127_68040836836_844035</td>\n",
       "      <td>7338123</td>\n",
       "      <td>confirm</td>\n",
       "      <td>Test</td>\n",
       "      <td>False</td>\n",
       "      <td>False</td>\n",
       "      <td>7</td>\n",
       "      <td>M</td>\n",
       "      <td>2</td>\n",
       "      <td>26436.73</td>\n",
       "      <td>6</td>\n",
       "      <td>9</td>\n",
       "      <td>20</td>\n",
       "    </tr>\n",
       "    <tr>\n",
       "      <th>...</th>\n",
       "      <td>...</td>\n",
       "      <td>...</td>\n",
       "      <td>...</td>\n",
       "      <td>...</td>\n",
       "      <td>...</td>\n",
       "      <td>...</td>\n",
       "      <td>...</td>\n",
       "      <td>...</td>\n",
       "      <td>...</td>\n",
       "      <td>...</td>\n",
       "      <td>...</td>\n",
       "      <td>...</td>\n",
       "      <td>...</td>\n",
       "    </tr>\n",
       "    <tr>\n",
       "      <th>66271</th>\n",
       "      <td>999954858_74676709104_879685</td>\n",
       "      <td>9498187</td>\n",
       "      <td>confirm</td>\n",
       "      <td>Test</td>\n",
       "      <td>False</td>\n",
       "      <td>False</td>\n",
       "      <td>5</td>\n",
       "      <td>U</td>\n",
       "      <td>2</td>\n",
       "      <td>31295.49</td>\n",
       "      <td>6</td>\n",
       "      <td>9</td>\n",
       "      <td>20</td>\n",
       "    </tr>\n",
       "    <tr>\n",
       "      <th>66272</th>\n",
       "      <td>999958344_67534252886_39917</td>\n",
       "      <td>8971313</td>\n",
       "      <td>confirm</td>\n",
       "      <td>Test</td>\n",
       "      <td>False</td>\n",
       "      <td>False</td>\n",
       "      <td>7</td>\n",
       "      <td>U</td>\n",
       "      <td>2</td>\n",
       "      <td>46555.07</td>\n",
       "      <td>6</td>\n",
       "      <td>9</td>\n",
       "      <td>20</td>\n",
       "    </tr>\n",
       "    <tr>\n",
       "      <th>66273</th>\n",
       "      <td>999971096_28827267783_236076</td>\n",
       "      <td>2979920</td>\n",
       "      <td>confirm</td>\n",
       "      <td>Test</td>\n",
       "      <td>False</td>\n",
       "      <td>False</td>\n",
       "      <td>11</td>\n",
       "      <td>F</td>\n",
       "      <td>2</td>\n",
       "      <td>83799.17</td>\n",
       "      <td>1</td>\n",
       "      <td>4</td>\n",
       "      <td>20</td>\n",
       "    </tr>\n",
       "    <tr>\n",
       "      <th>66274</th>\n",
       "      <td>999976049_95772503197_182554</td>\n",
       "      <td>4449968</td>\n",
       "      <td>confirm</td>\n",
       "      <td>Test</td>\n",
       "      <td>False</td>\n",
       "      <td>False</td>\n",
       "      <td>21</td>\n",
       "      <td>F</td>\n",
       "      <td>4</td>\n",
       "      <td>124701.46</td>\n",
       "      <td>2</td>\n",
       "      <td>5</td>\n",
       "      <td>50</td>\n",
       "    </tr>\n",
       "    <tr>\n",
       "      <th>66275</th>\n",
       "      <td>999985675_64610694964_443659</td>\n",
       "      <td>4064969</td>\n",
       "      <td>confirm</td>\n",
       "      <td>Control</td>\n",
       "      <td>False</td>\n",
       "      <td>False</td>\n",
       "      <td>6</td>\n",
       "      <td>U</td>\n",
       "      <td>2</td>\n",
       "      <td>74783.76</td>\n",
       "      <td>5</td>\n",
       "      <td>8</td>\n",
       "      <td>60</td>\n",
       "    </tr>\n",
       "  </tbody>\n",
       "</table>\n",
       "<p>66276 rows × 13 columns</p>\n",
       "</div>"
      ],
      "text/plain": [
       "                           visit_id client_id process_step variation  bounced  \\\n",
       "0      100012776_37918976071_457913   3561384      confirm      Test    False   \n",
       "1      368621065_55513134501_466827   3561384      confirm      Test    False   \n",
       "2       100019538_17884295066_43909   7338123      confirm      Test    False   \n",
       "3       28606036_92275793997_377122   7338123        start      Test    False   \n",
       "4      368447127_68040836836_844035   7338123      confirm      Test    False   \n",
       "...                             ...       ...          ...       ...      ...   \n",
       "66271  999954858_74676709104_879685   9498187      confirm      Test    False   \n",
       "66272   999958344_67534252886_39917   8971313      confirm      Test    False   \n",
       "66273  999971096_28827267783_236076   2979920      confirm      Test    False   \n",
       "66274  999976049_95772503197_182554   4449968      confirm      Test    False   \n",
       "66275  999985675_64610694964_443659   4064969      confirm   Control    False   \n",
       "\n",
       "       dropped  clnt_tenure_yr gendr  num_accts       bal  calls_6_mnth  \\\n",
       "0        False               4     U          2  63130.44             6   \n",
       "1        False               4     U          2  63130.44             6   \n",
       "2        False               7     M          2  26436.73             6   \n",
       "3        False               7     M          2  26436.73             6   \n",
       "4        False               7     M          2  26436.73             6   \n",
       "...        ...             ...   ...        ...       ...           ...   \n",
       "66271    False               5     U          2  31295.49             6   \n",
       "66272    False               7     U          2  46555.07             6   \n",
       "66273    False              11     F          2  83799.17             1   \n",
       "66274    False              21     F          4 124701.46             2   \n",
       "66275    False               6     U          2  74783.76             5   \n",
       "\n",
       "       logons_6_mnth clnt_age_range  \n",
       "0                  9             50  \n",
       "1                  9             50  \n",
       "2                  9             20  \n",
       "3                  9             20  \n",
       "4                  9             20  \n",
       "...              ...            ...  \n",
       "66271              9             20  \n",
       "66272              9             20  \n",
       "66273              4             20  \n",
       "66274              5             50  \n",
       "66275              8             60  \n",
       "\n",
       "[66276 rows x 13 columns]"
      ]
     },
     "execution_count": 80,
     "metadata": {},
     "output_type": "execute_result"
    }
   ],
   "source": [
    "last_visit_demos_df.drop(columns = ['clnt_tenure_mnth','clnt_age','visitor_id','date_time'], inplace=True)\n",
    "last_visit_demos_df"
   ]
  },
  {
   "cell_type": "code",
   "execution_count": 81,
   "id": "a8c9eaac",
   "metadata": {},
   "outputs": [
    {
     "data": {
      "text/plain": [
       "Index(['visit_id', 'client_id', 'process_step', 'variation', 'bounced',\n",
       "       'dropped', 'clnt_tenure_yr', 'gendr', 'num_accts', 'bal',\n",
       "       'calls_6_mnth', 'logons_6_mnth', 'clnt_age_range'],\n",
       "      dtype='object')"
      ]
     },
     "execution_count": 81,
     "metadata": {},
     "output_type": "execute_result"
    }
   ],
   "source": [
    "last_visit_demos_df.columns"
   ]
  },
  {
   "cell_type": "code",
   "execution_count": 82,
   "id": "abaeccaf",
   "metadata": {},
   "outputs": [],
   "source": [
    "columns = ['client_id','visit_id','variation','gendr','clnt_age_range','clnt_tenure_yr', 'num_accts', 'bal', 'calls_6_mnth', 'logons_6_mnth','process_step','bounced','dropped']\n",
    "last_visit_demos_df = last_visit_demos_df[columns]"
   ]
  },
  {
   "cell_type": "code",
   "execution_count": 83,
   "id": "dbae831f",
   "metadata": {},
   "outputs": [],
   "source": [
    "last_visit_demos_df.rename(columns={'gendr': 'gender','process_step':'last_process_step'}, inplace=True)"
   ]
  },
  {
   "cell_type": "code",
   "execution_count": 84,
   "id": "533f124c",
   "metadata": {},
   "outputs": [
    {
     "data": {
      "text/html": [
       "<div>\n",
       "<style scoped>\n",
       "    .dataframe tbody tr th:only-of-type {\n",
       "        vertical-align: middle;\n",
       "    }\n",
       "\n",
       "    .dataframe tbody tr th {\n",
       "        vertical-align: top;\n",
       "    }\n",
       "\n",
       "    .dataframe thead th {\n",
       "        text-align: right;\n",
       "    }\n",
       "</style>\n",
       "<table border=\"1\" class=\"dataframe\">\n",
       "  <thead>\n",
       "    <tr style=\"text-align: right;\">\n",
       "      <th></th>\n",
       "      <th>client_id</th>\n",
       "      <th>visit_id</th>\n",
       "      <th>variation</th>\n",
       "      <th>gender</th>\n",
       "      <th>clnt_age_range</th>\n",
       "      <th>clnt_tenure_yr</th>\n",
       "      <th>num_accts</th>\n",
       "      <th>bal</th>\n",
       "      <th>calls_6_mnth</th>\n",
       "      <th>logons_6_mnth</th>\n",
       "      <th>last_process_step</th>\n",
       "      <th>bounced</th>\n",
       "      <th>dropped</th>\n",
       "    </tr>\n",
       "  </thead>\n",
       "  <tbody>\n",
       "    <tr>\n",
       "      <th>0</th>\n",
       "      <td>3561384</td>\n",
       "      <td>100012776_37918976071_457913</td>\n",
       "      <td>Test</td>\n",
       "      <td>U</td>\n",
       "      <td>50</td>\n",
       "      <td>4</td>\n",
       "      <td>2</td>\n",
       "      <td>63130.44</td>\n",
       "      <td>6</td>\n",
       "      <td>9</td>\n",
       "      <td>confirm</td>\n",
       "      <td>False</td>\n",
       "      <td>False</td>\n",
       "    </tr>\n",
       "    <tr>\n",
       "      <th>1</th>\n",
       "      <td>3561384</td>\n",
       "      <td>368621065_55513134501_466827</td>\n",
       "      <td>Test</td>\n",
       "      <td>U</td>\n",
       "      <td>50</td>\n",
       "      <td>4</td>\n",
       "      <td>2</td>\n",
       "      <td>63130.44</td>\n",
       "      <td>6</td>\n",
       "      <td>9</td>\n",
       "      <td>confirm</td>\n",
       "      <td>False</td>\n",
       "      <td>False</td>\n",
       "    </tr>\n",
       "    <tr>\n",
       "      <th>2</th>\n",
       "      <td>7338123</td>\n",
       "      <td>100019538_17884295066_43909</td>\n",
       "      <td>Test</td>\n",
       "      <td>M</td>\n",
       "      <td>20</td>\n",
       "      <td>7</td>\n",
       "      <td>2</td>\n",
       "      <td>26436.73</td>\n",
       "      <td>6</td>\n",
       "      <td>9</td>\n",
       "      <td>confirm</td>\n",
       "      <td>False</td>\n",
       "      <td>False</td>\n",
       "    </tr>\n",
       "    <tr>\n",
       "      <th>3</th>\n",
       "      <td>7338123</td>\n",
       "      <td>28606036_92275793997_377122</td>\n",
       "      <td>Test</td>\n",
       "      <td>M</td>\n",
       "      <td>20</td>\n",
       "      <td>7</td>\n",
       "      <td>2</td>\n",
       "      <td>26436.73</td>\n",
       "      <td>6</td>\n",
       "      <td>9</td>\n",
       "      <td>start</td>\n",
       "      <td>False</td>\n",
       "      <td>False</td>\n",
       "    </tr>\n",
       "    <tr>\n",
       "      <th>4</th>\n",
       "      <td>7338123</td>\n",
       "      <td>368447127_68040836836_844035</td>\n",
       "      <td>Test</td>\n",
       "      <td>M</td>\n",
       "      <td>20</td>\n",
       "      <td>7</td>\n",
       "      <td>2</td>\n",
       "      <td>26436.73</td>\n",
       "      <td>6</td>\n",
       "      <td>9</td>\n",
       "      <td>confirm</td>\n",
       "      <td>False</td>\n",
       "      <td>False</td>\n",
       "    </tr>\n",
       "    <tr>\n",
       "      <th>...</th>\n",
       "      <td>...</td>\n",
       "      <td>...</td>\n",
       "      <td>...</td>\n",
       "      <td>...</td>\n",
       "      <td>...</td>\n",
       "      <td>...</td>\n",
       "      <td>...</td>\n",
       "      <td>...</td>\n",
       "      <td>...</td>\n",
       "      <td>...</td>\n",
       "      <td>...</td>\n",
       "      <td>...</td>\n",
       "      <td>...</td>\n",
       "    </tr>\n",
       "    <tr>\n",
       "      <th>66271</th>\n",
       "      <td>9498187</td>\n",
       "      <td>999954858_74676709104_879685</td>\n",
       "      <td>Test</td>\n",
       "      <td>U</td>\n",
       "      <td>20</td>\n",
       "      <td>5</td>\n",
       "      <td>2</td>\n",
       "      <td>31295.49</td>\n",
       "      <td>6</td>\n",
       "      <td>9</td>\n",
       "      <td>confirm</td>\n",
       "      <td>False</td>\n",
       "      <td>False</td>\n",
       "    </tr>\n",
       "    <tr>\n",
       "      <th>66272</th>\n",
       "      <td>8971313</td>\n",
       "      <td>999958344_67534252886_39917</td>\n",
       "      <td>Test</td>\n",
       "      <td>U</td>\n",
       "      <td>20</td>\n",
       "      <td>7</td>\n",
       "      <td>2</td>\n",
       "      <td>46555.07</td>\n",
       "      <td>6</td>\n",
       "      <td>9</td>\n",
       "      <td>confirm</td>\n",
       "      <td>False</td>\n",
       "      <td>False</td>\n",
       "    </tr>\n",
       "    <tr>\n",
       "      <th>66273</th>\n",
       "      <td>2979920</td>\n",
       "      <td>999971096_28827267783_236076</td>\n",
       "      <td>Test</td>\n",
       "      <td>F</td>\n",
       "      <td>20</td>\n",
       "      <td>11</td>\n",
       "      <td>2</td>\n",
       "      <td>83799.17</td>\n",
       "      <td>1</td>\n",
       "      <td>4</td>\n",
       "      <td>confirm</td>\n",
       "      <td>False</td>\n",
       "      <td>False</td>\n",
       "    </tr>\n",
       "    <tr>\n",
       "      <th>66274</th>\n",
       "      <td>4449968</td>\n",
       "      <td>999976049_95772503197_182554</td>\n",
       "      <td>Test</td>\n",
       "      <td>F</td>\n",
       "      <td>50</td>\n",
       "      <td>21</td>\n",
       "      <td>4</td>\n",
       "      <td>124701.46</td>\n",
       "      <td>2</td>\n",
       "      <td>5</td>\n",
       "      <td>confirm</td>\n",
       "      <td>False</td>\n",
       "      <td>False</td>\n",
       "    </tr>\n",
       "    <tr>\n",
       "      <th>66275</th>\n",
       "      <td>4064969</td>\n",
       "      <td>999985675_64610694964_443659</td>\n",
       "      <td>Control</td>\n",
       "      <td>U</td>\n",
       "      <td>60</td>\n",
       "      <td>6</td>\n",
       "      <td>2</td>\n",
       "      <td>74783.76</td>\n",
       "      <td>5</td>\n",
       "      <td>8</td>\n",
       "      <td>confirm</td>\n",
       "      <td>False</td>\n",
       "      <td>False</td>\n",
       "    </tr>\n",
       "  </tbody>\n",
       "</table>\n",
       "<p>66276 rows × 13 columns</p>\n",
       "</div>"
      ],
      "text/plain": [
       "      client_id                      visit_id variation gender clnt_age_range  \\\n",
       "0       3561384  100012776_37918976071_457913      Test      U             50   \n",
       "1       3561384  368621065_55513134501_466827      Test      U             50   \n",
       "2       7338123   100019538_17884295066_43909      Test      M             20   \n",
       "3       7338123   28606036_92275793997_377122      Test      M             20   \n",
       "4       7338123  368447127_68040836836_844035      Test      M             20   \n",
       "...         ...                           ...       ...    ...            ...   \n",
       "66271   9498187  999954858_74676709104_879685      Test      U             20   \n",
       "66272   8971313   999958344_67534252886_39917      Test      U             20   \n",
       "66273   2979920  999971096_28827267783_236076      Test      F             20   \n",
       "66274   4449968  999976049_95772503197_182554      Test      F             50   \n",
       "66275   4064969  999985675_64610694964_443659   Control      U             60   \n",
       "\n",
       "       clnt_tenure_yr  num_accts       bal  calls_6_mnth  logons_6_mnth  \\\n",
       "0                   4          2  63130.44             6              9   \n",
       "1                   4          2  63130.44             6              9   \n",
       "2                   7          2  26436.73             6              9   \n",
       "3                   7          2  26436.73             6              9   \n",
       "4                   7          2  26436.73             6              9   \n",
       "...               ...        ...       ...           ...            ...   \n",
       "66271               5          2  31295.49             6              9   \n",
       "66272               7          2  46555.07             6              9   \n",
       "66273              11          2  83799.17             1              4   \n",
       "66274              21          4 124701.46             2              5   \n",
       "66275               6          2  74783.76             5              8   \n",
       "\n",
       "      last_process_step  bounced  dropped  \n",
       "0               confirm    False    False  \n",
       "1               confirm    False    False  \n",
       "2               confirm    False    False  \n",
       "3                 start    False    False  \n",
       "4               confirm    False    False  \n",
       "...                 ...      ...      ...  \n",
       "66271           confirm    False    False  \n",
       "66272           confirm    False    False  \n",
       "66273           confirm    False    False  \n",
       "66274           confirm    False    False  \n",
       "66275           confirm    False    False  \n",
       "\n",
       "[66276 rows x 13 columns]"
      ]
     },
     "execution_count": 84,
     "metadata": {},
     "output_type": "execute_result"
    }
   ],
   "source": [
    "last_visit_demos_df"
   ]
  },
  {
   "cell_type": "code",
   "execution_count": 85,
   "id": "8a855bec",
   "metadata": {},
   "outputs": [],
   "source": [
    "# Mapping steps to ordinal values \n",
    "step_mapping = { 'start': 0, 'step_1': 1, 'step_2': 2, 'step_3': 3, 'confirm': 4 }\n",
    "# Apply the mapping \n",
    "last_visit_demos_df['step_ordinal'] = last_visit_demos_df['last_process_step'].map(step_mapping)"
   ]
  },
  {
   "cell_type": "code",
   "execution_count": 86,
   "id": "612892bb",
   "metadata": {},
   "outputs": [
    {
     "data": {
      "text/plain": [
       "array([ 4,  7,  9, 16, 12, 21, 10, 11,  6, 17, 29,  3,  8, 13, 25,  5, 18,\n",
       "       15, 28, 14, 30, 19, 34, 27, 20, 23, 24, 26, 22, 35, 48, 38, 31, 33,\n",
       "       32,  2, 46, 37, 45, 36, 42, 40, 43, 47, 50, 39, 51, 55, 41, 49, 54,\n",
       "       52, 44])"
      ]
     },
     "execution_count": 86,
     "metadata": {},
     "output_type": "execute_result"
    }
   ],
   "source": [
    "last_visit_demos_df['clnt_tenure_yr'].unique()"
   ]
  },
  {
   "cell_type": "code",
   "execution_count": 87,
   "id": "3dcb489b",
   "metadata": {},
   "outputs": [
    {
     "data": {
      "text/plain": [
       "LeveneResult(statistic=0.2451236287635694, pvalue=0.86485413804996)"
      ]
     },
     "execution_count": 87,
     "metadata": {},
     "output_type": "execute_result"
    }
   ],
   "source": [
    "# Dylan step ordinal - does client tenure impact how far they get\n",
    "\n",
    "clnt_tenure_yr_sor1 = last_visit_demos_df[last_visit_demos_df['clnt_tenure_yr'] <= 20]['step_ordinal']\n",
    "clnt_tenure_yr_sor2 = last_visit_demos_df[(last_visit_demos_df['clnt_tenure_yr'] > 20) & ((last_visit_demos_df['clnt_tenure_yr'] <= 30))]['step_ordinal']\n",
    "clnt_tenure_yr_sor3 = last_visit_demos_df[(last_visit_demos_df['clnt_tenure_yr'] > 30) & ((last_visit_demos_df['clnt_tenure_yr'] <= 40))]['step_ordinal']\n",
    "clnt_tenure_yr_sor4 = last_visit_demos_df[(last_visit_demos_df['clnt_tenure_yr'] > 40)]['step_ordinal']\n",
    "\n",
    "st.levene(clnt_tenure_yr_sor1, clnt_tenure_yr_sor2, clnt_tenure_yr_sor3, clnt_tenure_yr_sor4)\n",
    "\n"
   ]
  },
  {
   "cell_type": "code",
   "execution_count": 88,
   "id": "81fd7efa",
   "metadata": {},
   "outputs": [
    {
     "data": {
      "text/plain": [
       "F_onewayResult(statistic=0.24512362876357047, pvalue=0.86485413804996)"
      ]
     },
     "execution_count": 88,
     "metadata": {},
     "output_type": "execute_result"
    }
   ],
   "source": [
    "# if the sig number is 0.05 then the client tenure affects step ordinal a little\n",
    "st.f_oneway(clnt_tenure_yr_sor1, clnt_tenure_yr_sor2, clnt_tenure_yr_sor3, clnt_tenure_yr_sor4)"
   ]
  },
  {
   "cell_type": "code",
   "execution_count": 89,
   "id": "057de7db",
   "metadata": {},
   "outputs": [
    {
     "data": {
      "text/plain": [
       "LeveneResult(statistic=1.2236065584591462, pvalue=0.29928276509443386)"
      ]
     },
     "execution_count": 89,
     "metadata": {},
     "output_type": "execute_result"
    }
   ],
   "source": [
    "# Dylan bounced - does client tenure impact how far they get\n",
    "\n",
    "clnt_tenure_yr_br1 = last_visit_demos_df[last_visit_demos_df['clnt_tenure_yr'] <= 20]['bounced']\n",
    "clnt_tenure_yr_br2 = last_visit_demos_df[(last_visit_demos_df['clnt_tenure_yr'] > 20) & ((last_visit_demos_df['clnt_tenure_yr'] <= 30))]['bounced']\n",
    "clnt_tenure_yr_br3 = last_visit_demos_df[(last_visit_demos_df['clnt_tenure_yr'] > 30) & ((last_visit_demos_df['clnt_tenure_yr'] <= 40))]['bounced']\n",
    "clnt_tenure_yr_br4 = last_visit_demos_df[(last_visit_demos_df['clnt_tenure_yr'] > 40)]['bounced']\n",
    "\n",
    "st.levene(clnt_tenure_yr_br1, clnt_tenure_yr_br2, clnt_tenure_yr_br3, clnt_tenure_yr_br4)\n",
    "\n"
   ]
  },
  {
   "cell_type": "code",
   "execution_count": 90,
   "id": "23abb025",
   "metadata": {},
   "outputs": [
    {
     "data": {
      "text/plain": [
       "F_onewayResult(statistic=1.2236065584591456, pvalue=0.29928276509443386)"
      ]
     },
     "execution_count": 90,
     "metadata": {},
     "output_type": "execute_result"
    }
   ],
   "source": [
    "# if the sig number is 0.05 then the client tenure affects bounced a little\n",
    "st.f_oneway(clnt_tenure_yr_br1, clnt_tenure_yr_br2, clnt_tenure_yr_br3, clnt_tenure_yr_br4)"
   ]
  },
  {
   "cell_type": "code",
   "execution_count": 91,
   "id": "90448899",
   "metadata": {},
   "outputs": [
    {
     "data": {
      "text/plain": [
       "LeveneResult(statistic=6.79681429934265, pvalue=0.0001410780247743169)"
      ]
     },
     "execution_count": 91,
     "metadata": {},
     "output_type": "execute_result"
    }
   ],
   "source": [
    "# Dylan dropped -  does client tenure impact how far they get\n",
    "\n",
    "clnt_tenure_yr_dr1 = last_visit_demos_df[last_visit_demos_df['clnt_tenure_yr'] <= 20]['dropped']\n",
    "clnt_tenure_yr_dr2 = last_visit_demos_df[(last_visit_demos_df['clnt_tenure_yr'] > 20) & ((last_visit_demos_df['clnt_tenure_yr'] <= 30))]['dropped']\n",
    "clnt_tenure_yr_dr3 = last_visit_demos_df[(last_visit_demos_df['clnt_tenure_yr'] > 30) & ((last_visit_demos_df['clnt_tenure_yr'] <= 40))]['dropped']\n",
    "clnt_tenure_yr_dr4 = last_visit_demos_df[(last_visit_demos_df['clnt_tenure_yr'] > 40)]['dropped']\n",
    "\n",
    "st.levene(clnt_tenure_yr_dr1, clnt_tenure_yr_dr2, clnt_tenure_yr_dr3, clnt_tenure_yr_dr4)\n"
   ]
  },
  {
   "cell_type": "code",
   "execution_count": 92,
   "id": "124d00c6",
   "metadata": {},
   "outputs": [
    {
     "data": {
      "text/plain": [
       "F_onewayResult(statistic=6.796814299342644, pvalue=0.0001410780247743169)"
      ]
     },
     "execution_count": 92,
     "metadata": {},
     "output_type": "execute_result"
    }
   ],
   "source": [
    "# if the sig number is 0.05 then the client tenure does affect dropped \n",
    "\n",
    "st.f_oneway(clnt_tenure_yr_dr1, clnt_tenure_yr_dr2, clnt_tenure_yr_dr3, clnt_tenure_yr_dr4)"
   ]
  },
  {
   "cell_type": "code",
   "execution_count": 93,
   "id": "b5282d5d",
   "metadata": {},
   "outputs": [
    {
     "data": {
      "text/plain": [
       "array([6, 3, 5, 2, 1, 4, 0])"
      ]
     },
     "execution_count": 93,
     "metadata": {},
     "output_type": "execute_result"
    }
   ],
   "source": [
    "last_visit_demos_df['calls_6_mnth'].unique()"
   ]
  },
  {
   "cell_type": "code",
   "execution_count": 94,
   "id": "d9b579be",
   "metadata": {},
   "outputs": [
    {
     "data": {
      "text/plain": [
       "LeveneResult(statistic=28.072960241630454, pvalue=1.067934497179742e-33)"
      ]
     },
     "execution_count": 94,
     "metadata": {},
     "output_type": "execute_result"
    }
   ],
   "source": [
    "# Dylan step_ordinal -  does call_6_month impact how far they get\n",
    "\n",
    "call_df0 = last_visit_demos_df[last_visit_demos_df['calls_6_mnth'] == 0]['step_ordinal']\n",
    "call_df1 = last_visit_demos_df[last_visit_demos_df['calls_6_mnth'] == 1]['step_ordinal']\n",
    "call_df2 = last_visit_demos_df[last_visit_demos_df['calls_6_mnth'] == 2]['step_ordinal']\n",
    "call_df3 = last_visit_demos_df[last_visit_demos_df['calls_6_mnth'] == 3]['step_ordinal']\n",
    "call_df4 = last_visit_demos_df[last_visit_demos_df['calls_6_mnth'] == 4]['step_ordinal']\n",
    "call_df5 = last_visit_demos_df[last_visit_demos_df['calls_6_mnth'] == 5]['step_ordinal']\n",
    "call_df6 = last_visit_demos_df[last_visit_demos_df['calls_6_mnth'] == 6]['step_ordinal']\n",
    "\n",
    "\n",
    "st.levene(call_df0, call_df1, call_df2, call_df3, call_df4, call_df5, call_df6)\n"
   ]
  },
  {
   "cell_type": "code",
   "execution_count": 95,
   "id": "2bed5bd0",
   "metadata": {},
   "outputs": [
    {
     "data": {
      "text/plain": [
       "F_onewayResult(statistic=21.06879968776235, pvalue=7.737017094901852e-25)"
      ]
     },
     "execution_count": 95,
     "metadata": {},
     "output_type": "execute_result"
    }
   ],
   "source": [
    "# if the sig number is 0.05 then the call_6_month does affect step_ordinal by a lot\n",
    "\n",
    "st.f_oneway(call_df0, call_df1, call_df2, call_df3, call_df4, call_df5, call_df6)"
   ]
  },
  {
   "cell_type": "code",
   "execution_count": 96,
   "id": "eab353f9",
   "metadata": {},
   "outputs": [
    {
     "data": {
      "text/plain": [
       "LeveneResult(statistic=19.381303157465663, pvalue=1.027970911359722e-22)"
      ]
     },
     "execution_count": 96,
     "metadata": {},
     "output_type": "execute_result"
    }
   ],
   "source": [
    "# Dylan bounced -  does call_6_month impact how far they get\n",
    "\n",
    "call_dfb0 = last_visit_demos_df[last_visit_demos_df['calls_6_mnth'] == 0]['bounced']\n",
    "call_dfb1 = last_visit_demos_df[last_visit_demos_df['calls_6_mnth'] == 1]['bounced']\n",
    "call_dfb2 = last_visit_demos_df[last_visit_demos_df['calls_6_mnth'] == 2]['bounced']\n",
    "call_dfb3 = last_visit_demos_df[last_visit_demos_df['calls_6_mnth'] == 3]['bounced']\n",
    "call_dfb4 = last_visit_demos_df[last_visit_demos_df['calls_6_mnth'] == 4]['bounced']\n",
    "call_dfb5 = last_visit_demos_df[last_visit_demos_df['calls_6_mnth'] == 5]['bounced']\n",
    "call_dfb6 = last_visit_demos_df[last_visit_demos_df['calls_6_mnth'] == 6]['bounced']\n",
    "\n",
    "st.levene(call_dfb0, call_dfb1, call_dfb2, call_dfb3, call_dfb4, call_dfb5, call_dfb6)\n"
   ]
  },
  {
   "cell_type": "code",
   "execution_count": 97,
   "id": "6000cc45",
   "metadata": {},
   "outputs": [
    {
     "data": {
      "text/plain": [
       "F_onewayResult(statistic=19.38130315746565, pvalue=1.027970911359722e-22)"
      ]
     },
     "execution_count": 97,
     "metadata": {},
     "output_type": "execute_result"
    }
   ],
   "source": [
    "# if the sig number is 0.05 then the call_6_month does affect bounced\n",
    "\n",
    "st.f_oneway(call_dfb0, call_dfb1, call_dfb2, call_dfb3, call_dfb4, call_dfb5, call_dfb6)"
   ]
  },
  {
   "cell_type": "code",
   "execution_count": 98,
   "id": "3a144270",
   "metadata": {},
   "outputs": [
    {
     "data": {
      "text/plain": [
       "LeveneResult(statistic=17.431898398174372, pvalue=2.866475655662848e-20)"
      ]
     },
     "execution_count": 98,
     "metadata": {},
     "output_type": "execute_result"
    }
   ],
   "source": [
    "# Dylan dropped -  does call_6_month impact how far they get\n",
    "\n",
    "call_dfd0 = last_visit_demos_df[last_visit_demos_df['calls_6_mnth'] == 0]['dropped']\n",
    "call_dfd1 = last_visit_demos_df[last_visit_demos_df['calls_6_mnth'] == 1]['dropped']\n",
    "call_dfd2 = last_visit_demos_df[last_visit_demos_df['calls_6_mnth'] == 2]['dropped']\n",
    "call_dfd3 = last_visit_demos_df[last_visit_demos_df['calls_6_mnth'] == 3]['dropped']\n",
    "call_dfd4 = last_visit_demos_df[last_visit_demos_df['calls_6_mnth'] == 4]['dropped']\n",
    "call_dfd5 = last_visit_demos_df[last_visit_demos_df['calls_6_mnth'] == 5]['dropped']\n",
    "call_dfd6 = last_visit_demos_df[last_visit_demos_df['calls_6_mnth'] == 6]['dropped']\n",
    "\n",
    "st.levene(call_dfd0, call_dfd1, call_dfd2, call_dfd3, call_dfd4, call_dfd5, call_dfd6)"
   ]
  },
  {
   "cell_type": "code",
   "execution_count": 99,
   "id": "9efddc0d",
   "metadata": {},
   "outputs": [
    {
     "data": {
      "text/plain": [
       "F_onewayResult(statistic=17.431898398174372, pvalue=2.866475655662848e-20)"
      ]
     },
     "execution_count": 99,
     "metadata": {},
     "output_type": "execute_result"
    }
   ],
   "source": [
    "# if the sig number is 0.05 then the call_6_month does affect dropped\n",
    "\n",
    "st.f_oneway(call_dfd0, call_dfd1, call_dfd2, call_dfd3, call_dfd4, call_dfd5, call_dfd6)"
   ]
  },
  {
   "cell_type": "code",
   "execution_count": 100,
   "id": "e473f98f",
   "metadata": {},
   "outputs": [
    {
     "data": {
      "text/plain": [
       "16320040.15"
      ]
     },
     "execution_count": 100,
     "metadata": {},
     "output_type": "execute_result"
    }
   ],
   "source": [
    "last_visit_demos_df['bal'].unique().max()\n"
   ]
  },
  {
   "cell_type": "code",
   "execution_count": 101,
   "id": "69afd970",
   "metadata": {},
   "outputs": [
    {
     "name": "stderr",
     "output_type": "stream",
     "text": [
      "c:\\Users\\dylan\\anaconda3\\Lib\\site-packages\\numpy\\core\\fromnumeric.py:3504: RuntimeWarning: Mean of empty slice.\n",
      "  return _methods._mean(a, axis=axis, dtype=dtype,\n",
      "c:\\Users\\dylan\\anaconda3\\Lib\\site-packages\\numpy\\core\\_methods.py:129: RuntimeWarning: invalid value encountered in scalar divide\n",
      "  ret = ret.dtype.type(ret / rcount)\n"
     ]
    },
    {
     "data": {
      "text/plain": [
       "LeveneResult(statistic=nan, pvalue=nan)"
      ]
     },
     "execution_count": 101,
     "metadata": {},
     "output_type": "execute_result"
    }
   ],
   "source": [
    "# Dylan step ordinal - does balance impact how far they get\n",
    "\n",
    "bal_str1 = last_visit_demos_df[(last_visit_demos_df['bal'] >= 23789.44) & (last_visit_demos_df['bal'] < 23789.44)]['step_ordinal']\n",
    "bal_str2 = last_visit_demos_df[(last_visit_demos_df['bal'] > 20) & ((last_visit_demos_df['clnt_tenure_yr'] <= 30))]['step_ordinal']\n",
    "bal_str3 = last_visit_demos_df[(last_visit_demos_df['bal'] > 30) & ((last_visit_demos_df['clnt_tenure_yr'] <= 40))]['step_ordinal']\n",
    "bal_str4 = last_visit_demos_df[(last_visit_demos_df['bal'] > 40)]['step_ordinal']\n",
    "\n",
    "st.levene(bal_str1, bal_str2, bal_str3, bal_str4)"
   ]
  },
  {
   "cell_type": "code",
   "execution_count": 102,
   "id": "aa1687aa",
   "metadata": {},
   "outputs": [
    {
     "name": "stderr",
     "output_type": "stream",
     "text": [
      "c:\\Users\\dylan\\anaconda3\\Lib\\site-packages\\scipy\\stats\\_stats_py.py:4133: DegenerateDataWarning: at least one input has length 0\n",
      "  warnings.warn(stats.DegenerateDataWarning('at least one input '\n"
     ]
    },
    {
     "data": {
      "text/plain": [
       "F_onewayResult(statistic=nan, pvalue=nan)"
      ]
     },
     "execution_count": 102,
     "metadata": {},
     "output_type": "execute_result"
    }
   ],
   "source": [
    "# if the sig number is 0.05 then the client tenure doesn't affect dropped \n",
    "\n",
    "st.f_oneway(bal_str1, bal_str2, bal_str3, bal_str4)"
   ]
  },
  {
   "cell_type": "markdown",
   "id": "a668c104",
   "metadata": {},
   "source": [
    "# Saves Data to different csv files\n",
    "usa_data.to_csv('usa_data_finished.csv', index=False)\n",
    "latin_data.to_csv('latin_data_finished.csv', index=False)\n",
    "latin_north_data.to_csv('latin_north_data.csv', index=False)"
   ]
  }
 ],
 "metadata": {
  "kernelspec": {
   "display_name": "Python 3 (ipykernel)",
   "language": "python",
   "name": "python3"
  },
  "language_info": {
   "codemirror_mode": {
    "name": "ipython",
    "version": 3
   },
   "file_extension": ".py",
   "mimetype": "text/x-python",
   "name": "python",
   "nbconvert_exporter": "python",
   "pygments_lexer": "ipython3",
   "version": "3.11.7"
  }
 },
 "nbformat": 4,
 "nbformat_minor": 5
}
